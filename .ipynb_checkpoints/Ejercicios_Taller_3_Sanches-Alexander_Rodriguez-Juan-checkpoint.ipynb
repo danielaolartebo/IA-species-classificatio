{
 "cells": [
  {
   "cell_type": "markdown",
   "id": "f16e292b",
   "metadata": {},
   "source": [
    "# Taller 3 Ejercicios"
   ]
  },
  {
   "cell_type": "markdown",
   "id": "ce21ff3d",
   "metadata": {},
   "source": [
    "## Juan Sebastian Rodriguez Salazar A00365843\n",
    "\n",
    "\n",
    "## Alexander Sanchez  A00368238"
   ]
  },
  {
   "cell_type": "markdown",
   "id": "a2242969",
   "metadata": {},
   "source": [
    "## **Ejercicio 1.**\n",
    "\n",
    "Para el conjunto de datos iris, ¿cuál sería la exactitud (accuracy) de línea base (baseline)?"
   ]
  },
  {
   "cell_type": "markdown",
   "id": "3e9667b9",
   "metadata": {},
   "source": [
    "#### Respuesta\n",
    "\n",
    "Pudimos evidenciar que para el set de datos de entrenamiento la presición obtenida fue de un 98%. Valor que se repite con el conjunto de datos de prueba."
   ]
  },
  {
   "cell_type": "markdown",
   "id": "f8f844d6",
   "metadata": {},
   "source": [
    "## **Ejercicio 2.**\n",
    "\n",
    "Para la función metrics.classification_report consulte qué representan los valores entregados."
   ]
  },
  {
   "cell_type": "markdown",
   "id": "0238300e",
   "metadata": {},
   "source": [
    "#### Respuesta\n",
    "\n",
    "Encontramos que en la funcion metrics.classification_repor lo que nos indica son algunas metricas por defecto o basicas para un modelo de IA, Algunas de estas son:\n",
    "\n",
    "+ presicion\n",
    "\n",
    "+ recall\n",
    "\n",
    "+ f1-score\n",
    "\n",
    "+ support"
   ]
  },
  {
   "cell_type": "code",
   "execution_count": 2,
   "id": "9267dffc",
   "metadata": {},
   "outputs": [],
   "source": [
    "#Vamos a importar las librerías que vamos a utilizar.\n",
    "\n",
    "import pandas as pd                #Importamos la librería pandas. Nos va a servir para leer y manipular conjuntos de datos tabulares.\n",
    "import matplotlib.pyplot as plt    #Importamos pyplot de librería matplotlib. Lo vamos a utilizar para graficar.\n",
    "import seaborn as sns              #Importamos la librería Seaborn. La vamos a utilizar para graficar.\n",
    "import numpy as np                 #Importamos la librería numpy para manipular arreglos. \n",
    "#from google.colab import files     #Esta librería nos sirve para cargar archivos desde el disco duro.\n",
    "\n",
    "from sklearn.model_selection import train_test_split #Útil para dividir los conjuntos de datos. \n",
    "from sklearn.preprocessing import MinMaxScaler       #Útil para escalar los atributos de entrada.\n",
    "from sklearn import neighbors  #Permite usar KNN.\n",
    "from sklearn import metrics    #Permite calcular algunas métricas de desempeño.\n",
    "\n",
    "from copy import deepcopy      #Permite hacer copias profundas. \n",
    "\n",
    "import matplotlib as mlt"
   ]
  },
  {
   "cell_type": "code",
   "execution_count": 3,
   "id": "2f65f383",
   "metadata": {},
   "outputs": [],
   "source": [
    "df = pd.read_csv('iris.csv')"
   ]
  },
  {
   "cell_type": "code",
   "execution_count": 4,
   "id": "835826a1",
   "metadata": {},
   "outputs": [],
   "source": [
    "#Nombre de la salida deseada:\n",
    "nombre_de_la_variable_de_salida='Species' \n",
    "\n",
    "#Nombre de los posibles atributos de entrada:\n",
    "# 'SepalLengthCm'\n",
    "# 'SepalWidthCm'\n",
    "# 'PetalLengthCm'\n",
    "# 'PetalWidthCm'\n",
    "\n",
    "#En este primer ejemplo vamos a utilizar 4 variables:\n",
    "nombre_de_las_variables_de_entrada = ['SepalLengthCm','SepalWidthCm','PetalLengthCm','PetalWidthCm']"
   ]
  },
  {
   "cell_type": "code",
   "execution_count": 5,
   "id": "7bfe60c2",
   "metadata": {},
   "outputs": [
    {
     "name": "stdout",
     "output_type": "stream",
     "text": [
      "Nombres de las nuevas columnas:  ['Iris-setosa', 'Iris-versicolor', 'Iris-virginica'] \n",
      "\n",
      "Dataframe de salida:\n",
      "     Iris-setosa  Iris-versicolor  Iris-virginica\n",
      "0              1                0               0\n",
      "1              1                0               0\n",
      "2              1                0               0\n",
      "3              1                0               0\n",
      "4              1                0               0\n",
      "..           ...              ...             ...\n",
      "145            0                0               1\n",
      "146            0                0               1\n",
      "147            0                0               1\n",
      "148            0                0               1\n",
      "149            0                0               1\n",
      "\n",
      "[150 rows x 3 columns]\n",
      "\n",
      "Dataframe de entrada:\n",
      "     SepalLengthCm  SepalWidthCm  PetalLengthCm  PetalWidthCm\n",
      "0              5.1           3.5            1.4           0.2\n",
      "1              4.9           3.0            1.4           0.2\n",
      "2              4.7           3.2            1.3           0.2\n",
      "3              4.6           3.1            1.5           0.2\n",
      "4              5.0           3.6            1.4           0.2\n",
      "..             ...           ...            ...           ...\n",
      "145            6.7           3.0            5.2           2.3\n",
      "146            6.3           2.5            5.0           1.9\n",
      "147            6.5           3.0            5.2           2.0\n",
      "148            6.2           3.4            5.4           2.3\n",
      "149            5.9           3.0            5.1           1.8\n",
      "\n",
      "[150 rows x 4 columns]\n"
     ]
    }
   ],
   "source": [
    "df_y = pd.get_dummies(df[nombre_de_la_variable_de_salida])\n",
    "nombres_de_las_variables_de_salida = df_y.columns.to_list()\n",
    "print('Nombres de las nuevas columnas: ',nombres_de_las_variables_de_salida,'\\n')\n",
    "print('Dataframe de salida:')\n",
    "print(df_y)\n",
    "\n",
    "#Ahora, obtenemos un dataframe con las variables de entrada que vamos a utilizar.\n",
    "df_x = deepcopy(df[nombre_de_las_variables_de_entrada])\n",
    "print('\\nDataframe de entrada:')\n",
    "print(df_x)"
   ]
  },
  {
   "cell_type": "code",
   "execution_count": 6,
   "id": "aaf28263",
   "metadata": {},
   "outputs": [
    {
     "name": "stdout",
     "output_type": "stream",
     "text": [
      "-----------------------------------------------------------------------\n",
      "Conjunto de datos de entrenamiento 80%\n",
      "-----------------------------------------------------------------------\n",
      "<class 'pandas.core.frame.DataFrame'>\n",
      "Int64Index: 120 entries, 39 to 99\n",
      "Data columns (total 4 columns):\n",
      " #   Column         Non-Null Count  Dtype  \n",
      "---  ------         --------------  -----  \n",
      " 0   SepalLengthCm  120 non-null    float64\n",
      " 1   SepalWidthCm   120 non-null    float64\n",
      " 2   PetalLengthCm  120 non-null    float64\n",
      " 3   PetalWidthCm   120 non-null    float64\n",
      "dtypes: float64(4)\n",
      "memory usage: 4.7 KB\n",
      "None \n",
      "\n",
      "-----------------------------------------------------------------------\n",
      "Conjunto de datos de prueba 20%\n",
      "-----------------------------------------------------------------------\n",
      "<class 'pandas.core.frame.DataFrame'>\n",
      "Int64Index: 30 entries, 82 to 132\n",
      "Data columns (total 4 columns):\n",
      " #   Column         Non-Null Count  Dtype  \n",
      "---  ------         --------------  -----  \n",
      " 0   SepalLengthCm  30 non-null     float64\n",
      " 1   SepalWidthCm   30 non-null     float64\n",
      " 2   PetalLengthCm  30 non-null     float64\n",
      " 3   PetalWidthCm   30 non-null     float64\n",
      "dtypes: float64(4)\n",
      "memory usage: 1.2 KB\n",
      "None\n",
      "\n"
     ]
    }
   ],
   "source": [
    "# Vamos a dividir los datos en un conjunto de entrenamiento y un conjunto de pruebas.\n",
    "mezclar_los_datos       = True #Vamos a mezclar de forma aleatoria los datos antes de particionarlos. \n",
    "valor_semilla_aleatoria = 5   #Esto es útil si se quiere garantizar la repetibilidad \n",
    "                               #de la partición de datos en ejecuciones sucesivas de su notebook o script. \n",
    "\n",
    "#Porcentajes de división de datos. \n",
    "particion_para_entrenamiento = 0.8  #Dejamos el 60% de los datos para el conjunto de entrenamiento (training set).\n",
    "particion_para_pruebas       = 1.0-particion_para_entrenamiento #Dejamos los otros datos, correspondiente al 20%, para el conjunto de pruebas. \n",
    "\n",
    "#Hacemos la partición para obtener el conjunto de pruebas y el \"resto\" (i.e.: entrenamiento y desarrollo).\n",
    "df_x_train, df_x_test, df_y_train, df_y_test = train_test_split(df_x,                                         #100% de los datos de entrada. \n",
    "                                                              df_y,                                         #100% de los datos de salida. \n",
    "                                                              test_size=particion_para_pruebas, \n",
    "                                                              random_state=valor_semilla_aleatoria, \n",
    "                                                              shuffle=mezclar_los_datos)\n",
    "\n",
    "print('-----------------------------------------------------------------------')\n",
    "print('Conjunto de datos de entrenamiento {:1.0f}%'.format(particion_para_entrenamiento*100))\n",
    "print('-----------------------------------------------------------------------')\n",
    "print(df_x_train.info(),'\\n')\n",
    "\n",
    "print('-----------------------------------------------------------------------')\n",
    "print('Conjunto de datos de prueba {:1.0f}%'.format(particion_para_pruebas*100))\n",
    "print('-----------------------------------------------------------------------')\n",
    "print(df_x_test.info(),'\\n',sep='')"
   ]
  },
  {
   "cell_type": "code",
   "execution_count": 7,
   "id": "a1c6545d",
   "metadata": {},
   "outputs": [
    {
     "data": {
      "text/plain": [
       "KNeighborsClassifier()"
      ]
     },
     "execution_count": 7,
     "metadata": {},
     "output_type": "execute_result"
    }
   ],
   "source": [
    "#-------------------------------------------------------------------------------\n",
    "#K-vecinos más cercanos (K-nearest neighbors o simplemente KNN).\n",
    "#-------------------------------------------------------------------------------\n",
    "k   = 5  #Número de vecinos cercanos.\n",
    "knn = neighbors.KNeighborsClassifier(n_neighbors=k) #Instanciamos el clasificador KNN.\n",
    "knn.fit(df_x_train, df_y_train)                #Ajustamos el clasificador. \n"
   ]
  },
  {
   "cell_type": "code",
   "execution_count": 8,
   "id": "e1ed9728",
   "metadata": {},
   "outputs": [
    {
     "name": "stdout",
     "output_type": "stream",
     "text": [
      "¿Qué retorna knn.predict?  Tipo de dato:  <class 'numpy.ndarray'> dimensiones:  (120, 3)\n",
      "¿Cómo están las salidas deseadas?  Tipo de dato:  <class 'numpy.ndarray'> dimensiones:  (120, 3)\n"
     ]
    }
   ],
   "source": [
    "y_pred_train = knn.predict(df_x_train)       #Realizamos predicciones sobre el conjunto de entrenamiento. \n",
    "                                                    #Note que knn.predict retorna un arreglo numpy NO un dataframe.\n",
    "print('¿Qué retorna knn.predict? ','Tipo de dato: ',type(y_pred_train),'dimensiones: ', y_pred_train.shape)\n",
    "\n",
    "#-------------------------------------------------------------------------------\n",
    "###Nota: si usted necesitara o deseara convertir el arreglo numpy a un dataframe podría hacerlo fácilmente:\n",
    "##df_y_pred_train = pd.DataFrame(data=y_pred,columns=nombres_de_las_variables_de_salida)\n",
    "#-------------------------------------------------------------------------------\n",
    "\n",
    "#Ahora, debemos convertir los valores \"deseados\" que tenemos como dataframes \n",
    "#en arreglos numpy para aprovechar las herramientas que nos ofrece scikit-learn.\n",
    "y_train = df_y_train.values\n",
    "print('¿Cómo están las salidas deseadas? ','Tipo de dato: ',type(y_train),'dimensiones: ', y_train.shape)"
   ]
  },
  {
   "cell_type": "code",
   "execution_count": 9,
   "id": "6da32b63",
   "metadata": {},
   "outputs": [],
   "source": [
    "#Respuesta Pregunta 3.3\n",
    "y_pred_test = knn.predict(df_x_test) "
   ]
  },
  {
   "cell_type": "code",
   "execution_count": 32,
   "id": "44a4134f",
   "metadata": {},
   "outputs": [],
   "source": [
    "#-------------------------------------------------------------------------------\n",
    "#Función auxiliar:\n",
    "#-------------------------------------------------------------------------------\n",
    "def one_hot_to_label_encoding(y_one_hot):\n",
    "  \"\"\"\n",
    "  Esta función convierte un arreglo numpy y_one_hot, correspondiente a una matriz de \n",
    "  m observaciones por n clases de tipo binario, en un vector columna y_label_encoded\n",
    "  de m filas cuyos elementos pueden tomar valores entre 0 y n-1. En ese caso\n",
    "  0 corresponde a la primera categoría, 1 a la segunda categoría, y así\n",
    "  sucesivamente. \n",
    "  \"\"\"\n",
    "  rows,cols=y_one_hot.shape            #Obtengo las dimensiones del arreglo.\n",
    "  y_label_encoded = np.zeros((rows,1)) #Inicializo el arreglo de salida en ceros. \n",
    "  for i in range(cols): #Para todas las categorías (aunque estrictamente esto puede dejarse como range(1,cols,1), pues i=0 no hace nada. )\n",
    "    y_label_encoded += i*y_one_hot[:,i].reshape((-1,1))  #Esto presume que la primera categoría se codifica como 0, \n",
    "                                                         #la siguiente como 1, etc...\n",
    "  return y_label_encoded\n",
    "#-------------------------------------------------------------------------------"
   ]
  },
  {
   "cell_type": "code",
   "execution_count": 33,
   "id": "b4b4b622",
   "metadata": {},
   "outputs": [
    {
     "name": "stdout",
     "output_type": "stream",
     "text": [
      "Matriz de confusión para K=5 usando los datos del conjunto de entrenamiento:\n",
      " [[42  0  0]\n",
      " [ 0 38  1]\n",
      " [ 0  1 38]]\n",
      "\n",
      "\n",
      "Clase 0:\n",
      "Iris-setosa\n",
      "Clase 1:\n",
      "Iris-versicolor\n",
      "Clase 2:\n",
      "Iris-virginica\n"
     ]
    },
    {
     "data": {
      "image/png": "[encoded data removed]",
      "text/plain": [
       "<Figure size 432x288 with 2 Axes>"
      ]
     },
     "metadata": {
      "needs_background": "light"
     },
     "output_type": "display_data"
    }
   ],
   "source": [
    "#Ahora vamos a obtener la matriz de confusión para el conjunto de datos de entrenamiento.\n",
    "#Note que la función confusion_matrix de scikit-learn espera vectores no matrices.\n",
    "#Por eso se debe cambiar la codificación de one-hot a otra apropiada, en este caso\n",
    "#usamos label encoding por comodidad:\n",
    "cm = metrics.confusion_matrix(one_hot_to_label_encoding(y_train),one_hot_to_label_encoding(y_pred_train))  #Una matriz de confusión para todas las categorías.  \n",
    "print('Matriz de confusión para K={} usando los datos del conjunto de entrenamiento:\\n'.format(k), cm)\n",
    "print('\\n')\n",
    "disp_1 = metrics.ConfusionMatrixDisplay(confusion_matrix = cm)\n",
    "disp_1.plot()\n",
    "\n",
    "for i in range(len(nombres_de_las_variables_de_salida)):\n",
    "    print('Clase %d:' % i)\n",
    "    print(nombres_de_las_variables_de_salida[i])"
   ]
  },
  {
   "cell_type": "markdown",
   "id": "34165198",
   "metadata": {},
   "source": [
    "## **Ejercicio 3.**\n",
    "\n",
    "Normalice los atributos, entrene un modelo con los atributos normalizados, pruebe este modelo tanto con los datos de entrenamiento y prueba, obtenga las métricas de desempeño por clase (matriz de confusión, exactitud, precisión, sensibilidad, especificidad y F1), obtenga la exactitud general y compare con los resultados obtenidos mediante el clasificador entrenado en la sesión de Taller."
   ]
  },
  {
   "cell_type": "markdown",
   "id": "6078f093",
   "metadata": {},
   "source": [
    "#### Respuesta"
   ]
  },
  {
   "cell_type": "code",
   "execution_count": 14,
   "id": "5a157fd8",
   "metadata": {},
   "outputs": [
    {
     "data": {
      "text/html": [
       "<div>\n",
       "<style scoped>\n",
       "    .dataframe tbody tr th:only-of-type {\n",
       "        vertical-align: middle;\n",
       "    }\n",
       "\n",
       "    .dataframe tbody tr th {\n",
       "        vertical-align: top;\n",
       "    }\n",
       "\n",
       "    .dataframe thead th {\n",
       "        text-align: right;\n",
       "    }\n",
       "</style>\n",
       "<table border=\"1\" class=\"dataframe\">\n",
       "  <thead>\n",
       "    <tr style=\"text-align: right;\">\n",
       "      <th></th>\n",
       "      <th>SepalLengthCm</th>\n",
       "      <th>SepalWidthCm</th>\n",
       "      <th>PetalLengthCm</th>\n",
       "      <th>PetalWidthCm</th>\n",
       "    </tr>\n",
       "  </thead>\n",
       "  <tbody>\n",
       "    <tr>\n",
       "      <th>39</th>\n",
       "      <td>0.645570</td>\n",
       "      <td>0.772727</td>\n",
       "      <td>0.217391</td>\n",
       "      <td>0.08</td>\n",
       "    </tr>\n",
       "    <tr>\n",
       "      <th>53</th>\n",
       "      <td>0.696203</td>\n",
       "      <td>0.522727</td>\n",
       "      <td>0.579710</td>\n",
       "      <td>0.52</td>\n",
       "    </tr>\n",
       "    <tr>\n",
       "      <th>79</th>\n",
       "      <td>0.721519</td>\n",
       "      <td>0.590909</td>\n",
       "      <td>0.507246</td>\n",
       "      <td>0.40</td>\n",
       "    </tr>\n",
       "    <tr>\n",
       "      <th>10</th>\n",
       "      <td>0.683544</td>\n",
       "      <td>0.840909</td>\n",
       "      <td>0.217391</td>\n",
       "      <td>0.08</td>\n",
       "    </tr>\n",
       "    <tr>\n",
       "      <th>50</th>\n",
       "      <td>0.886076</td>\n",
       "      <td>0.727273</td>\n",
       "      <td>0.681159</td>\n",
       "      <td>0.56</td>\n",
       "    </tr>\n",
       "    <tr>\n",
       "      <th>...</th>\n",
       "      <td>...</td>\n",
       "      <td>...</td>\n",
       "      <td>...</td>\n",
       "      <td>...</td>\n",
       "    </tr>\n",
       "    <tr>\n",
       "      <th>8</th>\n",
       "      <td>0.556962</td>\n",
       "      <td>0.659091</td>\n",
       "      <td>0.202899</td>\n",
       "      <td>0.08</td>\n",
       "    </tr>\n",
       "    <tr>\n",
       "      <th>73</th>\n",
       "      <td>0.772152</td>\n",
       "      <td>0.636364</td>\n",
       "      <td>0.681159</td>\n",
       "      <td>0.48</td>\n",
       "    </tr>\n",
       "    <tr>\n",
       "      <th>144</th>\n",
       "      <td>0.848101</td>\n",
       "      <td>0.750000</td>\n",
       "      <td>0.826087</td>\n",
       "      <td>1.00</td>\n",
       "    </tr>\n",
       "    <tr>\n",
       "      <th>118</th>\n",
       "      <td>0.974684</td>\n",
       "      <td>0.590909</td>\n",
       "      <td>1.000000</td>\n",
       "      <td>0.92</td>\n",
       "    </tr>\n",
       "    <tr>\n",
       "      <th>99</th>\n",
       "      <td>0.721519</td>\n",
       "      <td>0.636364</td>\n",
       "      <td>0.594203</td>\n",
       "      <td>0.52</td>\n",
       "    </tr>\n",
       "  </tbody>\n",
       "</table>\n",
       "<p>120 rows × 4 columns</p>\n",
       "</div>"
      ],
      "text/plain": [
       "     SepalLengthCm  SepalWidthCm  PetalLengthCm  PetalWidthCm\n",
       "39        0.645570      0.772727       0.217391          0.08\n",
       "53        0.696203      0.522727       0.579710          0.52\n",
       "79        0.721519      0.590909       0.507246          0.40\n",
       "10        0.683544      0.840909       0.217391          0.08\n",
       "50        0.886076      0.727273       0.681159          0.56\n",
       "..             ...           ...            ...           ...\n",
       "8         0.556962      0.659091       0.202899          0.08\n",
       "73        0.772152      0.636364       0.681159          0.48\n",
       "144       0.848101      0.750000       0.826087          1.00\n",
       "118       0.974684      0.590909       1.000000          0.92\n",
       "99        0.721519      0.636364       0.594203          0.52\n",
       "\n",
       "[120 rows x 4 columns]"
      ]
     },
     "execution_count": 14,
     "metadata": {},
     "output_type": "execute_result"
    }
   ],
   "source": [
    "df_x_train_normalized = df_x_train / df_x_train.max()\n",
    "df_x_train_normalized"
   ]
  },
  {
   "cell_type": "code",
   "execution_count": 37,
   "id": "0af0689e",
   "metadata": {},
   "outputs": [
    {
     "data": {
      "text/plain": [
       "KNeighborsClassifier()"
      ]
     },
     "execution_count": 37,
     "metadata": {},
     "output_type": "execute_result"
    }
   ],
   "source": [
    "k   = 5  #Número de vecinos cercanos.\n",
    "knn = neighbors.KNeighborsClassifier(n_neighbors=k) #Instanciamos el clasificador KNN.\n",
    "knn.fit(df_x_train_normalized, df_y_train)"
   ]
  },
  {
   "cell_type": "code",
   "execution_count": 38,
   "id": "bf414c40",
   "metadata": {},
   "outputs": [],
   "source": [
    "y_pred_train = knn.predict(df_x_train_normalized)"
   ]
  },
  {
   "cell_type": "code",
   "execution_count": 39,
   "id": "1418f9a8",
   "metadata": {},
   "outputs": [
    {
     "data": {
      "text/html": [
       "<div>\n",
       "<style scoped>\n",
       "    .dataframe tbody tr th:only-of-type {\n",
       "        vertical-align: middle;\n",
       "    }\n",
       "\n",
       "    .dataframe tbody tr th {\n",
       "        vertical-align: top;\n",
       "    }\n",
       "\n",
       "    .dataframe thead th {\n",
       "        text-align: right;\n",
       "    }\n",
       "</style>\n",
       "<table border=\"1\" class=\"dataframe\">\n",
       "  <thead>\n",
       "    <tr style=\"text-align: right;\">\n",
       "      <th></th>\n",
       "      <th>SepalLengthCm</th>\n",
       "      <th>SepalWidthCm</th>\n",
       "      <th>PetalLengthCm</th>\n",
       "      <th>PetalWidthCm</th>\n",
       "    </tr>\n",
       "  </thead>\n",
       "  <tbody>\n",
       "    <tr>\n",
       "      <th>82</th>\n",
       "      <td>0.783784</td>\n",
       "      <td>0.729730</td>\n",
       "      <td>0.619048</td>\n",
       "      <td>0.48</td>\n",
       "    </tr>\n",
       "    <tr>\n",
       "      <th>134</th>\n",
       "      <td>0.824324</td>\n",
       "      <td>0.702703</td>\n",
       "      <td>0.888889</td>\n",
       "      <td>0.56</td>\n",
       "    </tr>\n",
       "    <tr>\n",
       "      <th>114</th>\n",
       "      <td>0.783784</td>\n",
       "      <td>0.756757</td>\n",
       "      <td>0.809524</td>\n",
       "      <td>0.96</td>\n",
       "    </tr>\n",
       "    <tr>\n",
       "      <th>42</th>\n",
       "      <td>0.594595</td>\n",
       "      <td>0.864865</td>\n",
       "      <td>0.206349</td>\n",
       "      <td>0.08</td>\n",
       "    </tr>\n",
       "    <tr>\n",
       "      <th>109</th>\n",
       "      <td>0.972973</td>\n",
       "      <td>0.972973</td>\n",
       "      <td>0.968254</td>\n",
       "      <td>1.00</td>\n",
       "    </tr>\n",
       "    <tr>\n",
       "      <th>57</th>\n",
       "      <td>0.662162</td>\n",
       "      <td>0.648649</td>\n",
       "      <td>0.523810</td>\n",
       "      <td>0.40</td>\n",
       "    </tr>\n",
       "    <tr>\n",
       "      <th>1</th>\n",
       "      <td>0.662162</td>\n",
       "      <td>0.810811</td>\n",
       "      <td>0.222222</td>\n",
       "      <td>0.08</td>\n",
       "    </tr>\n",
       "    <tr>\n",
       "      <th>70</th>\n",
       "      <td>0.797297</td>\n",
       "      <td>0.864865</td>\n",
       "      <td>0.761905</td>\n",
       "      <td>0.72</td>\n",
       "    </tr>\n",
       "    <tr>\n",
       "      <th>25</th>\n",
       "      <td>0.675676</td>\n",
       "      <td>0.810811</td>\n",
       "      <td>0.253968</td>\n",
       "      <td>0.08</td>\n",
       "    </tr>\n",
       "    <tr>\n",
       "      <th>84</th>\n",
       "      <td>0.729730</td>\n",
       "      <td>0.810811</td>\n",
       "      <td>0.714286</td>\n",
       "      <td>0.60</td>\n",
       "    </tr>\n",
       "    <tr>\n",
       "      <th>66</th>\n",
       "      <td>0.756757</td>\n",
       "      <td>0.810811</td>\n",
       "      <td>0.714286</td>\n",
       "      <td>0.60</td>\n",
       "    </tr>\n",
       "    <tr>\n",
       "      <th>133</th>\n",
       "      <td>0.851351</td>\n",
       "      <td>0.756757</td>\n",
       "      <td>0.809524</td>\n",
       "      <td>0.60</td>\n",
       "    </tr>\n",
       "    <tr>\n",
       "      <th>102</th>\n",
       "      <td>0.959459</td>\n",
       "      <td>0.810811</td>\n",
       "      <td>0.936508</td>\n",
       "      <td>0.84</td>\n",
       "    </tr>\n",
       "    <tr>\n",
       "      <th>107</th>\n",
       "      <td>0.986486</td>\n",
       "      <td>0.783784</td>\n",
       "      <td>1.000000</td>\n",
       "      <td>0.72</td>\n",
       "    </tr>\n",
       "    <tr>\n",
       "      <th>26</th>\n",
       "      <td>0.675676</td>\n",
       "      <td>0.918919</td>\n",
       "      <td>0.253968</td>\n",
       "      <td>0.16</td>\n",
       "    </tr>\n",
       "    <tr>\n",
       "      <th>23</th>\n",
       "      <td>0.689189</td>\n",
       "      <td>0.891892</td>\n",
       "      <td>0.269841</td>\n",
       "      <td>0.20</td>\n",
       "    </tr>\n",
       "    <tr>\n",
       "      <th>123</th>\n",
       "      <td>0.851351</td>\n",
       "      <td>0.729730</td>\n",
       "      <td>0.777778</td>\n",
       "      <td>0.72</td>\n",
       "    </tr>\n",
       "    <tr>\n",
       "      <th>130</th>\n",
       "      <td>1.000000</td>\n",
       "      <td>0.756757</td>\n",
       "      <td>0.968254</td>\n",
       "      <td>0.76</td>\n",
       "    </tr>\n",
       "    <tr>\n",
       "      <th>21</th>\n",
       "      <td>0.689189</td>\n",
       "      <td>1.000000</td>\n",
       "      <td>0.238095</td>\n",
       "      <td>0.16</td>\n",
       "    </tr>\n",
       "    <tr>\n",
       "      <th>12</th>\n",
       "      <td>0.648649</td>\n",
       "      <td>0.810811</td>\n",
       "      <td>0.222222</td>\n",
       "      <td>0.04</td>\n",
       "    </tr>\n",
       "    <tr>\n",
       "      <th>71</th>\n",
       "      <td>0.824324</td>\n",
       "      <td>0.756757</td>\n",
       "      <td>0.634921</td>\n",
       "      <td>0.52</td>\n",
       "    </tr>\n",
       "    <tr>\n",
       "      <th>128</th>\n",
       "      <td>0.864865</td>\n",
       "      <td>0.756757</td>\n",
       "      <td>0.888889</td>\n",
       "      <td>0.84</td>\n",
       "    </tr>\n",
       "    <tr>\n",
       "      <th>48</th>\n",
       "      <td>0.716216</td>\n",
       "      <td>1.000000</td>\n",
       "      <td>0.238095</td>\n",
       "      <td>0.08</td>\n",
       "    </tr>\n",
       "    <tr>\n",
       "      <th>72</th>\n",
       "      <td>0.851351</td>\n",
       "      <td>0.675676</td>\n",
       "      <td>0.777778</td>\n",
       "      <td>0.60</td>\n",
       "    </tr>\n",
       "    <tr>\n",
       "      <th>88</th>\n",
       "      <td>0.756757</td>\n",
       "      <td>0.810811</td>\n",
       "      <td>0.650794</td>\n",
       "      <td>0.52</td>\n",
       "    </tr>\n",
       "    <tr>\n",
       "      <th>148</th>\n",
       "      <td>0.837838</td>\n",
       "      <td>0.918919</td>\n",
       "      <td>0.857143</td>\n",
       "      <td>0.92</td>\n",
       "    </tr>\n",
       "    <tr>\n",
       "      <th>74</th>\n",
       "      <td>0.864865</td>\n",
       "      <td>0.783784</td>\n",
       "      <td>0.682540</td>\n",
       "      <td>0.52</td>\n",
       "    </tr>\n",
       "    <tr>\n",
       "      <th>96</th>\n",
       "      <td>0.770270</td>\n",
       "      <td>0.783784</td>\n",
       "      <td>0.666667</td>\n",
       "      <td>0.52</td>\n",
       "    </tr>\n",
       "    <tr>\n",
       "      <th>63</th>\n",
       "      <td>0.824324</td>\n",
       "      <td>0.783784</td>\n",
       "      <td>0.746032</td>\n",
       "      <td>0.56</td>\n",
       "    </tr>\n",
       "    <tr>\n",
       "      <th>132</th>\n",
       "      <td>0.864865</td>\n",
       "      <td>0.756757</td>\n",
       "      <td>0.888889</td>\n",
       "      <td>0.88</td>\n",
       "    </tr>\n",
       "  </tbody>\n",
       "</table>\n",
       "</div>"
      ],
      "text/plain": [
       "     SepalLengthCm  SepalWidthCm  PetalLengthCm  PetalWidthCm\n",
       "82        0.783784      0.729730       0.619048          0.48\n",
       "134       0.824324      0.702703       0.888889          0.56\n",
       "114       0.783784      0.756757       0.809524          0.96\n",
       "42        0.594595      0.864865       0.206349          0.08\n",
       "109       0.972973      0.972973       0.968254          1.00\n",
       "57        0.662162      0.648649       0.523810          0.40\n",
       "1         0.662162      0.810811       0.222222          0.08\n",
       "70        0.797297      0.864865       0.761905          0.72\n",
       "25        0.675676      0.810811       0.253968          0.08\n",
       "84        0.729730      0.810811       0.714286          0.60\n",
       "66        0.756757      0.810811       0.714286          0.60\n",
       "133       0.851351      0.756757       0.809524          0.60\n",
       "102       0.959459      0.810811       0.936508          0.84\n",
       "107       0.986486      0.783784       1.000000          0.72\n",
       "26        0.675676      0.918919       0.253968          0.16\n",
       "23        0.689189      0.891892       0.269841          0.20\n",
       "123       0.851351      0.729730       0.777778          0.72\n",
       "130       1.000000      0.756757       0.968254          0.76\n",
       "21        0.689189      1.000000       0.238095          0.16\n",
       "12        0.648649      0.810811       0.222222          0.04\n",
       "71        0.824324      0.756757       0.634921          0.52\n",
       "128       0.864865      0.756757       0.888889          0.84\n",
       "48        0.716216      1.000000       0.238095          0.08\n",
       "72        0.851351      0.675676       0.777778          0.60\n",
       "88        0.756757      0.810811       0.650794          0.52\n",
       "148       0.837838      0.918919       0.857143          0.92\n",
       "74        0.864865      0.783784       0.682540          0.52\n",
       "96        0.770270      0.783784       0.666667          0.52\n",
       "63        0.824324      0.783784       0.746032          0.56\n",
       "132       0.864865      0.756757       0.888889          0.88"
      ]
     },
     "execution_count": 39,
     "metadata": {},
     "output_type": "execute_result"
    }
   ],
   "source": [
    "df_x_test_normalized = df_x_test / df_x_test.max()\n",
    "df_x_test_normalized"
   ]
  },
  {
   "cell_type": "code",
   "execution_count": 40,
   "id": "017d6a2a",
   "metadata": {},
   "outputs": [],
   "source": [
    "y_pred_test = knn.predict(df_x_test_normalized)"
   ]
  },
  {
   "cell_type": "code",
   "execution_count": 41,
   "id": "f77fb88d",
   "metadata": {},
   "outputs": [
    {
     "name": "stdout",
     "output_type": "stream",
     "text": [
      "Matriz de confusión para K=5 usando los datos del conjunto de entrenamiento:\n",
      " [[42  0  0]\n",
      " [ 0 38  1]\n",
      " [ 0  1 38]]\n",
      "\n",
      "\n"
     ]
    },
    {
     "data": {
      "text/plain": [
       "<sklearn.metrics._plot.confusion_matrix.ConfusionMatrixDisplay at 0x1af047e3f10>"
      ]
     },
     "execution_count": 41,
     "metadata": {},
     "output_type": "execute_result"
    },
    {
     "data": {
      "image/png": "[encoded data removed]",
      "text/plain": [
       "<Figure size 432x288 with 2 Axes>"
      ]
     },
     "metadata": {
      "needs_background": "light"
     },
     "output_type": "display_data"
    }
   ],
   "source": [
    "cm_with_normalized = metrics.confusion_matrix(one_hot_to_label_encoding(y_train),one_hot_to_label_encoding(y_pred_train))  #Una matriz de confusión para todas las categorías.  \n",
    "print('Matriz de confusión para K={} usando los datos del conjunto de entrenamiento:\\n'.format(k), cm)\n",
    "print('\\n')\n",
    "disp_1 = metrics.ConfusionMatrixDisplay(confusion_matrix = cm)\n",
    "disp_1.plot()"
   ]
  },
  {
   "cell_type": "code",
   "execution_count": 42,
   "id": "1f264d2c",
   "metadata": {},
   "outputs": [
    {
     "name": "stdout",
     "output_type": "stream",
     "text": [
      "Matriz de confusión para K=5 usando los datos del conjunto de entrenamiento:\n",
      " [[42  0  0]\n",
      " [ 0 38  1]\n",
      " [ 0  1 38]]\n",
      "\n",
      "\n"
     ]
    },
    {
     "data": {
      "text/plain": [
       "<sklearn.metrics._plot.confusion_matrix.ConfusionMatrixDisplay at 0x1af0400b520>"
      ]
     },
     "execution_count": 42,
     "metadata": {},
     "output_type": "execute_result"
    },
    {
     "data": {
      "image/png": "[encoded data removed]",
      "text/plain": [
       "<Figure size 432x288 with 2 Axes>"
      ]
     },
     "metadata": {
      "needs_background": "light"
     },
     "output_type": "display_data"
    }
   ],
   "source": [
    "cm_with_normalized = metrics.confusion_matrix(one_hot_to_label_encoding(df_y_test.values),one_hot_to_label_encoding(y_pred_test))  #Una matriz de confusión para todas las categorías.  \n",
    "print('Matriz de confusión para K={} usando los datos del conjunto de entrenamiento:\\n'.format(k), cm)\n",
    "print('\\n')\n",
    "disp_2 = metrics.ConfusionMatrixDisplay(confusion_matrix = cm_with_normalized)\n",
    "disp_2.plot()"
   ]
  },
  {
   "cell_type": "code",
   "execution_count": 43,
   "id": "670c42b2",
   "metadata": {},
   "outputs": [
    {
     "name": "stdout",
     "output_type": "stream",
     "text": [
      "                 precision    recall  f1-score   support\n",
      "\n",
      "    Iris-setosa       1.00      1.00      1.00        42\n",
      "Iris-versicolor       0.97      0.97      0.97        39\n",
      " Iris-virginica       0.97      0.97      0.97        39\n",
      "\n",
      "       accuracy                           0.98       120\n",
      "      macro avg       0.98      0.98      0.98       120\n",
      "   weighted avg       0.98      0.98      0.98       120\n",
      "\n"
     ]
    }
   ],
   "source": [
    "print(metrics.classification_report(one_hot_to_label_encoding(df_y_train.values),\n",
    "                                    one_hot_to_label_encoding(y_pred_train),\n",
    "                                    target_names = nombres_de_las_variables_de_salida))"
   ]
  },
  {
   "cell_type": "code",
   "execution_count": 44,
   "id": "559289f6",
   "metadata": {},
   "outputs": [
    {
     "name": "stdout",
     "output_type": "stream",
     "text": [
      "                 precision    recall  f1-score   support\n",
      "\n",
      "    Iris-setosa       1.00      1.00      1.00         8\n",
      "Iris-versicolor       0.91      0.91      0.91        11\n",
      " Iris-virginica       0.91      0.91      0.91        11\n",
      "\n",
      "       accuracy                           0.93        30\n",
      "      macro avg       0.94      0.94      0.94        30\n",
      "   weighted avg       0.93      0.93      0.93        30\n",
      "\n"
     ]
    }
   ],
   "source": [
    "print(metrics.classification_report(one_hot_to_label_encoding(df_y_test.values),\n",
    "                                    one_hot_to_label_encoding(y_pred_test),\n",
    "                                    target_names = nombres_de_las_variables_de_salida))"
   ]
  },
  {
   "cell_type": "markdown",
   "id": "a17c10b7",
   "metadata": {},
   "source": [
    "Con estos resultados podemos observar Que con los valores normalizados se obtiene un desempeño similar al dataframe sin noramlizar, sin embargo segun lo aprendido en clase, tenemos que normalizar los valores siempre va a tener un efecto a favor."
   ]
  },
  {
   "cell_type": "markdown",
   "id": "d64fff2a",
   "metadata": {},
   "source": [
    "## **Ejercicio 4:**\n",
    "\n",
    "Entrene y evalúe clasificadores KNN usando los atributos no normalizados para valores de K={1,3,7,9,11,13,15}. De acuerdo con los resultados obtenidos, ¿qué valor de K recomendaría?. Tenga en cuenta evaluar tanto con los datos de entrenamiento como de prueba."
   ]
  },
  {
   "cell_type": "markdown",
   "id": "abe37199",
   "metadata": {},
   "source": [
    "#### Respuesta"
   ]
  },
  {
   "cell_type": "code",
   "execution_count": 24,
   "id": "49dceed4",
   "metadata": {},
   "outputs": [],
   "source": [
    "def TrainAndPredictValues(K=5, x_test=df_x_test, y_test=df_y_test, x_train=df_x_train, y_train=df_y_train):\n",
    "    k   = K  #Número de vecinos cercanos.\n",
    "    knn = neighbors.KNeighborsClassifier(n_neighbors=k) #Instanciamos el clasificador KNN.\n",
    "    knn.fit(x_train, y_train)\n",
    "    \n",
    "    # Predicciones\n",
    "    y_pred_train = knn.predict(x_train)\n",
    "    y_pred_test = knn.predict(x_test)\n",
    "    \n",
    "    print(\"Training set\")\n",
    "    print(metrics.classification_report(one_hot_to_label_encoding(y_train.values),\n",
    "                                    one_hot_to_label_encoding(y_pred_train),\n",
    "                                    target_names = nombres_de_las_variables_de_salida))\n",
    "    \n",
    "    print(\"Test set\")\n",
    "    print(metrics.classification_report(one_hot_to_label_encoding(y_test.values),\n",
    "                                    one_hot_to_label_encoding(y_pred_test),\n",
    "                                    target_names = nombres_de_las_variables_de_salida))"
   ]
  },
  {
   "cell_type": "code",
   "execution_count": 25,
   "id": "7332f425",
   "metadata": {},
   "outputs": [
    {
     "name": "stdout",
     "output_type": "stream",
     "text": [
      "Training set\n",
      "                 precision    recall  f1-score   support\n",
      "\n",
      "    Iris-setosa       1.00      1.00      1.00        42\n",
      "Iris-versicolor       1.00      1.00      1.00        39\n",
      " Iris-virginica       1.00      1.00      1.00        39\n",
      "\n",
      "       accuracy                           1.00       120\n",
      "      macro avg       1.00      1.00      1.00       120\n",
      "   weighted avg       1.00      1.00      1.00       120\n",
      "\n",
      "Test set\n",
      "                 precision    recall  f1-score   support\n",
      "\n",
      "    Iris-setosa       1.00      1.00      1.00         8\n",
      "Iris-versicolor       0.90      0.82      0.86        11\n",
      " Iris-virginica       0.83      0.91      0.87        11\n",
      "\n",
      "       accuracy                           0.90        30\n",
      "      macro avg       0.91      0.91      0.91        30\n",
      "   weighted avg       0.90      0.90      0.90        30\n",
      "\n"
     ]
    }
   ],
   "source": [
    "TrainAndPredictValues(K=1)"
   ]
  },
  {
   "cell_type": "code",
   "execution_count": 26,
   "id": "1f584f92",
   "metadata": {},
   "outputs": [
    {
     "name": "stdout",
     "output_type": "stream",
     "text": [
      "Training set\n",
      "                 precision    recall  f1-score   support\n",
      "\n",
      "    Iris-setosa       1.00      1.00      1.00        42\n",
      "Iris-versicolor       0.95      0.97      0.96        39\n",
      " Iris-virginica       0.97      0.95      0.96        39\n",
      "\n",
      "       accuracy                           0.97       120\n",
      "      macro avg       0.97      0.97      0.97       120\n",
      "   weighted avg       0.98      0.97      0.97       120\n",
      "\n",
      "Test set\n",
      "                 precision    recall  f1-score   support\n",
      "\n",
      "    Iris-setosa       1.00      1.00      1.00         8\n",
      "Iris-versicolor       1.00      0.82      0.90        11\n",
      " Iris-virginica       0.85      1.00      0.92        11\n",
      "\n",
      "       accuracy                           0.93        30\n",
      "      macro avg       0.95      0.94      0.94        30\n",
      "   weighted avg       0.94      0.93      0.93        30\n",
      "\n"
     ]
    }
   ],
   "source": [
    "TrainAndPredictValues(K=3)"
   ]
  },
  {
   "cell_type": "code",
   "execution_count": 27,
   "id": "03ec06ba",
   "metadata": {},
   "outputs": [
    {
     "name": "stdout",
     "output_type": "stream",
     "text": [
      "Training set\n",
      "                 precision    recall  f1-score   support\n",
      "\n",
      "    Iris-setosa       1.00      1.00      1.00        42\n",
      "Iris-versicolor       0.97      0.97      0.97        39\n",
      " Iris-virginica       0.97      0.97      0.97        39\n",
      "\n",
      "       accuracy                           0.98       120\n",
      "      macro avg       0.98      0.98      0.98       120\n",
      "   weighted avg       0.98      0.98      0.98       120\n",
      "\n",
      "Test set\n",
      "                 precision    recall  f1-score   support\n",
      "\n",
      "    Iris-setosa       1.00      1.00      1.00         8\n",
      "Iris-versicolor       1.00      0.91      0.95        11\n",
      " Iris-virginica       0.92      1.00      0.96        11\n",
      "\n",
      "       accuracy                           0.97        30\n",
      "      macro avg       0.97      0.97      0.97        30\n",
      "   weighted avg       0.97      0.97      0.97        30\n",
      "\n"
     ]
    }
   ],
   "source": [
    "TrainAndPredictValues(K=7)"
   ]
  },
  {
   "cell_type": "code",
   "execution_count": 28,
   "id": "2ea7c641",
   "metadata": {},
   "outputs": [
    {
     "name": "stdout",
     "output_type": "stream",
     "text": [
      "Training set\n",
      "                 precision    recall  f1-score   support\n",
      "\n",
      "    Iris-setosa       1.00      1.00      1.00        42\n",
      "Iris-versicolor       0.97      0.97      0.97        39\n",
      " Iris-virginica       0.97      0.97      0.97        39\n",
      "\n",
      "       accuracy                           0.98       120\n",
      "      macro avg       0.98      0.98      0.98       120\n",
      "   weighted avg       0.98      0.98      0.98       120\n",
      "\n",
      "Test set\n",
      "                 precision    recall  f1-score   support\n",
      "\n",
      "    Iris-setosa       1.00      1.00      1.00         8\n",
      "Iris-versicolor       1.00      0.91      0.95        11\n",
      " Iris-virginica       0.92      1.00      0.96        11\n",
      "\n",
      "       accuracy                           0.97        30\n",
      "      macro avg       0.97      0.97      0.97        30\n",
      "   weighted avg       0.97      0.97      0.97        30\n",
      "\n"
     ]
    }
   ],
   "source": [
    "TrainAndPredictValues(K=9)"
   ]
  },
  {
   "cell_type": "code",
   "execution_count": 29,
   "id": "418d7c76",
   "metadata": {},
   "outputs": [
    {
     "name": "stdout",
     "output_type": "stream",
     "text": [
      "Training set\n",
      "                 precision    recall  f1-score   support\n",
      "\n",
      "    Iris-setosa       1.00      1.00      1.00        42\n",
      "Iris-versicolor       0.97      0.97      0.97        39\n",
      " Iris-virginica       0.97      0.97      0.97        39\n",
      "\n",
      "       accuracy                           0.98       120\n",
      "      macro avg       0.98      0.98      0.98       120\n",
      "   weighted avg       0.98      0.98      0.98       120\n",
      "\n",
      "Test set\n",
      "                 precision    recall  f1-score   support\n",
      "\n",
      "    Iris-setosa       1.00      1.00      1.00         8\n",
      "Iris-versicolor       1.00      0.91      0.95        11\n",
      " Iris-virginica       0.92      1.00      0.96        11\n",
      "\n",
      "       accuracy                           0.97        30\n",
      "      macro avg       0.97      0.97      0.97        30\n",
      "   weighted avg       0.97      0.97      0.97        30\n",
      "\n"
     ]
    }
   ],
   "source": [
    "TrainAndPredictValues(K=11)"
   ]
  },
  {
   "cell_type": "code",
   "execution_count": 30,
   "id": "a9b49b95",
   "metadata": {},
   "outputs": [
    {
     "name": "stdout",
     "output_type": "stream",
     "text": [
      "Training set\n",
      "                 precision    recall  f1-score   support\n",
      "\n",
      "    Iris-setosa       1.00      1.00      1.00        42\n",
      "Iris-versicolor       0.97      0.97      0.97        39\n",
      " Iris-virginica       0.97      0.97      0.97        39\n",
      "\n",
      "       accuracy                           0.98       120\n",
      "      macro avg       0.98      0.98      0.98       120\n",
      "   weighted avg       0.98      0.98      0.98       120\n",
      "\n",
      "Test set\n",
      "                 precision    recall  f1-score   support\n",
      "\n",
      "    Iris-setosa       1.00      1.00      1.00         8\n",
      "Iris-versicolor       1.00      0.91      0.95        11\n",
      " Iris-virginica       0.92      1.00      0.96        11\n",
      "\n",
      "       accuracy                           0.97        30\n",
      "      macro avg       0.97      0.97      0.97        30\n",
      "   weighted avg       0.97      0.97      0.97        30\n",
      "\n"
     ]
    }
   ],
   "source": [
    "TrainAndPredictValues(K=13)"
   ]
  },
  {
   "cell_type": "code",
   "execution_count": 31,
   "id": "f64077be",
   "metadata": {},
   "outputs": [
    {
     "name": "stdout",
     "output_type": "stream",
     "text": [
      "Training set\n",
      "                 precision    recall  f1-score   support\n",
      "\n",
      "    Iris-setosa       1.00      1.00      1.00        42\n",
      "Iris-versicolor       0.97      0.97      0.97        39\n",
      " Iris-virginica       0.97      0.97      0.97        39\n",
      "\n",
      "       accuracy                           0.98       120\n",
      "      macro avg       0.98      0.98      0.98       120\n",
      "   weighted avg       0.98      0.98      0.98       120\n",
      "\n",
      "Test set\n",
      "                 precision    recall  f1-score   support\n",
      "\n",
      "    Iris-setosa       1.00      1.00      1.00         8\n",
      "Iris-versicolor       1.00      0.91      0.95        11\n",
      " Iris-virginica       0.92      1.00      0.96        11\n",
      "\n",
      "       accuracy                           0.97        30\n",
      "      macro avg       0.97      0.97      0.97        30\n",
      "   weighted avg       0.97      0.97      0.97        30\n",
      "\n"
     ]
    }
   ],
   "source": [
    "TrainAndPredictValues(K=15)"
   ]
  },
  {
   "cell_type": "markdown",
   "id": "11a2dba7",
   "metadata": {},
   "source": [
    "Recomendaciones segun el analisis de metricas:\n",
    "\n",
    "Utlizar el 7 el 11 o el 15.\n",
    "\n",
    "Metricas de toma de esta decision.\n",
    "\n",
    "+ F1Score\n",
    "+ Presición"
   ]
  },
  {
   "cell_type": "markdown",
   "id": "57d32b68",
   "metadata": {},
   "source": [
    "## **Ejercicio 5:**\n",
    "\n",
    "Entrene y evalúe clasificadores KNN usando los atributos normalizados para valores de K={1,3,7,9,11,13,15}. De acuerdo con los resultados obtenidos, ¿qué valor de K recomendaría?. Compare los resultados obtenidos en este punto con los obtenidos en el Ejercicio 4. Tenga en cuenta evaluar tanto con los datos de entrenamiento como de prueba."
   ]
  },
  {
   "cell_type": "markdown",
   "id": "d03283d0",
   "metadata": {},
   "source": [
    "#### Desarrollo"
   ]
  },
  {
   "cell_type": "code",
   "execution_count": 45,
   "id": "fe6493f1",
   "metadata": {},
   "outputs": [
    {
     "name": "stdout",
     "output_type": "stream",
     "text": [
      "Training set\n",
      "                 precision    recall  f1-score   support\n",
      "\n",
      "    Iris-setosa       1.00      1.00      1.00        42\n",
      "Iris-versicolor       1.00      1.00      1.00        39\n",
      " Iris-virginica       1.00      1.00      1.00        39\n",
      "\n",
      "       accuracy                           1.00       120\n",
      "      macro avg       1.00      1.00      1.00       120\n",
      "   weighted avg       1.00      1.00      1.00       120\n",
      "\n",
      "Test set\n",
      "                 precision    recall  f1-score   support\n",
      "\n",
      "    Iris-setosa       1.00      1.00      1.00         8\n",
      "Iris-versicolor       1.00      1.00      1.00        11\n",
      " Iris-virginica       1.00      1.00      1.00        11\n",
      "\n",
      "       accuracy                           1.00        30\n",
      "      macro avg       1.00      1.00      1.00        30\n",
      "   weighted avg       1.00      1.00      1.00        30\n",
      "\n"
     ]
    }
   ],
   "source": [
    "TrainAndPredictValues(K=1, x_train=df_x_train_normalized, x_test=df_x_test_normalized)"
   ]
  },
  {
   "cell_type": "code",
   "execution_count": 46,
   "id": "ae630bb9",
   "metadata": {},
   "outputs": [
    {
     "name": "stdout",
     "output_type": "stream",
     "text": [
      "Training set\n",
      "                 precision    recall  f1-score   support\n",
      "\n",
      "    Iris-setosa       1.00      1.00      1.00        42\n",
      "Iris-versicolor       0.97      0.95      0.96        39\n",
      " Iris-virginica       0.95      0.97      0.96        39\n",
      "\n",
      "       accuracy                           0.97       120\n",
      "      macro avg       0.97      0.97      0.97       120\n",
      "   weighted avg       0.98      0.97      0.97       120\n",
      "\n",
      "Test set\n",
      "                 precision    recall  f1-score   support\n",
      "\n",
      "    Iris-setosa       1.00      1.00      1.00         8\n",
      "Iris-versicolor       1.00      0.91      0.95        11\n",
      " Iris-virginica       0.92      1.00      0.96        11\n",
      "\n",
      "       accuracy                           0.97        30\n",
      "      macro avg       0.97      0.97      0.97        30\n",
      "   weighted avg       0.97      0.97      0.97        30\n",
      "\n"
     ]
    }
   ],
   "source": [
    "TrainAndPredictValues(K=3, x_train=df_x_train_normalized, x_test=df_x_test_normalized)"
   ]
  },
  {
   "cell_type": "code",
   "execution_count": 47,
   "id": "b4f70658",
   "metadata": {},
   "outputs": [
    {
     "name": "stdout",
     "output_type": "stream",
     "text": [
      "Training set\n",
      "                 precision    recall  f1-score   support\n",
      "\n",
      "    Iris-setosa       1.00      1.00      1.00        42\n",
      "Iris-versicolor       0.97      0.95      0.96        39\n",
      " Iris-virginica       0.95      0.97      0.96        39\n",
      "\n",
      "       accuracy                           0.97       120\n",
      "      macro avg       0.97      0.97      0.97       120\n",
      "   weighted avg       0.98      0.97      0.97       120\n",
      "\n",
      "Test set\n",
      "                 precision    recall  f1-score   support\n",
      "\n",
      "    Iris-setosa       1.00      1.00      1.00         8\n",
      "Iris-versicolor       0.91      0.91      0.91        11\n",
      " Iris-virginica       0.91      0.91      0.91        11\n",
      "\n",
      "       accuracy                           0.93        30\n",
      "      macro avg       0.94      0.94      0.94        30\n",
      "   weighted avg       0.93      0.93      0.93        30\n",
      "\n"
     ]
    }
   ],
   "source": [
    "TrainAndPredictValues(K=7, x_train=df_x_train_normalized, x_test=df_x_test_normalized)"
   ]
  },
  {
   "cell_type": "code",
   "execution_count": 48,
   "id": "9b2b70f0",
   "metadata": {},
   "outputs": [
    {
     "name": "stdout",
     "output_type": "stream",
     "text": [
      "Training set\n",
      "                 precision    recall  f1-score   support\n",
      "\n",
      "    Iris-setosa       1.00      1.00      1.00        42\n",
      "Iris-versicolor       0.97      0.95      0.96        39\n",
      " Iris-virginica       0.95      0.97      0.96        39\n",
      "\n",
      "       accuracy                           0.97       120\n",
      "      macro avg       0.97      0.97      0.97       120\n",
      "   weighted avg       0.98      0.97      0.97       120\n",
      "\n",
      "Test set\n",
      "                 precision    recall  f1-score   support\n",
      "\n",
      "    Iris-setosa       1.00      1.00      1.00         8\n",
      "Iris-versicolor       0.91      0.91      0.91        11\n",
      " Iris-virginica       0.91      0.91      0.91        11\n",
      "\n",
      "       accuracy                           0.93        30\n",
      "      macro avg       0.94      0.94      0.94        30\n",
      "   weighted avg       0.93      0.93      0.93        30\n",
      "\n"
     ]
    }
   ],
   "source": [
    "TrainAndPredictValues(K=9, x_train=df_x_train_normalized, x_test=df_x_test_normalized)"
   ]
  },
  {
   "cell_type": "code",
   "execution_count": 49,
   "id": "94931cab",
   "metadata": {},
   "outputs": [
    {
     "name": "stdout",
     "output_type": "stream",
     "text": [
      "Training set\n",
      "                 precision    recall  f1-score   support\n",
      "\n",
      "    Iris-setosa       1.00      1.00      1.00        42\n",
      "Iris-versicolor       0.97      0.95      0.96        39\n",
      " Iris-virginica       0.95      0.97      0.96        39\n",
      "\n",
      "       accuracy                           0.97       120\n",
      "      macro avg       0.97      0.97      0.97       120\n",
      "   weighted avg       0.98      0.97      0.97       120\n",
      "\n",
      "Test set\n",
      "                 precision    recall  f1-score   support\n",
      "\n",
      "    Iris-setosa       1.00      1.00      1.00         8\n",
      "Iris-versicolor       0.91      0.91      0.91        11\n",
      " Iris-virginica       0.91      0.91      0.91        11\n",
      "\n",
      "       accuracy                           0.93        30\n",
      "      macro avg       0.94      0.94      0.94        30\n",
      "   weighted avg       0.93      0.93      0.93        30\n",
      "\n"
     ]
    }
   ],
   "source": [
    "TrainAndPredictValues(K=11, x_train=df_x_train_normalized, x_test=df_x_test_normalized)"
   ]
  },
  {
   "cell_type": "code",
   "execution_count": 50,
   "id": "9f879161",
   "metadata": {},
   "outputs": [
    {
     "name": "stdout",
     "output_type": "stream",
     "text": [
      "Training set\n",
      "                 precision    recall  f1-score   support\n",
      "\n",
      "    Iris-setosa       1.00      1.00      1.00        42\n",
      "Iris-versicolor       0.97      0.95      0.96        39\n",
      " Iris-virginica       0.95      0.97      0.96        39\n",
      "\n",
      "       accuracy                           0.97       120\n",
      "      macro avg       0.97      0.97      0.97       120\n",
      "   weighted avg       0.98      0.97      0.97       120\n",
      "\n",
      "Test set\n",
      "                 precision    recall  f1-score   support\n",
      "\n",
      "    Iris-setosa       1.00      1.00      1.00         8\n",
      "Iris-versicolor       0.83      0.91      0.87        11\n",
      " Iris-virginica       0.90      0.82      0.86        11\n",
      "\n",
      "       accuracy                           0.90        30\n",
      "      macro avg       0.91      0.91      0.91        30\n",
      "   weighted avg       0.90      0.90      0.90        30\n",
      "\n"
     ]
    }
   ],
   "source": [
    "TrainAndPredictValues(K=13, x_train=df_x_train_normalized, x_test=df_x_test_normalized)"
   ]
  },
  {
   "cell_type": "code",
   "execution_count": 51,
   "id": "34aae93d",
   "metadata": {},
   "outputs": [
    {
     "name": "stdout",
     "output_type": "stream",
     "text": [
      "Training set\n",
      "                 precision    recall  f1-score   support\n",
      "\n",
      "    Iris-setosa       1.00      1.00      1.00        42\n",
      "Iris-versicolor       0.97      0.95      0.96        39\n",
      " Iris-virginica       0.95      0.97      0.96        39\n",
      "\n",
      "       accuracy                           0.97       120\n",
      "      macro avg       0.97      0.97      0.97       120\n",
      "   weighted avg       0.98      0.97      0.97       120\n",
      "\n",
      "Test set\n",
      "                 precision    recall  f1-score   support\n",
      "\n",
      "    Iris-setosa       1.00      1.00      1.00         8\n",
      "Iris-versicolor       0.83      0.91      0.87        11\n",
      " Iris-virginica       0.90      0.82      0.86        11\n",
      "\n",
      "       accuracy                           0.90        30\n",
      "      macro avg       0.91      0.91      0.91        30\n",
      "   weighted avg       0.90      0.90      0.90        30\n",
      "\n"
     ]
    }
   ],
   "source": [
    "TrainAndPredictValues(K=15, x_train=df_x_train_normalized, x_test=df_x_test_normalized)"
   ]
  },
  {
   "cell_type": "markdown",
   "id": "60d907a6",
   "metadata": {},
   "source": [
    "Tomando en base una de las metricas que mas nos ha sido fiables como lo es la F1Score. Evaluamos que al tener la mejor cantidad de neighbors. Por lo mismo tomamos el valor 3."
   ]
  },
  {
   "cell_type": "markdown",
   "id": "7009e422",
   "metadata": {},
   "source": [
    "## **Ejercicio 6.**\n",
    "\n",
    "Encuentre un modelo de clasificación KNN que utilice solo tres atributos y cuyo desempeño sea igual o mejor que el modelo que usa cuatro atributos. Decida si es conveniente normalizar o no los atributos. Utilice diferentes valores de K. Para comparar varios modelos genere diferentes métricas de desempeño.\n",
    "Al final indique, ¿por qué escogió esos atributos?, de los modelos entrenados ¿cuál escogería y por qué? ¿qué métricas de desempeño reportaría a un cliente y por qué?"
   ]
  },
  {
   "cell_type": "markdown",
   "id": "61246e27",
   "metadata": {},
   "source": [
    "#### Desarrollo"
   ]
  },
  {
   "cell_type": "code",
   "execution_count": 35,
   "id": "71e647f8",
   "metadata": {},
   "outputs": [
    {
     "data": {
      "text/plain": [
       "<AxesSubplot:>"
      ]
     },
     "execution_count": 35,
     "metadata": {},
     "output_type": "execute_result"
    },
    {
     "data": {
      "image/png": "[encoded data removed]",
      "text/plain": [
       "<Figure size 432x288 with 2 Axes>"
      ]
     },
     "metadata": {
      "needs_background": "light"
     },
     "output_type": "display_data"
    }
   ],
   "source": [
    "corr_map = df_x_train.corr()\n",
    "sns.heatmap(corr_map, annot=True)"
   ]
  },
  {
   "cell_type": "code",
   "execution_count": 36,
   "id": "afbdd296",
   "metadata": {},
   "outputs": [
    {
     "data": {
      "text/html": [
       "<div>\n",
       "<style scoped>\n",
       "    .dataframe tbody tr th:only-of-type {\n",
       "        vertical-align: middle;\n",
       "    }\n",
       "\n",
       "    .dataframe tbody tr th {\n",
       "        vertical-align: top;\n",
       "    }\n",
       "\n",
       "    .dataframe thead th {\n",
       "        text-align: right;\n",
       "    }\n",
       "</style>\n",
       "<table border=\"1\" class=\"dataframe\">\n",
       "  <thead>\n",
       "    <tr style=\"text-align: right;\">\n",
       "      <th></th>\n",
       "      <th>SepalWidthCm</th>\n",
       "      <th>PetalLengthCm</th>\n",
       "      <th>PetalWidthCm</th>\n",
       "    </tr>\n",
       "  </thead>\n",
       "  <tbody>\n",
       "    <tr>\n",
       "      <th>39</th>\n",
       "      <td>3.4</td>\n",
       "      <td>1.5</td>\n",
       "      <td>0.2</td>\n",
       "    </tr>\n",
       "    <tr>\n",
       "      <th>53</th>\n",
       "      <td>2.3</td>\n",
       "      <td>4.0</td>\n",
       "      <td>1.3</td>\n",
       "    </tr>\n",
       "    <tr>\n",
       "      <th>79</th>\n",
       "      <td>2.6</td>\n",
       "      <td>3.5</td>\n",
       "      <td>1.0</td>\n",
       "    </tr>\n",
       "    <tr>\n",
       "      <th>10</th>\n",
       "      <td>3.7</td>\n",
       "      <td>1.5</td>\n",
       "      <td>0.2</td>\n",
       "    </tr>\n",
       "    <tr>\n",
       "      <th>50</th>\n",
       "      <td>3.2</td>\n",
       "      <td>4.7</td>\n",
       "      <td>1.4</td>\n",
       "    </tr>\n",
       "  </tbody>\n",
       "</table>\n",
       "</div>"
      ],
      "text/plain": [
       "    SepalWidthCm  PetalLengthCm  PetalWidthCm\n",
       "39           3.4            1.5           0.2\n",
       "53           2.3            4.0           1.3\n",
       "79           2.6            3.5           1.0\n",
       "10           3.7            1.5           0.2\n",
       "50           3.2            4.7           1.4"
      ]
     },
     "execution_count": 36,
     "metadata": {},
     "output_type": "execute_result"
    }
   ],
   "source": [
    "# Eliminaré uno de los atributos para entrenar el nuevo modelo\n",
    "df_with3attributes = df_x_train.copy()\n",
    "df_with3attributes.drop([\"SepalLengthCm\"], axis=1, inplace=True)\n",
    "df_with3attributes.head()"
   ]
  },
  {
   "cell_type": "code",
   "execution_count": 37,
   "id": "b5cd89a2",
   "metadata": {},
   "outputs": [
    {
     "data": {
      "text/html": [
       "<div>\n",
       "<style scoped>\n",
       "    .dataframe tbody tr th:only-of-type {\n",
       "        vertical-align: middle;\n",
       "    }\n",
       "\n",
       "    .dataframe tbody tr th {\n",
       "        vertical-align: top;\n",
       "    }\n",
       "\n",
       "    .dataframe thead th {\n",
       "        text-align: right;\n",
       "    }\n",
       "</style>\n",
       "<table border=\"1\" class=\"dataframe\">\n",
       "  <thead>\n",
       "    <tr style=\"text-align: right;\">\n",
       "      <th></th>\n",
       "      <th>SepalWidthCm</th>\n",
       "      <th>PetalLengthCm</th>\n",
       "      <th>PetalWidthCm</th>\n",
       "    </tr>\n",
       "  </thead>\n",
       "  <tbody>\n",
       "    <tr>\n",
       "      <th>82</th>\n",
       "      <td>2.7</td>\n",
       "      <td>3.9</td>\n",
       "      <td>1.2</td>\n",
       "    </tr>\n",
       "    <tr>\n",
       "      <th>134</th>\n",
       "      <td>2.6</td>\n",
       "      <td>5.6</td>\n",
       "      <td>1.4</td>\n",
       "    </tr>\n",
       "    <tr>\n",
       "      <th>114</th>\n",
       "      <td>2.8</td>\n",
       "      <td>5.1</td>\n",
       "      <td>2.4</td>\n",
       "    </tr>\n",
       "    <tr>\n",
       "      <th>42</th>\n",
       "      <td>3.2</td>\n",
       "      <td>1.3</td>\n",
       "      <td>0.2</td>\n",
       "    </tr>\n",
       "    <tr>\n",
       "      <th>109</th>\n",
       "      <td>3.6</td>\n",
       "      <td>6.1</td>\n",
       "      <td>2.5</td>\n",
       "    </tr>\n",
       "  </tbody>\n",
       "</table>\n",
       "</div>"
      ],
      "text/plain": [
       "     SepalWidthCm  PetalLengthCm  PetalWidthCm\n",
       "82            2.7            3.9           1.2\n",
       "134           2.6            5.6           1.4\n",
       "114           2.8            5.1           2.4\n",
       "42            3.2            1.3           0.2\n",
       "109           3.6            6.1           2.5"
      ]
     },
     "execution_count": 37,
     "metadata": {},
     "output_type": "execute_result"
    }
   ],
   "source": [
    "df_with3attributes_test = df_x_test.copy()\n",
    "df_with3attributes_test.drop([\"SepalLengthCm\"], axis=1, inplace=True)\n",
    "df_with3attributes_test.head()"
   ]
  },
  {
   "cell_type": "code",
   "execution_count": 38,
   "id": "b693fede",
   "metadata": {},
   "outputs": [
    {
     "data": {
      "text/html": [
       "<div>\n",
       "<style scoped>\n",
       "    .dataframe tbody tr th:only-of-type {\n",
       "        vertical-align: middle;\n",
       "    }\n",
       "\n",
       "    .dataframe tbody tr th {\n",
       "        vertical-align: top;\n",
       "    }\n",
       "\n",
       "    .dataframe thead th {\n",
       "        text-align: right;\n",
       "    }\n",
       "</style>\n",
       "<table border=\"1\" class=\"dataframe\">\n",
       "  <thead>\n",
       "    <tr style=\"text-align: right;\">\n",
       "      <th></th>\n",
       "      <th>SepalWidthCm</th>\n",
       "      <th>PetalLengthCm</th>\n",
       "      <th>PetalWidthCm</th>\n",
       "    </tr>\n",
       "  </thead>\n",
       "  <tbody>\n",
       "    <tr>\n",
       "      <th>39</th>\n",
       "      <td>0.772727</td>\n",
       "      <td>0.217391</td>\n",
       "      <td>0.08</td>\n",
       "    </tr>\n",
       "    <tr>\n",
       "      <th>53</th>\n",
       "      <td>0.522727</td>\n",
       "      <td>0.579710</td>\n",
       "      <td>0.52</td>\n",
       "    </tr>\n",
       "    <tr>\n",
       "      <th>79</th>\n",
       "      <td>0.590909</td>\n",
       "      <td>0.507246</td>\n",
       "      <td>0.40</td>\n",
       "    </tr>\n",
       "    <tr>\n",
       "      <th>10</th>\n",
       "      <td>0.840909</td>\n",
       "      <td>0.217391</td>\n",
       "      <td>0.08</td>\n",
       "    </tr>\n",
       "    <tr>\n",
       "      <th>50</th>\n",
       "      <td>0.727273</td>\n",
       "      <td>0.681159</td>\n",
       "      <td>0.56</td>\n",
       "    </tr>\n",
       "  </tbody>\n",
       "</table>\n",
       "</div>"
      ],
      "text/plain": [
       "    SepalWidthCm  PetalLengthCm  PetalWidthCm\n",
       "39      0.772727       0.217391          0.08\n",
       "53      0.522727       0.579710          0.52\n",
       "79      0.590909       0.507246          0.40\n",
       "10      0.840909       0.217391          0.08\n",
       "50      0.727273       0.681159          0.56"
      ]
     },
     "execution_count": 38,
     "metadata": {},
     "output_type": "execute_result"
    }
   ],
   "source": [
    "df_with3attributes_normalized = df_with3attributes / df_with3attributes.max()\n",
    "df_with3attributes_normalized.head()"
   ]
  },
  {
   "cell_type": "code",
   "execution_count": 39,
   "id": "a73157d4",
   "metadata": {},
   "outputs": [
    {
     "data": {
      "text/html": [
       "<div>\n",
       "<style scoped>\n",
       "    .dataframe tbody tr th:only-of-type {\n",
       "        vertical-align: middle;\n",
       "    }\n",
       "\n",
       "    .dataframe tbody tr th {\n",
       "        vertical-align: top;\n",
       "    }\n",
       "\n",
       "    .dataframe thead th {\n",
       "        text-align: right;\n",
       "    }\n",
       "</style>\n",
       "<table border=\"1\" class=\"dataframe\">\n",
       "  <thead>\n",
       "    <tr style=\"text-align: right;\">\n",
       "      <th></th>\n",
       "      <th>SepalWidthCm</th>\n",
       "      <th>PetalLengthCm</th>\n",
       "      <th>PetalWidthCm</th>\n",
       "    </tr>\n",
       "  </thead>\n",
       "  <tbody>\n",
       "    <tr>\n",
       "      <th>82</th>\n",
       "      <td>0.729730</td>\n",
       "      <td>0.619048</td>\n",
       "      <td>0.48</td>\n",
       "    </tr>\n",
       "    <tr>\n",
       "      <th>134</th>\n",
       "      <td>0.702703</td>\n",
       "      <td>0.888889</td>\n",
       "      <td>0.56</td>\n",
       "    </tr>\n",
       "    <tr>\n",
       "      <th>114</th>\n",
       "      <td>0.756757</td>\n",
       "      <td>0.809524</td>\n",
       "      <td>0.96</td>\n",
       "    </tr>\n",
       "    <tr>\n",
       "      <th>42</th>\n",
       "      <td>0.864865</td>\n",
       "      <td>0.206349</td>\n",
       "      <td>0.08</td>\n",
       "    </tr>\n",
       "    <tr>\n",
       "      <th>109</th>\n",
       "      <td>0.972973</td>\n",
       "      <td>0.968254</td>\n",
       "      <td>1.00</td>\n",
       "    </tr>\n",
       "  </tbody>\n",
       "</table>\n",
       "</div>"
      ],
      "text/plain": [
       "     SepalWidthCm  PetalLengthCm  PetalWidthCm\n",
       "82       0.729730       0.619048          0.48\n",
       "134      0.702703       0.888889          0.56\n",
       "114      0.756757       0.809524          0.96\n",
       "42       0.864865       0.206349          0.08\n",
       "109      0.972973       0.968254          1.00"
      ]
     },
     "execution_count": 39,
     "metadata": {},
     "output_type": "execute_result"
    }
   ],
   "source": [
    "df_with3attributes_test_normalized = df_with3attributes_test / df_with3attributes_test.max()\n",
    "df_with3attributes_test_normalized.head()"
   ]
  },
  {
   "cell_type": "markdown",
   "id": "33ae161d",
   "metadata": {},
   "source": [
    "## Realizacion de pruebas para evaluar rendimiento"
   ]
  },
  {
   "cell_type": "code",
   "execution_count": 40,
   "id": "485301d1",
   "metadata": {},
   "outputs": [
    {
     "name": "stdout",
     "output_type": "stream",
     "text": [
      "Training set\n",
      "                 precision    recall  f1-score   support\n",
      "\n",
      "    Iris-setosa       1.00      1.00      1.00        42\n",
      "Iris-versicolor       0.97      0.95      0.96        39\n",
      " Iris-virginica       0.95      0.97      0.96        39\n",
      "\n",
      "       accuracy                           0.97       120\n",
      "      macro avg       0.97      0.97      0.97       120\n",
      "   weighted avg       0.98      0.97      0.97       120\n",
      "\n",
      "Test set\n",
      "                 precision    recall  f1-score   support\n",
      "\n",
      "    Iris-setosa       1.00      1.00      1.00         8\n",
      "Iris-versicolor       0.91      0.91      0.91        11\n",
      " Iris-virginica       0.91      0.91      0.91        11\n",
      "\n",
      "       accuracy                           0.93        30\n",
      "      macro avg       0.94      0.94      0.94        30\n",
      "   weighted avg       0.93      0.93      0.93        30\n",
      "\n"
     ]
    }
   ],
   "source": [
    "TrainAndPredictValues(K=3, x_train=df_with3attributes, x_test=df_with3attributes_test)"
   ]
  },
  {
   "cell_type": "code",
   "execution_count": 41,
   "id": "733058f7",
   "metadata": {},
   "outputs": [
    {
     "name": "stdout",
     "output_type": "stream",
     "text": [
      "Training set\n",
      "                 precision    recall  f1-score   support\n",
      "\n",
      "    Iris-setosa       1.00      1.00      1.00        42\n",
      "Iris-versicolor       0.97      0.95      0.96        39\n",
      " Iris-virginica       0.95      0.97      0.96        39\n",
      "\n",
      "       accuracy                           0.97       120\n",
      "      macro avg       0.97      0.97      0.97       120\n",
      "   weighted avg       0.98      0.97      0.97       120\n",
      "\n",
      "Test set\n",
      "                 precision    recall  f1-score   support\n",
      "\n",
      "    Iris-setosa       1.00      1.00      1.00         8\n",
      "Iris-versicolor       0.92      1.00      0.96        11\n",
      " Iris-virginica       1.00      0.91      0.95        11\n",
      "\n",
      "       accuracy                           0.97        30\n",
      "      macro avg       0.97      0.97      0.97        30\n",
      "   weighted avg       0.97      0.97      0.97        30\n",
      "\n"
     ]
    }
   ],
   "source": [
    "TrainAndPredictValues(K=5, x_train=df_with3attributes, x_test=df_with3attributes_test)"
   ]
  },
  {
   "cell_type": "code",
   "execution_count": 42,
   "id": "b5f6f82b",
   "metadata": {},
   "outputs": [
    {
     "name": "stdout",
     "output_type": "stream",
     "text": [
      "Training set\n",
      "                 precision    recall  f1-score   support\n",
      "\n",
      "    Iris-setosa       1.00      1.00      1.00        42\n",
      "Iris-versicolor       0.97      0.95      0.96        39\n",
      " Iris-virginica       0.95      0.97      0.96        39\n",
      "\n",
      "       accuracy                           0.97       120\n",
      "      macro avg       0.97      0.97      0.97       120\n",
      "   weighted avg       0.98      0.97      0.97       120\n",
      "\n",
      "Test set\n",
      "                 precision    recall  f1-score   support\n",
      "\n",
      "    Iris-setosa       1.00      1.00      1.00         8\n",
      "Iris-versicolor       0.91      0.91      0.91        11\n",
      " Iris-virginica       0.91      0.91      0.91        11\n",
      "\n",
      "       accuracy                           0.93        30\n",
      "      macro avg       0.94      0.94      0.94        30\n",
      "   weighted avg       0.93      0.93      0.93        30\n",
      "\n"
     ]
    }
   ],
   "source": [
    "TrainAndPredictValues(K=7, x_train=df_with3attributes, x_test=df_with3attributes_test)"
   ]
  },
  {
   "cell_type": "markdown",
   "id": "94248d98",
   "metadata": {},
   "source": [
    "### Datos sin normalizar\n",
    "Toma un mayor demespeño los 5 vecinos en las siguientes metricas:\n",
    "+ Presición\n",
    "+ Recall\n",
    "+ F1-Score\n"
   ]
  },
  {
   "cell_type": "markdown",
   "id": "6c95b958",
   "metadata": {},
   "source": [
    "### Normalización de datos "
   ]
  },
  {
   "cell_type": "code",
   "execution_count": 43,
   "id": "e138e40c",
   "metadata": {},
   "outputs": [
    {
     "name": "stdout",
     "output_type": "stream",
     "text": [
      "Training set\n",
      "                 precision    recall  f1-score   support\n",
      "\n",
      "    Iris-setosa       1.00      1.00      1.00        42\n",
      "Iris-versicolor       0.97      0.97      0.97        39\n",
      " Iris-virginica       0.97      0.97      0.97        39\n",
      "\n",
      "       accuracy                           0.98       120\n",
      "      macro avg       0.98      0.98      0.98       120\n",
      "   weighted avg       0.98      0.98      0.98       120\n",
      "\n",
      "Test set\n",
      "                 precision    recall  f1-score   support\n",
      "\n",
      "    Iris-setosa       1.00      1.00      1.00         8\n",
      "Iris-versicolor       1.00      1.00      1.00        11\n",
      " Iris-virginica       1.00      1.00      1.00        11\n",
      "\n",
      "       accuracy                           1.00        30\n",
      "      macro avg       1.00      1.00      1.00        30\n",
      "   weighted avg       1.00      1.00      1.00        30\n",
      "\n"
     ]
    }
   ],
   "source": [
    "TrainAndPredictValues(K=3, x_train=df_with3attributes_normalized, x_test=df_with3attributes_test_normalized)"
   ]
  },
  {
   "cell_type": "code",
   "execution_count": 44,
   "id": "d4295c7f",
   "metadata": {},
   "outputs": [
    {
     "name": "stdout",
     "output_type": "stream",
     "text": [
      "Training set\n",
      "                 precision    recall  f1-score   support\n",
      "\n",
      "    Iris-setosa       1.00      1.00      1.00        42\n",
      "Iris-versicolor       0.95      0.97      0.96        39\n",
      " Iris-virginica       0.97      0.95      0.96        39\n",
      "\n",
      "       accuracy                           0.97       120\n",
      "      macro avg       0.97      0.97      0.97       120\n",
      "   weighted avg       0.98      0.97      0.97       120\n",
      "\n",
      "Test set\n",
      "                 precision    recall  f1-score   support\n",
      "\n",
      "    Iris-setosa       1.00      1.00      1.00         8\n",
      "Iris-versicolor       1.00      0.91      0.95        11\n",
      " Iris-virginica       0.92      1.00      0.96        11\n",
      "\n",
      "       accuracy                           0.97        30\n",
      "      macro avg       0.97      0.97      0.97        30\n",
      "   weighted avg       0.97      0.97      0.97        30\n",
      "\n"
     ]
    }
   ],
   "source": [
    "TrainAndPredictValues(K=5, x_train=df_with3attributes_normalized, x_test=df_with3attributes_test_normalized)"
   ]
  },
  {
   "cell_type": "code",
   "execution_count": 45,
   "id": "78422698",
   "metadata": {},
   "outputs": [
    {
     "name": "stdout",
     "output_type": "stream",
     "text": [
      "Training set\n",
      "                 precision    recall  f1-score   support\n",
      "\n",
      "    Iris-setosa       1.00      1.00      1.00        42\n",
      "Iris-versicolor       0.95      0.97      0.96        39\n",
      " Iris-virginica       0.97      0.95      0.96        39\n",
      "\n",
      "       accuracy                           0.97       120\n",
      "      macro avg       0.97      0.97      0.97       120\n",
      "   weighted avg       0.98      0.97      0.97       120\n",
      "\n",
      "Test set\n",
      "                 precision    recall  f1-score   support\n",
      "\n",
      "    Iris-setosa       1.00      1.00      1.00         8\n",
      "Iris-versicolor       0.91      0.91      0.91        11\n",
      " Iris-virginica       0.91      0.91      0.91        11\n",
      "\n",
      "       accuracy                           0.93        30\n",
      "      macro avg       0.94      0.94      0.94        30\n",
      "   weighted avg       0.93      0.93      0.93        30\n",
      "\n"
     ]
    }
   ],
   "source": [
    "TrainAndPredictValues(K=7, x_train=df_with3attributes_normalized, x_test=df_with3attributes_test_normalized)"
   ]
  },
  {
   "cell_type": "markdown",
   "id": "8736de37",
   "metadata": {},
   "source": [
    "## Analisis"
   ]
  },
  {
   "cell_type": "markdown",
   "id": "c819c95f",
   "metadata": {},
   "source": [
    "Para el conjunto de datos normalizados podemos ver que tienen un mejor desempeño con 3 vecinos. Una de las variables que no se utilizo fue la de SepalLengthCm ya que no tenia valores de correlacion significativo con las demas."
   ]
  },
  {
   "cell_type": "markdown",
   "id": "bb505ff3",
   "metadata": {},
   "source": [
    "## **Ejercicio 7.**\n",
    "\n",
    "Encuentre un modelo de clasificación KNN que utilice solo dos atributos y cuyo desempeño sea comparable con el modelo que usa cuatro atributos. Decida si es conveniente normalizar o no los atributos. Utilice diferentes valores de K. Para comparar varios modelos genere diferentes métricas de desempeño.\n",
    "Al final indique, ¿por qué escogió esos atributos?, de los modelos entrenados ¿cuál escogería y por qué? ¿qué métricas de desempeño reportaría a un cliente y por qué?"
   ]
  },
  {
   "cell_type": "markdown",
   "id": "883b5e4a",
   "metadata": {},
   "source": [
    "#### Desarrollo"
   ]
  },
  {
   "cell_type": "code",
   "execution_count": 46,
   "id": "bc00cdd7",
   "metadata": {},
   "outputs": [
    {
     "data": {
      "text/plain": [
       "<AxesSubplot:>"
      ]
     },
     "execution_count": 46,
     "metadata": {},
     "output_type": "execute_result"
    },
    {
     "data": {
      "image/png": "[encoded data removed]",
      "text/plain": [
       "<Figure size 432x288 with 2 Axes>"
      ]
     },
     "metadata": {
      "needs_background": "light"
     },
     "output_type": "display_data"
    }
   ],
   "source": [
    "corr_3attributes = df_with3attributes.corr()\n",
    "sns.heatmap(corr_3attributes, annot=True)"
   ]
  },
  {
   "cell_type": "markdown",
   "id": "0d5599b3",
   "metadata": {},
   "source": [
    "\n",
    "\n",
    "Una de las relaciones que podemos evidenciar con esta informacion anterior es que todas la variables tiene una relacion inversa y directa entre ellas, menos SepalWidthCm ya que esta tiene una importancia menos significativa ya que su relacion con las demas variables es inversamente proporcional."
   ]
  },
  {
   "cell_type": "code",
   "execution_count": 47,
   "id": "5dfa8b9c",
   "metadata": {},
   "outputs": [
    {
     "data": {
      "text/html": [
       "<div>\n",
       "<style scoped>\n",
       "    .dataframe tbody tr th:only-of-type {\n",
       "        vertical-align: middle;\n",
       "    }\n",
       "\n",
       "    .dataframe tbody tr th {\n",
       "        vertical-align: top;\n",
       "    }\n",
       "\n",
       "    .dataframe thead th {\n",
       "        text-align: right;\n",
       "    }\n",
       "</style>\n",
       "<table border=\"1\" class=\"dataframe\">\n",
       "  <thead>\n",
       "    <tr style=\"text-align: right;\">\n",
       "      <th></th>\n",
       "      <th>PetalLengthCm</th>\n",
       "      <th>PetalWidthCm</th>\n",
       "    </tr>\n",
       "  </thead>\n",
       "  <tbody>\n",
       "    <tr>\n",
       "      <th>39</th>\n",
       "      <td>1.5</td>\n",
       "      <td>0.2</td>\n",
       "    </tr>\n",
       "    <tr>\n",
       "      <th>53</th>\n",
       "      <td>4.0</td>\n",
       "      <td>1.3</td>\n",
       "    </tr>\n",
       "    <tr>\n",
       "      <th>79</th>\n",
       "      <td>3.5</td>\n",
       "      <td>1.0</td>\n",
       "    </tr>\n",
       "    <tr>\n",
       "      <th>10</th>\n",
       "      <td>1.5</td>\n",
       "      <td>0.2</td>\n",
       "    </tr>\n",
       "    <tr>\n",
       "      <th>50</th>\n",
       "      <td>4.7</td>\n",
       "      <td>1.4</td>\n",
       "    </tr>\n",
       "  </tbody>\n",
       "</table>\n",
       "</div>"
      ],
      "text/plain": [
       "    PetalLengthCm  PetalWidthCm\n",
       "39            1.5           0.2\n",
       "53            4.0           1.3\n",
       "79            3.5           1.0\n",
       "10            1.5           0.2\n",
       "50            4.7           1.4"
      ]
     },
     "execution_count": 47,
     "metadata": {},
     "output_type": "execute_result"
    }
   ],
   "source": [
    "df_with2attributes = df_with3attributes.copy()\n",
    "df_with2attributes.drop([\"SepalWidthCm\"], axis=1, inplace=True)\n",
    "df_with2attributes.head()"
   ]
  },
  {
   "cell_type": "code",
   "execution_count": 48,
   "id": "f4b31985",
   "metadata": {},
   "outputs": [
    {
     "data": {
      "text/html": [
       "<div>\n",
       "<style scoped>\n",
       "    .dataframe tbody tr th:only-of-type {\n",
       "        vertical-align: middle;\n",
       "    }\n",
       "\n",
       "    .dataframe tbody tr th {\n",
       "        vertical-align: top;\n",
       "    }\n",
       "\n",
       "    .dataframe thead th {\n",
       "        text-align: right;\n",
       "    }\n",
       "</style>\n",
       "<table border=\"1\" class=\"dataframe\">\n",
       "  <thead>\n",
       "    <tr style=\"text-align: right;\">\n",
       "      <th></th>\n",
       "      <th>PetalLengthCm</th>\n",
       "      <th>PetalWidthCm</th>\n",
       "    </tr>\n",
       "  </thead>\n",
       "  <tbody>\n",
       "    <tr>\n",
       "      <th>82</th>\n",
       "      <td>3.9</td>\n",
       "      <td>1.2</td>\n",
       "    </tr>\n",
       "    <tr>\n",
       "      <th>134</th>\n",
       "      <td>5.6</td>\n",
       "      <td>1.4</td>\n",
       "    </tr>\n",
       "    <tr>\n",
       "      <th>114</th>\n",
       "      <td>5.1</td>\n",
       "      <td>2.4</td>\n",
       "    </tr>\n",
       "    <tr>\n",
       "      <th>42</th>\n",
       "      <td>1.3</td>\n",
       "      <td>0.2</td>\n",
       "    </tr>\n",
       "    <tr>\n",
       "      <th>109</th>\n",
       "      <td>6.1</td>\n",
       "      <td>2.5</td>\n",
       "    </tr>\n",
       "  </tbody>\n",
       "</table>\n",
       "</div>"
      ],
      "text/plain": [
       "     PetalLengthCm  PetalWidthCm\n",
       "82             3.9           1.2\n",
       "134            5.6           1.4\n",
       "114            5.1           2.4\n",
       "42             1.3           0.2\n",
       "109            6.1           2.5"
      ]
     },
     "execution_count": 48,
     "metadata": {},
     "output_type": "execute_result"
    }
   ],
   "source": [
    "df_with2attributes_test = df_with3attributes_test.copy()\n",
    "df_with2attributes_test.drop([\"SepalWidthCm\"], axis=1, inplace=True)\n",
    "df_with2attributes_test.head()"
   ]
  },
  {
   "cell_type": "code",
   "execution_count": 49,
   "id": "ef83b704",
   "metadata": {},
   "outputs": [
    {
     "data": {
      "text/html": [
       "<div>\n",
       "<style scoped>\n",
       "    .dataframe tbody tr th:only-of-type {\n",
       "        vertical-align: middle;\n",
       "    }\n",
       "\n",
       "    .dataframe tbody tr th {\n",
       "        vertical-align: top;\n",
       "    }\n",
       "\n",
       "    .dataframe thead th {\n",
       "        text-align: right;\n",
       "    }\n",
       "</style>\n",
       "<table border=\"1\" class=\"dataframe\">\n",
       "  <thead>\n",
       "    <tr style=\"text-align: right;\">\n",
       "      <th></th>\n",
       "      <th>PetalLengthCm</th>\n",
       "      <th>PetalWidthCm</th>\n",
       "    </tr>\n",
       "  </thead>\n",
       "  <tbody>\n",
       "    <tr>\n",
       "      <th>39</th>\n",
       "      <td>0.217391</td>\n",
       "      <td>0.08</td>\n",
       "    </tr>\n",
       "    <tr>\n",
       "      <th>53</th>\n",
       "      <td>0.579710</td>\n",
       "      <td>0.52</td>\n",
       "    </tr>\n",
       "    <tr>\n",
       "      <th>79</th>\n",
       "      <td>0.507246</td>\n",
       "      <td>0.40</td>\n",
       "    </tr>\n",
       "    <tr>\n",
       "      <th>10</th>\n",
       "      <td>0.217391</td>\n",
       "      <td>0.08</td>\n",
       "    </tr>\n",
       "    <tr>\n",
       "      <th>50</th>\n",
       "      <td>0.681159</td>\n",
       "      <td>0.56</td>\n",
       "    </tr>\n",
       "  </tbody>\n",
       "</table>\n",
       "</div>"
      ],
      "text/plain": [
       "    PetalLengthCm  PetalWidthCm\n",
       "39       0.217391          0.08\n",
       "53       0.579710          0.52\n",
       "79       0.507246          0.40\n",
       "10       0.217391          0.08\n",
       "50       0.681159          0.56"
      ]
     },
     "execution_count": 49,
     "metadata": {},
     "output_type": "execute_result"
    }
   ],
   "source": [
    "df_with2attributes_normalized = df_with2attributes / df_with2attributes.max()\n",
    "df_with2attributes_normalized.head()"
   ]
  },
  {
   "cell_type": "code",
   "execution_count": 50,
   "id": "b223826d",
   "metadata": {},
   "outputs": [
    {
     "data": {
      "text/html": [
       "<div>\n",
       "<style scoped>\n",
       "    .dataframe tbody tr th:only-of-type {\n",
       "        vertical-align: middle;\n",
       "    }\n",
       "\n",
       "    .dataframe tbody tr th {\n",
       "        vertical-align: top;\n",
       "    }\n",
       "\n",
       "    .dataframe thead th {\n",
       "        text-align: right;\n",
       "    }\n",
       "</style>\n",
       "<table border=\"1\" class=\"dataframe\">\n",
       "  <thead>\n",
       "    <tr style=\"text-align: right;\">\n",
       "      <th></th>\n",
       "      <th>PetalLengthCm</th>\n",
       "      <th>PetalWidthCm</th>\n",
       "    </tr>\n",
       "  </thead>\n",
       "  <tbody>\n",
       "    <tr>\n",
       "      <th>82</th>\n",
       "      <td>0.619048</td>\n",
       "      <td>0.48</td>\n",
       "    </tr>\n",
       "    <tr>\n",
       "      <th>134</th>\n",
       "      <td>0.888889</td>\n",
       "      <td>0.56</td>\n",
       "    </tr>\n",
       "    <tr>\n",
       "      <th>114</th>\n",
       "      <td>0.809524</td>\n",
       "      <td>0.96</td>\n",
       "    </tr>\n",
       "    <tr>\n",
       "      <th>42</th>\n",
       "      <td>0.206349</td>\n",
       "      <td>0.08</td>\n",
       "    </tr>\n",
       "    <tr>\n",
       "      <th>109</th>\n",
       "      <td>0.968254</td>\n",
       "      <td>1.00</td>\n",
       "    </tr>\n",
       "  </tbody>\n",
       "</table>\n",
       "</div>"
      ],
      "text/plain": [
       "     PetalLengthCm  PetalWidthCm\n",
       "82        0.619048          0.48\n",
       "134       0.888889          0.56\n",
       "114       0.809524          0.96\n",
       "42        0.206349          0.08\n",
       "109       0.968254          1.00"
      ]
     },
     "execution_count": 50,
     "metadata": {},
     "output_type": "execute_result"
    }
   ],
   "source": [
    "df_with2attributes_test_normalized = df_with2attributes_test / df_with2attributes_test.max()\n",
    "df_with2attributes_test_normalized.head()"
   ]
  },
  {
   "cell_type": "code",
   "execution_count": 51,
   "id": "9a719cbb",
   "metadata": {},
   "outputs": [
    {
     "name": "stdout",
     "output_type": "stream",
     "text": [
      "Training set\n",
      "                 precision    recall  f1-score   support\n",
      "\n",
      "    Iris-setosa       1.00      1.00      1.00        42\n",
      "Iris-versicolor       0.95      1.00      0.97        39\n",
      " Iris-virginica       1.00      0.95      0.97        39\n",
      "\n",
      "       accuracy                           0.98       120\n",
      "      macro avg       0.98      0.98      0.98       120\n",
      "   weighted avg       0.98      0.98      0.98       120\n",
      "\n",
      "Test set\n",
      "                 precision    recall  f1-score   support\n",
      "\n",
      "    Iris-setosa       1.00      1.00      1.00         8\n",
      "Iris-versicolor       0.91      0.91      0.91        11\n",
      " Iris-virginica       0.91      0.91      0.91        11\n",
      "\n",
      "       accuracy                           0.93        30\n",
      "      macro avg       0.94      0.94      0.94        30\n",
      "   weighted avg       0.93      0.93      0.93        30\n",
      "\n"
     ]
    }
   ],
   "source": [
    "TrainAndPredictValues(K=3, x_train=df_with2attributes, x_test=df_with2attributes_test)"
   ]
  },
  {
   "cell_type": "code",
   "execution_count": 52,
   "id": "330698e3",
   "metadata": {},
   "outputs": [
    {
     "name": "stdout",
     "output_type": "stream",
     "text": [
      "Training set\n",
      "                 precision    recall  f1-score   support\n",
      "\n",
      "    Iris-setosa       1.00      1.00      1.00        42\n",
      "Iris-versicolor       0.95      0.97      0.96        39\n",
      " Iris-virginica       0.97      0.95      0.96        39\n",
      "\n",
      "       accuracy                           0.97       120\n",
      "      macro avg       0.97      0.97      0.97       120\n",
      "   weighted avg       0.98      0.97      0.97       120\n",
      "\n",
      "Test set\n",
      "                 precision    recall  f1-score   support\n",
      "\n",
      "    Iris-setosa       1.00      1.00      1.00         8\n",
      "Iris-versicolor       0.91      0.91      0.91        11\n",
      " Iris-virginica       0.91      0.91      0.91        11\n",
      "\n",
      "       accuracy                           0.93        30\n",
      "      macro avg       0.94      0.94      0.94        30\n",
      "   weighted avg       0.93      0.93      0.93        30\n",
      "\n"
     ]
    }
   ],
   "source": [
    "TrainAndPredictValues(K=5, x_train=df_with2attributes, x_test=df_with2attributes_test)"
   ]
  },
  {
   "cell_type": "code",
   "execution_count": 53,
   "id": "4c2ce2bd",
   "metadata": {},
   "outputs": [
    {
     "name": "stdout",
     "output_type": "stream",
     "text": [
      "Training set\n",
      "                 precision    recall  f1-score   support\n",
      "\n",
      "    Iris-setosa       1.00      1.00      1.00        42\n",
      "Iris-versicolor       0.95      0.95      0.95        39\n",
      " Iris-virginica       0.95      0.95      0.95        39\n",
      "\n",
      "       accuracy                           0.97       120\n",
      "      macro avg       0.97      0.97      0.97       120\n",
      "   weighted avg       0.97      0.97      0.97       120\n",
      "\n",
      "Test set\n",
      "                 precision    recall  f1-score   support\n",
      "\n",
      "    Iris-setosa       1.00      1.00      1.00         8\n",
      "Iris-versicolor       0.91      0.91      0.91        11\n",
      " Iris-virginica       0.91      0.91      0.91        11\n",
      "\n",
      "       accuracy                           0.93        30\n",
      "      macro avg       0.94      0.94      0.94        30\n",
      "   weighted avg       0.93      0.93      0.93        30\n",
      "\n"
     ]
    }
   ],
   "source": [
    "TrainAndPredictValues(K=7, x_train=df_with2attributes, x_test=df_with2attributes_test)"
   ]
  },
  {
   "cell_type": "code",
   "execution_count": 54,
   "id": "aa92271a",
   "metadata": {},
   "outputs": [
    {
     "name": "stdout",
     "output_type": "stream",
     "text": [
      "Training set\n",
      "                 precision    recall  f1-score   support\n",
      "\n",
      "    Iris-setosa       1.00      1.00      1.00        42\n",
      "Iris-versicolor       0.97      0.95      0.96        39\n",
      " Iris-virginica       0.95      0.97      0.96        39\n",
      "\n",
      "       accuracy                           0.97       120\n",
      "      macro avg       0.97      0.97      0.97       120\n",
      "   weighted avg       0.98      0.97      0.97       120\n",
      "\n",
      "Test set\n",
      "                 precision    recall  f1-score   support\n",
      "\n",
      "    Iris-setosa       1.00      1.00      1.00         8\n",
      "Iris-versicolor       1.00      0.82      0.90        11\n",
      " Iris-virginica       0.85      1.00      0.92        11\n",
      "\n",
      "       accuracy                           0.93        30\n",
      "      macro avg       0.95      0.94      0.94        30\n",
      "   weighted avg       0.94      0.93      0.93        30\n",
      "\n"
     ]
    }
   ],
   "source": [
    "TrainAndPredictValues(K=9, x_train=df_with3attributes, x_test=df_with3attributes_test)"
   ]
  },
  {
   "cell_type": "code",
   "execution_count": 55,
   "id": "7adb3f79",
   "metadata": {},
   "outputs": [
    {
     "name": "stdout",
     "output_type": "stream",
     "text": [
      "Training set\n",
      "                 precision    recall  f1-score   support\n",
      "\n",
      "    Iris-setosa       1.00      1.00      1.00        42\n",
      "Iris-versicolor       0.97      0.95      0.96        39\n",
      " Iris-virginica       0.95      0.97      0.96        39\n",
      "\n",
      "       accuracy                           0.97       120\n",
      "      macro avg       0.97      0.97      0.97       120\n",
      "   weighted avg       0.98      0.97      0.97       120\n",
      "\n",
      "Test set\n",
      "                 precision    recall  f1-score   support\n",
      "\n",
      "    Iris-setosa       1.00      1.00      1.00         8\n",
      "Iris-versicolor       1.00      0.91      0.95        11\n",
      " Iris-virginica       0.92      1.00      0.96        11\n",
      "\n",
      "       accuracy                           0.97        30\n",
      "      macro avg       0.97      0.97      0.97        30\n",
      "   weighted avg       0.97      0.97      0.97        30\n",
      "\n"
     ]
    }
   ],
   "source": [
    "TrainAndPredictValues(K=11, x_train=df_with3attributes, x_test=df_with3attributes_test)"
   ]
  },
  {
   "cell_type": "markdown",
   "id": "d1bbc4a8",
   "metadata": {},
   "source": [
    "#### Conjunto de datos sin normalizar\n",
    "Con 11 vecinos se encuentra un rendimiento parecido a los datos con 4 variables con las metricas de rendimiento."
   ]
  },
  {
   "cell_type": "code",
   "execution_count": 56,
   "id": "bcceec32",
   "metadata": {},
   "outputs": [
    {
     "name": "stdout",
     "output_type": "stream",
     "text": [
      "Training set\n",
      "                 precision    recall  f1-score   support\n",
      "\n",
      "    Iris-setosa       1.00      1.00      1.00        42\n",
      "Iris-versicolor       0.97      0.97      0.97        39\n",
      " Iris-virginica       0.97      0.97      0.97        39\n",
      "\n",
      "       accuracy                           0.98       120\n",
      "      macro avg       0.98      0.98      0.98       120\n",
      "   weighted avg       0.98      0.98      0.98       120\n",
      "\n",
      "Test set\n",
      "                 precision    recall  f1-score   support\n",
      "\n",
      "    Iris-setosa       1.00      1.00      1.00         8\n",
      "Iris-versicolor       1.00      1.00      1.00        11\n",
      " Iris-virginica       1.00      1.00      1.00        11\n",
      "\n",
      "       accuracy                           1.00        30\n",
      "      macro avg       1.00      1.00      1.00        30\n",
      "   weighted avg       1.00      1.00      1.00        30\n",
      "\n"
     ]
    }
   ],
   "source": [
    "TrainAndPredictValues(K=3, x_train=df_with3attributes_normalized, x_test=df_with3attributes_test_normalized)"
   ]
  },
  {
   "cell_type": "code",
   "execution_count": 57,
   "id": "dc22891f",
   "metadata": {},
   "outputs": [
    {
     "name": "stdout",
     "output_type": "stream",
     "text": [
      "Training set\n",
      "                 precision    recall  f1-score   support\n",
      "\n",
      "    Iris-setosa       1.00      1.00      1.00        42\n",
      "Iris-versicolor       0.95      0.97      0.96        39\n",
      " Iris-virginica       0.97      0.95      0.96        39\n",
      "\n",
      "       accuracy                           0.97       120\n",
      "      macro avg       0.97      0.97      0.97       120\n",
      "   weighted avg       0.98      0.97      0.97       120\n",
      "\n",
      "Test set\n",
      "                 precision    recall  f1-score   support\n",
      "\n",
      "    Iris-setosa       1.00      1.00      1.00         8\n",
      "Iris-versicolor       1.00      0.91      0.95        11\n",
      " Iris-virginica       0.92      1.00      0.96        11\n",
      "\n",
      "       accuracy                           0.97        30\n",
      "      macro avg       0.97      0.97      0.97        30\n",
      "   weighted avg       0.97      0.97      0.97        30\n",
      "\n"
     ]
    }
   ],
   "source": [
    "TrainAndPredictValues(K=5, x_train=df_with3attributes_normalized, x_test=df_with3attributes_test_normalized)"
   ]
  },
  {
   "cell_type": "code",
   "execution_count": 58,
   "id": "e449abd9",
   "metadata": {},
   "outputs": [
    {
     "name": "stdout",
     "output_type": "stream",
     "text": [
      "Training set\n",
      "                 precision    recall  f1-score   support\n",
      "\n",
      "    Iris-setosa       1.00      1.00      1.00        42\n",
      "Iris-versicolor       0.97      0.97      0.97        39\n",
      " Iris-virginica       0.97      0.97      0.97        39\n",
      "\n",
      "       accuracy                           0.98       120\n",
      "      macro avg       0.98      0.98      0.98       120\n",
      "   weighted avg       0.98      0.98      0.98       120\n",
      "\n",
      "Test set\n",
      "                 precision    recall  f1-score   support\n",
      "\n",
      "    Iris-setosa       1.00      1.00      1.00         8\n",
      "Iris-versicolor       0.91      0.91      0.91        11\n",
      " Iris-virginica       0.91      0.91      0.91        11\n",
      "\n",
      "       accuracy                           0.93        30\n",
      "      macro avg       0.94      0.94      0.94        30\n",
      "   weighted avg       0.93      0.93      0.93        30\n",
      "\n"
     ]
    }
   ],
   "source": [
    "TrainAndPredictValues(K=9, x_train=df_with3attributes_normalized, x_test=df_with3attributes_test_normalized)"
   ]
  },
  {
   "cell_type": "markdown",
   "id": "958a32f1",
   "metadata": {},
   "source": [
    "## **Ejercicio 8.**\n",
    "\n",
    "¿Qué valores puede tomar el hiperparámetro metric? ¿Cuál es la distancia que utiliza por defecto el clasificador KNN?\n",
    "¿Qué valores puede tomar el hiperparámetro weight y cuál podría ser su utilidad?"
   ]
  },
  {
   "cell_type": "markdown",
   "id": "ab6c28c6",
   "metadata": {},
   "source": [
    "#### Desarrollo"
   ]
  },
  {
   "cell_type": "code",
   "execution_count": null,
   "id": "5d98313b",
   "metadata": {},
   "outputs": [],
   "source": []
  }
 ],
 "metadata": {
  "kernelspec": {
   "display_name": "Python 3 (ipykernel)",
   "language": "python",
   "name": "python3"
  },
  "language_info": {
   "codemirror_mode": {
    "name": "ipython",
    "version": 3
   },
   "file_extension": ".py",
   "mimetype": "text/x-python",
   "name": "python",
   "nbconvert_exporter": "python",
   "pygments_lexer": "ipython3",
   "version": "3.9.12"
  }
 },
 "nbformat": 4,
 "nbformat_minor": 5
}
