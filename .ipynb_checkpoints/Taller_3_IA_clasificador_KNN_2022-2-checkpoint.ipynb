{
 "cells": [
  {
   "cell_type": "markdown",
   "metadata": {
    "id": "2fCttZG0opEs"
   },
   "source": [
    "# **Taller 3: clasificación de especies de iris usando K-vecinos más cercanos.**\n",
    "\n",
    "**Curso: 09481 - Inteligencia Artificial.**\n",
    "\n",
    "**Universidad Icesi.**\n",
    "\n",
    "**Profesor: Breyner Posso.**"
   ]
  },
  {
   "cell_type": "markdown",
   "metadata": {
    "id": "I-ADEbAe50_-"
   },
   "source": [
    "En este taller vamos a explorar el conjunto de datos iris que se usa desde hace varias décadas en estadística y reconocimiento de patrones. Este conjunto de datos fue utilizado por  Fisher en su artículo clásico de 1936, titulado \"The Use of Multiple Measurements in Taxonomic Problems\". El conjunto de datos muestra los atributos de tres especies de plantas que florecen, por ello, se presta para realizar un taller de clasificación. En esta sesión usted va a explorar el clasificador de k-vecinos más cercanos o KNN. Para ello va a explorar algunas de las etapas del flujo de proyectos de analítica que se han cubierto en el curso hasta el momento, entre ellos, el análisis exploratorio de datos incluyendo visualización, el escalado de los atributos de entrada, la división de los conjuntos de datos, y el cálculo y análisis de las métricas de desempeño de un clasificador. "
   ]
  },
  {
   "cell_type": "markdown",
   "metadata": {
    "id": "LQcNGMN07WXE"
   },
   "source": [
    "# 0. Importar librerías."
   ]
  },
  {
   "cell_type": "code",
   "execution_count": 1,
   "metadata": {
    "id": "6j2ZJQwUoqRD"
   },
   "outputs": [],
   "source": [
    "#Vamos a importar las librerías que vamos a utilizar.\n",
    "\n",
    "import pandas as pd                #Importamos la librería pandas. Nos va a servir para leer y manipular conjuntos de datos tabulares.\n",
    "import matplotlib.pyplot as plt    #Importamos pyplot de librería matplotlib. Lo vamos a utilizar para graficar.\n",
    "import seaborn as sns              #Importamos la librería Seaborn. La vamos a utilizar para graficar.\n",
    "import numpy as np                 #Importamos la librería numpy para manipular arreglos. \n",
    "#from google.colab import files     #Esta librería nos sirve para cargar archivos desde el disco duro.\n",
    "\n",
    "from sklearn.model_selection import train_test_split #Útil para dividir los conjuntos de datos. \n",
    "from sklearn.preprocessing import MinMaxScaler       #Útil para escalar los atributos de entrada.\n",
    "from sklearn import neighbors  #Permite usar KNN.\n",
    "from sklearn import metrics    #Permite calcular algunas métricas de desempeño.\n",
    "\n",
    "from copy import deepcopy      #Permite hacer copias profundas. "
   ]
  },
  {
   "cell_type": "markdown",
   "metadata": {
    "id": "7QBXi-bV7u0k"
   },
   "source": [
    "# 1. Cargar datos."
   ]
  },
  {
   "cell_type": "code",
   "execution_count": null,
   "metadata": {
    "colab": {
     "base_uri": "https://localhost:8080/",
     "height": 110,
     "resources": {
      "http://localhost:8080/nbextensions/google.colab/files.js": {
       "data": "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",
       "headers": [
        [
         "content-type",
         "application/javascript"
        ]
       ],
       "ok": true,
       "status": 200,
       "status_text": ""
      }
     }
    },
    "id": "l-qV7OutoyML",
    "outputId": "fcd06aee-f704-41a0-e643-aec542c360f0"
   },
   "outputs": [],
   "source": [
    "#Primero vamos a descargar el archivo \"iris.csv\" en nuestra máquina local desde Moodle o desde esta ruta: https://www.kaggle.com/uciml/iris\n",
    "\n",
    "#Ahora cargamos en Google Colab el archivo que tiene el conjunto de datos \"iris.csv\"\n",
    "files.upload()  #Nota: si este comando falla, revise que su navegador permite el almacenamiento de cookies. \n"
   ]
  },
  {
   "cell_type": "code",
   "execution_count": 2,
   "metadata": {},
   "outputs": [],
   "source": [
    "#Vamos a utilizar el dataset iris (https://www.kaggle.com/datasets/uciml/iris)\n",
    "# Vamos a leer el conjunto de datos en un dataframe de pandas.\n",
    "df = pd.read_csv('iris.csv') #Ruta completa a la ubicación del archivo de interés."
   ]
  },
  {
   "cell_type": "markdown",
   "metadata": {
    "id": "8NHHdbhh7Q0p"
   },
   "source": [
    "# 2. Análisis exploratorio de datos."
   ]
  },
  {
   "cell_type": "code",
   "execution_count": 5,
   "metadata": {},
   "outputs": [
    {
     "name": "stdout",
     "output_type": "stream",
     "text": [
      "Número de filas: 150\n",
      "Número de columnas: 6\n"
     ]
    }
   ],
   "source": [
    "n_obs,n_atr = df.shape\n",
    "print('Número de filas:' , n_obs)\n",
    "print('Número de columnas:', n_atr)"
   ]
  },
  {
   "cell_type": "markdown",
   "metadata": {},
   "source": [
    "#### **Pregunta 2.1**\n",
    "\n",
    "Indique los dipos de datos para cada uno de los atributos."
   ]
  },
  {
   "cell_type": "code",
   "execution_count": 6,
   "metadata": {},
   "outputs": [],
   "source": [
    "#Respuesta Pregunta 2.1\n"
   ]
  },
  {
   "cell_type": "markdown",
   "metadata": {},
   "source": [
    "#### **Pregunta 2.2**\n",
    "\n",
    "Indique si el dataset tiene valores nulos."
   ]
  },
  {
   "cell_type": "code",
   "execution_count": 6,
   "metadata": {},
   "outputs": [],
   "source": [
    "#Respuesta Pregunta 2.2\n"
   ]
  },
  {
   "cell_type": "code",
   "execution_count": 7,
   "metadata": {},
   "outputs": [
    {
     "data": {
      "text/html": [
       "<div>\n",
       "<style scoped>\n",
       "    .dataframe tbody tr th:only-of-type {\n",
       "        vertical-align: middle;\n",
       "    }\n",
       "\n",
       "    .dataframe tbody tr th {\n",
       "        vertical-align: top;\n",
       "    }\n",
       "\n",
       "    .dataframe thead th {\n",
       "        text-align: right;\n",
       "    }\n",
       "</style>\n",
       "<table border=\"1\" class=\"dataframe\">\n",
       "  <thead>\n",
       "    <tr style=\"text-align: right;\">\n",
       "      <th></th>\n",
       "      <th>Id</th>\n",
       "      <th>SepalLengthCm</th>\n",
       "      <th>SepalWidthCm</th>\n",
       "      <th>PetalLengthCm</th>\n",
       "      <th>PetalWidthCm</th>\n",
       "    </tr>\n",
       "  </thead>\n",
       "  <tbody>\n",
       "    <tr>\n",
       "      <th>count</th>\n",
       "      <td>150.000000</td>\n",
       "      <td>150.000000</td>\n",
       "      <td>150.000000</td>\n",
       "      <td>150.000000</td>\n",
       "      <td>150.000000</td>\n",
       "    </tr>\n",
       "    <tr>\n",
       "      <th>mean</th>\n",
       "      <td>75.500000</td>\n",
       "      <td>5.843333</td>\n",
       "      <td>3.054000</td>\n",
       "      <td>3.758667</td>\n",
       "      <td>1.198667</td>\n",
       "    </tr>\n",
       "    <tr>\n",
       "      <th>std</th>\n",
       "      <td>43.445368</td>\n",
       "      <td>0.828066</td>\n",
       "      <td>0.433594</td>\n",
       "      <td>1.764420</td>\n",
       "      <td>0.763161</td>\n",
       "    </tr>\n",
       "    <tr>\n",
       "      <th>min</th>\n",
       "      <td>1.000000</td>\n",
       "      <td>4.300000</td>\n",
       "      <td>2.000000</td>\n",
       "      <td>1.000000</td>\n",
       "      <td>0.100000</td>\n",
       "    </tr>\n",
       "    <tr>\n",
       "      <th>25%</th>\n",
       "      <td>38.250000</td>\n",
       "      <td>5.100000</td>\n",
       "      <td>2.800000</td>\n",
       "      <td>1.600000</td>\n",
       "      <td>0.300000</td>\n",
       "    </tr>\n",
       "    <tr>\n",
       "      <th>50%</th>\n",
       "      <td>75.500000</td>\n",
       "      <td>5.800000</td>\n",
       "      <td>3.000000</td>\n",
       "      <td>4.350000</td>\n",
       "      <td>1.300000</td>\n",
       "    </tr>\n",
       "    <tr>\n",
       "      <th>75%</th>\n",
       "      <td>112.750000</td>\n",
       "      <td>6.400000</td>\n",
       "      <td>3.300000</td>\n",
       "      <td>5.100000</td>\n",
       "      <td>1.800000</td>\n",
       "    </tr>\n",
       "    <tr>\n",
       "      <th>max</th>\n",
       "      <td>150.000000</td>\n",
       "      <td>7.900000</td>\n",
       "      <td>4.400000</td>\n",
       "      <td>6.900000</td>\n",
       "      <td>2.500000</td>\n",
       "    </tr>\n",
       "  </tbody>\n",
       "</table>\n",
       "</div>"
      ],
      "text/plain": [
       "               Id  SepalLengthCm  SepalWidthCm  PetalLengthCm  PetalWidthCm\n",
       "count  150.000000     150.000000    150.000000     150.000000    150.000000\n",
       "mean    75.500000       5.843333      3.054000       3.758667      1.198667\n",
       "std     43.445368       0.828066      0.433594       1.764420      0.763161\n",
       "min      1.000000       4.300000      2.000000       1.000000      0.100000\n",
       "25%     38.250000       5.100000      2.800000       1.600000      0.300000\n",
       "50%     75.500000       5.800000      3.000000       4.350000      1.300000\n",
       "75%    112.750000       6.400000      3.300000       5.100000      1.800000\n",
       "max    150.000000       7.900000      4.400000       6.900000      2.500000"
      ]
     },
     "execution_count": 7,
     "metadata": {},
     "output_type": "execute_result"
    }
   ],
   "source": [
    "#Vamos a ver algunas estadísticas básicas del dataset\n",
    "df.describe()"
   ]
  },
  {
   "cell_type": "code",
   "execution_count": 8,
   "metadata": {
    "colab": {
     "base_uri": "https://localhost:8080/"
    },
    "id": "UnBtX3fzpKKz",
    "outputId": "da2b823e-76e1-4698-9aa6-f96646f08d37",
    "scrolled": false
   },
   "outputs": [
    {
     "name": "stdout",
     "output_type": "stream",
     "text": [
      "-----------------------------------------------------------------------\n",
      "Primeras filas del dataframe:\n",
      "-----------------------------------------------------------------------\n",
      "   Id  SepalLengthCm  SepalWidthCm  PetalLengthCm  PetalWidthCm      Species\n",
      "0   1            5.1           3.5            1.4           0.2  Iris-setosa\n",
      "1   2            4.9           3.0            1.4           0.2  Iris-setosa\n",
      "2   3            4.7           3.2            1.3           0.2  Iris-setosa\n",
      "3   4            4.6           3.1            1.5           0.2  Iris-setosa\n",
      "4   5            5.0           3.6            1.4           0.2  Iris-setosa \n",
      "\n",
      "\n"
     ]
    }
   ],
   "source": [
    "# Inspeccionemos el dataframe:\n",
    "print('-----------------------------------------------------------------------')\n",
    "print('Primeras filas del dataframe:')  \n",
    "print('-----------------------------------------------------------------------')\n",
    "print(df.head(),'\\n\\n')"
   ]
  },
  {
   "cell_type": "markdown",
   "metadata": {},
   "source": [
    "### Así se ven las flores\n",
    "\n",
    "![Flores](img/flores.jpg)\n",
    "\n",
    "### Y sus partes\n",
    "\n",
    "\n",
    "![Partes de las flores](img/partes.jpg)"
   ]
  },
  {
   "cell_type": "code",
   "execution_count": 10,
   "metadata": {
    "colab": {
     "base_uri": "https://localhost:8080/"
    },
    "id": "yJb7TCgSsPZz",
    "outputId": "72398863-6687-4f99-d224-c262fe198689"
   },
   "outputs": [
    {
     "name": "stdout",
     "output_type": "stream",
     "text": [
      "El nuevo dtype de la columna Species es:  category \n",
      "\n"
     ]
    }
   ],
   "source": [
    "#Necesitamos cambiar el dtype de la columna 'Species' a category.\n",
    "df['Species'] = df['Species'].astype('category')\n",
    "print('El nuevo dtype de la columna Species es: ',df['Species'].dtypes, '\\n')\n"
   ]
  },
  {
   "cell_type": "code",
   "execution_count": 14,
   "metadata": {},
   "outputs": [
    {
     "name": "stdout",
     "output_type": "stream",
     "text": [
      "0         Iris-setosa\n",
      "1         Iris-setosa\n",
      "2         Iris-setosa\n",
      "3         Iris-setosa\n",
      "4         Iris-setosa\n",
      "            ...      \n",
      "145    Iris-virginica\n",
      "146    Iris-virginica\n",
      "147    Iris-virginica\n",
      "148    Iris-virginica\n",
      "149    Iris-virginica\n",
      "Name: Species, Length: 150, dtype: category\n",
      "Categories (3, object): ['Iris-setosa', 'Iris-versicolor', 'Iris-virginica']\n",
      "\n",
      "\n",
      "<class 'pandas.core.series.Series'>\n"
     ]
    }
   ],
   "source": [
    "print(df['Species'])\n",
    "print('\\n')\n",
    "print(type(df['Species']))"
   ]
  },
  {
   "cell_type": "markdown",
   "metadata": {},
   "source": [
    "### Distribución de la variable Target"
   ]
  },
  {
   "cell_type": "code",
   "execution_count": 15,
   "metadata": {
    "colab": {
     "base_uri": "https://localhost:8080/",
     "height": 781
    },
    "id": "4qNqG8EC7OsU",
    "outputId": "d872f89d-6094-4ab8-e8d1-1e32e6a8d8c3",
    "scrolled": true
   },
   "outputs": [
    {
     "name": "stdout",
     "output_type": "stream",
     "text": [
      "La lista de especies es:  ['Iris-setosa', 'Iris-versicolor', 'Iris-virginica'] \n",
      "\n",
      "Conteo de objetos por especie:\n",
      "Iris-setosa        50\n",
      "Iris-versicolor    50\n",
      "Iris-virginica     50\n",
      "Name: Species, dtype: int64\n",
      "\n",
      "El tipo de este objeto es:  <class 'pandas.core.series.Series'> \n",
      "\n"
     ]
    },
    {
     "data": {
      "image/png": "[encoded data removed]",
      "text/plain": [
       "<Figure size 360x360 with 1 Axes>"
      ]
     },
     "metadata": {},
     "output_type": "display_data"
    },
    {
     "data": {
      "image/png": "[encoded data removed]",
      "text/plain": [
       "<Figure size 432x288 with 1 Axes>"
      ]
     },
     "metadata": {
      "needs_background": "light"
     },
     "output_type": "display_data"
    }
   ],
   "source": [
    "#Revisemos las categorías del conjunto de datos.\n",
    "lista_de_especies = df['Species'].unique().to_list()\n",
    "print('La lista de especies es: ',lista_de_especies, '\\n')\n",
    "\n",
    "#Econtremos cómo están repartidas las categorías en el conjunto de datos. \n",
    "conteo_de_ejemplos_por_especie = df['Species'].value_counts()\n",
    "print('Conteo de objetos por especie:\\n', conteo_de_ejemplos_por_especie, '\\n',sep='')\n",
    "print('El tipo de este objeto es: ', type(conteo_de_ejemplos_por_especie),'\\n')\n",
    "\n",
    "#Revisemos esta información de forma gráfica.\n",
    "#-------------------------------------------------------------------------------\n",
    "#Opción 1: usemos un gráfico tipo pastel desde pandas. \n",
    "#-------------------------------------------------------------------------------\n",
    "conteo_de_ejemplos_por_especie.plot(kind='pie', \n",
    "                                    figsize=(5, 5),\n",
    "                                    #autopct='%1.1f%%',  #Esto muestra úicamente el porcentaje de ejemplos de cada categoría en el gráfico. \n",
    "                                    autopct=lambda pct: '{:.1f}%\\n({:d})'.format(pct, int(pct/100.*conteo_de_ejemplos_por_especie.sum())), #Con esta función lambda se puede mostrar el porcentaje y el número absoluto de ejemplos en cada categoría. \n",
    "                                    startangle=90,       #Esto define la orientación de la línea vertical inicial de las divisiones del pie chart.\n",
    "                                    fontsize=14,         #Tamaño de los textos.         \n",
    "                                    cmap='Pastel1')      #Para otros color maps visite: https://matplotlib.org/stable/tutorials/colors/colormaps.html\n",
    "titulo = 'Distribución del número de ejemplos de cada\\ncategoría en el conjunto de datos'\n",
    "plt.title(titulo) \n",
    "plt.ylabel('') #Esto es para evitar un texto en el eje y que diría Species.\n",
    "plt.show()\n",
    "\n",
    "#-------------------------------------------------------------------------------\n",
    "#Opción 2: usemos un gráfico de barras. \n",
    "#-------------------------------------------------------------------------------\n",
    "ax = conteo_de_ejemplos_por_especie.plot.bar(x='Species', rot=0, color='gray')\n",
    "plt.title(titulo) \n",
    "plt.ylabel('Número de ejemplos')\n",
    "plt.show()\n",
    "\n"
   ]
  },
  {
   "cell_type": "markdown",
   "metadata": {},
   "source": [
    "### Valores indeseados (ceros, outliers, etc.)"
   ]
  },
  {
   "cell_type": "code",
   "execution_count": 21,
   "metadata": {
    "scrolled": true
   },
   "outputs": [
    {
     "name": "stdout",
     "output_type": "stream",
     "text": [
      "Atributo: SepalLengthCm\n",
      "Número de valores 0:  0\n",
      "Porcentaje de valores cero: 0.00\n"
     ]
    },
    {
     "data": {
      "image/png": "[encoded data removed]",
      "text/plain": [
       "<Figure size 432x288 with 1 Axes>"
      ]
     },
     "metadata": {},
     "output_type": "display_data"
    },
    {
     "name": "stdout",
     "output_type": "stream",
     "text": [
      "Atributo: SepalWidthCm\n",
      "Número de valores 0:  0\n",
      "Porcentaje de valores cero: 0.00\n"
     ]
    },
    {
     "data": {
      "image/png": "[encoded data removed]",
      "text/plain": [
       "<Figure size 432x288 with 1 Axes>"
      ]
     },
     "metadata": {},
     "output_type": "display_data"
    },
    {
     "name": "stdout",
     "output_type": "stream",
     "text": [
      "Atributo: PetalLengthCm\n",
      "Número de valores 0:  0\n",
      "Porcentaje de valores cero: 0.00\n"
     ]
    },
    {
     "data": {
      "image/png": "[encoded data removed]",
      "text/plain": [
       "<Figure size 432x288 with 1 Axes>"
      ]
     },
     "metadata": {},
     "output_type": "display_data"
    },
    {
     "name": "stdout",
     "output_type": "stream",
     "text": [
      "Atributo: PetalWidthCm\n",
      "Número de valores 0:  0\n",
      "Porcentaje de valores cero: 0.00\n"
     ]
    },
    {
     "data": {
      "image/png": "[encoded data removed]",
      "text/plain": [
       "<Figure size 432x288 with 1 Axes>"
      ]
     },
     "metadata": {},
     "output_type": "display_data"
    }
   ],
   "source": [
    "#atributo = \"Id\"\n",
    "#atributo = \"SepalLengthCm\" \n",
    "#atributo = \"SepalWidthCm\"\n",
    "#atributo = \"PetalLengthCm\"\n",
    "#atributo = \"PetalWidthCm\"\n",
    "\n",
    "sns.set_theme(style=\"whitegrid\")     \n",
    "n_rows, n_cols = df.shape\n",
    "\n",
    "for i in range(1,n_cols-1):\n",
    "    atributo_de_interes = df.columns[i]\n",
    "    count = (df[atributo_de_interes] == 0).sum()\n",
    "    print('Atributo: ' + atributo_de_interes)\n",
    "    print(\"Número de valores 0: \", count)\n",
    "    print(\"Porcentaje de valores cero: %.2f\" % (100*count/n_rows))\n",
    "    ax = sns.violinplot(x=\"Species\", y=atributo_de_interes, data=df, palette=\"muted\", split=True)\n",
    "    plt.show()"
   ]
  },
  {
   "cell_type": "markdown",
   "metadata": {},
   "source": [
    "### Histogramas"
   ]
  },
  {
   "cell_type": "code",
   "execution_count": 24,
   "metadata": {
    "scrolled": true
   },
   "outputs": [
    {
     "data": {
      "image/png": "[encoded data removed]",
      "text/plain": [
       "<Figure size 432x432 with 1 Axes>"
      ]
     },
     "metadata": {},
     "output_type": "display_data"
    }
   ],
   "source": [
    "#atributo = \"Id\"\n",
    "atributo = \"SepalLengthCm\" \n",
    "#atributo = \"SepalWidthCm\"\n",
    "#atributo = \"PetalLengthCm\"\n",
    "#atributo = \"PetalWidthCm\"\n",
    "\n",
    "#Qué tal si coloreamos el histograma de acuerdo con el número de cilindros de los vehículos?\n",
    "plt.figure(figsize=(6,6))\n",
    "sns.histplot(data     = df, \n",
    "             x        = atributo,\n",
    "             bins     = 30,\n",
    "             hue      = 'Species',\n",
    "             fill     = True,\n",
    "             stat     = 'count')  #'count' muestra el número de observaciones.\n",
    "                              #'frequency' muestra el número de observaciones dividida por el ancho del bin.\n",
    "                              #'density' normaliza las cuentas tal que el área del histograma es 1.\n",
    "                              #'probability' normaliza las cuentas tal que la suma de la altura de las barras es 1.\n",
    "\n",
    "plt.xlabel(atributo) #Texto en el eje x.\n",
    "plt.ylabel('Cuentas')              #Texto en el eje y.\n",
    "plt.title('Histograma')             #Título del gráfico. \n",
    "plt.show()"
   ]
  },
  {
   "cell_type": "markdown",
   "metadata": {},
   "source": [
    "#### **Pregunta 2.3**\n",
    "\n",
    "Construya histogramas para el resto de atributos y consigne las observaciones que considere pertinentes."
   ]
  },
  {
   "cell_type": "code",
   "execution_count": 25,
   "metadata": {},
   "outputs": [],
   "source": [
    "#Respuesta Pregunta 2.3\n"
   ]
  },
  {
   "cell_type": "markdown",
   "metadata": {},
   "source": [
    "### Correlaciones"
   ]
  },
  {
   "cell_type": "code",
   "execution_count": 28,
   "metadata": {
    "scrolled": true
   },
   "outputs": [
    {
     "data": {
      "image/png": "[encoded data removed]",
      "text/plain": [
       "<Figure size 825.225x720 with 20 Axes>"
      ]
     },
     "metadata": {},
     "output_type": "display_data"
    }
   ],
   "source": [
    "sns.set(style='white')\n",
    "sns.set_palette('Set2')\n",
    "\n",
    "g = sns.PairGrid(data=df.iloc[:,1:],hue='Species',diag_sharey=False, corner=False)  #Note que no graficamos la columna 0 correspondiente a Id, \n",
    "                                                                     #pues no aporta información. Usamos las categorías de la columna de\n",
    "                                                                     #'Species' para colorear las gráficas.\n",
    "\n",
    "g.map_diag(sns.histplot) #Muestra el histograma en la diagonal principal.\n",
    "g.map_lower(sns.scatterplot) #Muestra gráficos de dispersión en la sección inferior izquierda de la matriz.\n",
    "\n",
    "g.add_legend()\n",
    "\n",
    "plt.show()"
   ]
  },
  {
   "cell_type": "markdown",
   "metadata": {},
   "source": [
    "#### **Pregunta 2.4**\n",
    "\n",
    "Observe la figura anterior e indique qué hipótesis puede realizar."
   ]
  },
  {
   "cell_type": "code",
   "execution_count": 1,
   "metadata": {},
   "outputs": [],
   "source": [
    "#Respuesta Pregunta 2.4\n"
   ]
  },
  {
   "cell_type": "markdown",
   "metadata": {},
   "source": [
    "# 3. Modelo"
   ]
  },
  {
   "cell_type": "markdown",
   "metadata": {},
   "source": [
    "### 3.1. Problema: Clasificación"
   ]
  },
  {
   "cell_type": "markdown",
   "metadata": {},
   "source": [
    "### 3.2. Modelo: KNN\n",
    "\n",
    "![knn](img/knn_algorithm.png)"
   ]
  },
  {
   "cell_type": "markdown",
   "metadata": {
    "id": "Zi1yVjtQ85Xg"
   },
   "source": [
    "### 3.3. Selección de atributos (predictores)."
   ]
  },
  {
   "cell_type": "code",
   "execution_count": 80,
   "metadata": {
    "id": "367gwKJd83qw"
   },
   "outputs": [],
   "source": [
    "#Nombre de la salida deseada:\n",
    "nombre_de_la_variable_de_salida='Species' \n",
    "\n",
    "#Nombre de los posibles atributos de entrada:\n",
    "# 'SepalLengthCm'\n",
    "# 'SepalWidthCm'\n",
    "# 'PetalLengthCm'\n",
    "# 'PetalWidthCm'\n",
    "\n",
    "#En este primer ejemplo vamos a utilizar 4 variables:\n",
    "nombre_de_las_variables_de_entrada = ['SepalLengthCm','SepalWidthCm','PetalLengthCm','PetalWidthCm']"
   ]
  },
  {
   "cell_type": "code",
   "execution_count": 85,
   "metadata": {},
   "outputs": [
    {
     "name": "stdout",
     "output_type": "stream",
     "text": [
      "0         Iris-setosa\n",
      "1         Iris-setosa\n",
      "2         Iris-setosa\n",
      "3         Iris-setosa\n",
      "4         Iris-setosa\n",
      "            ...      \n",
      "145    Iris-virginica\n",
      "146    Iris-virginica\n",
      "147    Iris-virginica\n",
      "148    Iris-virginica\n",
      "149    Iris-virginica\n",
      "Name: Species, Length: 150, dtype: category\n",
      "Categories (3, object): ['Iris-setosa', 'Iris-versicolor', 'Iris-virginica']\n"
     ]
    }
   ],
   "source": [
    "#La variable Target (Species) es categórica pero los valores no son apropiados para entrenar\n",
    "#un modelo de Machine Learning\n",
    "\n",
    "print(df[nombre_de_la_variable_de_salida])"
   ]
  },
  {
   "cell_type": "code",
   "execution_count": 34,
   "metadata": {
    "colab": {
     "base_uri": "https://localhost:8080/"
    },
    "id": "5vcZ13kAKUBp",
    "outputId": "bbde2fa3-1de6-4295-e3c8-b39b165f311e",
    "scrolled": true
   },
   "outputs": [
    {
     "name": "stdout",
     "output_type": "stream",
     "text": [
      "Nombres de las nuevas columnas:  ['Iris-setosa', 'Iris-versicolor', 'Iris-virginica'] \n",
      "\n",
      "Dataframe de salida:\n",
      "     Iris-setosa  Iris-versicolor  Iris-virginica\n",
      "0              1                0               0\n",
      "1              1                0               0\n",
      "2              1                0               0\n",
      "3              1                0               0\n",
      "4              1                0               0\n",
      "..           ...              ...             ...\n",
      "145            0                0               1\n",
      "146            0                0               1\n",
      "147            0                0               1\n",
      "148            0                0               1\n",
      "149            0                0               1\n",
      "\n",
      "[150 rows x 3 columns]\n",
      "\n",
      "Dataframe de entrada:\n",
      "     SepalLengthCm  SepalWidthCm  PetalLengthCm  PetalWidthCm\n",
      "0              5.1           3.5            1.4           0.2\n",
      "1              4.9           3.0            1.4           0.2\n",
      "2              4.7           3.2            1.3           0.2\n",
      "3              4.6           3.1            1.5           0.2\n",
      "4              5.0           3.6            1.4           0.2\n",
      "..             ...           ...            ...           ...\n",
      "145            6.7           3.0            5.2           2.3\n",
      "146            6.3           2.5            5.0           1.9\n",
      "147            6.5           3.0            5.2           2.0\n",
      "148            6.2           3.4            5.4           2.3\n",
      "149            5.9           3.0            5.1           1.8\n",
      "\n",
      "[150 rows x 4 columns]\n"
     ]
    }
   ],
   "source": [
    "#Vamos a aplicar una codificación one-hot a la variable de salida categórica, \n",
    "#para obtener un dataframe con las nuevas variables dummy de salida.\n",
    "#(https://pandas.pydata.org/pandas-docs/stable/reference/api/pandas.get_dummies.html)\n",
    "\n",
    "df_y = pd.get_dummies(df[nombre_de_la_variable_de_salida])\n",
    "nombres_de_las_variables_de_salida = df_y.columns.to_list()\n",
    "print('Nombres de las nuevas columnas: ',nombres_de_las_variables_de_salida,'\\n')\n",
    "print('Dataframe de salida:')\n",
    "print(df_y)\n",
    "\n",
    "#Ahora, obtenemos un dataframe con las variables de entrada que vamos a utilizar.\n",
    "df_x = deepcopy(df[nombre_de_las_variables_de_entrada])\n",
    "print('\\nDataframe de entrada:')\n",
    "print(df_x)"
   ]
  },
  {
   "cell_type": "markdown",
   "metadata": {
    "id": "gfDNMdAizVAa"
   },
   "source": [
    "### 3.4. División del conjunto de datos.\n",
    "\n",
    "![division_datos](img/division_datos.png)"
   ]
  },
  {
   "cell_type": "code",
   "execution_count": 35,
   "metadata": {
    "scrolled": true
   },
   "outputs": [
    {
     "name": "stdout",
     "output_type": "stream",
     "text": [
      "-----------------------------------------------------------------------\n",
      "Conjunto de datos de entrenamiento 80%\n",
      "-----------------------------------------------------------------------\n",
      "<class 'pandas.core.frame.DataFrame'>\n",
      "Int64Index: 120 entries, 39 to 99\n",
      "Data columns (total 4 columns):\n",
      " #   Column         Non-Null Count  Dtype  \n",
      "---  ------         --------------  -----  \n",
      " 0   SepalLengthCm  120 non-null    float64\n",
      " 1   SepalWidthCm   120 non-null    float64\n",
      " 2   PetalLengthCm  120 non-null    float64\n",
      " 3   PetalWidthCm   120 non-null    float64\n",
      "dtypes: float64(4)\n",
      "memory usage: 4.7 KB\n",
      "None \n",
      "\n",
      "-----------------------------------------------------------------------\n",
      "Conjunto de datos de prueba 20%\n",
      "-----------------------------------------------------------------------\n",
      "<class 'pandas.core.frame.DataFrame'>\n",
      "Int64Index: 30 entries, 82 to 132\n",
      "Data columns (total 4 columns):\n",
      " #   Column         Non-Null Count  Dtype  \n",
      "---  ------         --------------  -----  \n",
      " 0   SepalLengthCm  30 non-null     float64\n",
      " 1   SepalWidthCm   30 non-null     float64\n",
      " 2   PetalLengthCm  30 non-null     float64\n",
      " 3   PetalWidthCm   30 non-null     float64\n",
      "dtypes: float64(4)\n",
      "memory usage: 1.2 KB\n",
      "None\n",
      "\n"
     ]
    }
   ],
   "source": [
    "# Vamos a dividir los datos en un conjunto de entrenamiento y un conjunto de pruebas.\n",
    "mezclar_los_datos       = True #Vamos a mezclar de forma aleatoria los datos antes de particionarlos. \n",
    "valor_semilla_aleatoria = 5   #Esto es útil si se quiere garantizar la repetibilidad \n",
    "                               #de la partición de datos en ejecuciones sucesivas de su notebook o script. \n",
    "\n",
    "#Porcentajes de división de datos. \n",
    "particion_para_entrenamiento = 0.8  #Dejamos el 60% de los datos para el conjunto de entrenamiento (training set).\n",
    "particion_para_pruebas       = 1.0-particion_para_entrenamiento #Dejamos los otros datos, correspondiente al 20%, para el conjunto de pruebas. \n",
    "\n",
    "#Hacemos la partición para obtener el conjunto de pruebas y el \"resto\" (i.e.: entrenamiento y desarrollo).\n",
    "df_x_train, df_x_test, df_y_train, df_y_test = train_test_split(df_x,                                         #100% de los datos de entrada. \n",
    "                                                              df_y,                                         #100% de los datos de salida. \n",
    "                                                              test_size=particion_para_pruebas, \n",
    "                                                              random_state=valor_semilla_aleatoria, \n",
    "                                                              shuffle=mezclar_los_datos)\n",
    "\n",
    "print('-----------------------------------------------------------------------')\n",
    "print('Conjunto de datos de entrenamiento {:1.0f}%'.format(particion_para_entrenamiento*100))\n",
    "print('-----------------------------------------------------------------------')\n",
    "print(df_x_train.info(),'\\n')\n",
    "\n",
    "print('-----------------------------------------------------------------------')\n",
    "print('Conjunto de datos de prueba {:1.0f}%'.format(particion_para_pruebas*100))\n",
    "print('-----------------------------------------------------------------------')\n",
    "print(df_x_test.info(),'\\n',sep='')"
   ]
  },
  {
   "cell_type": "markdown",
   "metadata": {},
   "source": [
    "#### **Pregunta 3.1**\n",
    "\n",
    "Obtenga estadísticas básicas de los conjuntos de entrenamiento y prueba (puede usar df.describe()) y comparelas ¿qué puede concluir al respecto?"
   ]
  },
  {
   "cell_type": "code",
   "execution_count": 39,
   "metadata": {},
   "outputs": [],
   "source": [
    "#Respuesta Pregunta 3.1\n"
   ]
  },
  {
   "cell_type": "markdown",
   "metadata": {},
   "source": [
    "#### **Pregunta 3.2**\n",
    "\n",
    "Obtenga la distribución en número y porcentaje de cada una de las clases tanto en el conjunto de entrenamiento como en el de prueba y comparelas ¿qué puede concluir al respecto?"
   ]
  },
  {
   "cell_type": "code",
   "execution_count": 47,
   "metadata": {},
   "outputs": [],
   "source": [
    "#Respuesta Pregunta 3.2\n"
   ]
  },
  {
   "cell_type": "markdown",
   "metadata": {
    "id": "PEoWzsCE6tPa"
   },
   "source": [
    "### 3.5. Escalado de atributos."
   ]
  },
  {
   "cell_type": "markdown",
   "metadata": {
    "id": "7OJ3qGeUUJWB"
   },
   "source": [
    "### 3.6. Contrucción del modelo."
   ]
  },
  {
   "cell_type": "code",
   "execution_count": 45,
   "metadata": {
    "colab": {
     "base_uri": "https://localhost:8080/"
    },
    "id": "x25B494jFmGC",
    "outputId": "7364d2da-26be-43d0-88ed-4241c0cffbac",
    "scrolled": true
   },
   "outputs": [
    {
     "data": {
      "text/plain": [
       "KNeighborsClassifier()"
      ]
     },
     "execution_count": 45,
     "metadata": {},
     "output_type": "execute_result"
    }
   ],
   "source": [
    "#-------------------------------------------------------------------------------\n",
    "#K-vecinos más cercanos (K-nearest neighbors o simplemente KNN).\n",
    "#-------------------------------------------------------------------------------\n",
    "k   = 5  #Número de vecinos cercanos.\n",
    "knn = neighbors.KNeighborsClassifier(n_neighbors=k) #Instanciamos el clasificador KNN.\n",
    "knn.fit(df_x_train, df_y_train)                #Ajustamos el clasificador. \n"
   ]
  },
  {
   "cell_type": "markdown",
   "metadata": {
    "id": "8DjcyZb2Xpu5"
   },
   "source": [
    "### 3.7. Predicción."
   ]
  },
  {
   "cell_type": "markdown",
   "metadata": {
    "id": "8DjcyZb2Xpu5"
   },
   "source": [
    "#### 3.7.1. Conjunto de entrenamiento."
   ]
  },
  {
   "cell_type": "code",
   "execution_count": 86,
   "metadata": {
    "colab": {
     "base_uri": "https://localhost:8080/"
    },
    "id": "jEVQxuXhl9-S",
    "outputId": "c343e697-4736-4c04-de84-7b44ea447fcf"
   },
   "outputs": [
    {
     "name": "stdout",
     "output_type": "stream",
     "text": [
      "¿Qué retorna knn.predict?  Tipo de dato:  <class 'numpy.ndarray'> dimensiones:  (120, 3)\n",
      "¿Cómo están las salidas deseadas?  Tipo de dato:  <class 'numpy.ndarray'> dimensiones:  (120, 3)\n"
     ]
    }
   ],
   "source": [
    "y_pred_train = knn.predict(df_x_train)       #Realizamos predicciones sobre el conjunto de entrenamiento. \n",
    "                                                    #Note que knn.predict retorna un arreglo numpy NO un dataframe.\n",
    "print('¿Qué retorna knn.predict? ','Tipo de dato: ',type(y_pred_train),'dimensiones: ', y_pred_train.shape)\n",
    "\n",
    "#-------------------------------------------------------------------------------\n",
    "###Nota: si usted necesitara o deseara convertir el arreglo numpy a un dataframe podría hacerlo fácilmente:\n",
    "##df_y_pred_train = pd.DataFrame(data=y_pred,columns=nombres_de_las_variables_de_salida)\n",
    "#-------------------------------------------------------------------------------\n",
    "\n",
    "#Ahora, debemos convertir los valores \"deseados\" que tenemos como dataframes \n",
    "#en arreglos numpy para aprovechar las herramientas que nos ofrece scikit-learn.\n",
    "y_train = df_y_train.values\n",
    "print('¿Cómo están las salidas deseadas? ','Tipo de dato: ',type(y_train),'dimensiones: ', y_train.shape)"
   ]
  },
  {
   "cell_type": "code",
   "execution_count": 87,
   "metadata": {
    "scrolled": true
   },
   "outputs": [
    {
     "name": "stdout",
     "output_type": "stream",
     "text": [
      "Veamos el contenido de y_pred_train: \n",
      "\n",
      "[[1 0 0]\n",
      " [0 1 0]\n",
      " [0 1 0]\n",
      " [1 0 0]\n",
      " [0 1 0]\n",
      " [1 0 0]\n",
      " [1 0 0]\n",
      " [0 0 1]\n",
      " [1 0 0]\n",
      " [0 0 1]\n",
      " [0 0 1]\n",
      " [0 1 0]\n",
      " [1 0 0]\n",
      " [1 0 0]\n",
      " [0 1 0]\n",
      " [0 0 1]\n",
      " [0 1 0]\n",
      " [0 0 1]\n",
      " [0 0 1]\n",
      " [1 0 0]\n",
      " [0 0 1]\n",
      " [1 0 0]\n",
      " [1 0 0]\n",
      " [1 0 0]\n",
      " [1 0 0]\n",
      " [0 1 0]\n",
      " [0 1 0]\n",
      " [0 1 0]\n",
      " [0 1 0]\n",
      " [0 0 1]\n",
      " [0 1 0]\n",
      " [0 0 1]\n",
      " [0 0 1]\n",
      " [0 1 0]\n",
      " [1 0 0]\n",
      " [0 1 0]\n",
      " [1 0 0]\n",
      " [0 1 0]\n",
      " [0 0 1]\n",
      " [0 1 0]\n",
      " [0 0 1]\n",
      " [0 1 0]\n",
      " [0 0 1]\n",
      " [0 1 0]\n",
      " [0 1 0]\n",
      " [0 1 0]\n",
      " [0 0 1]\n",
      " [0 1 0]\n",
      " [1 0 0]\n",
      " [0 0 1]\n",
      " [1 0 0]\n",
      " [1 0 0]\n",
      " [0 1 0]\n",
      " [1 0 0]\n",
      " [1 0 0]\n",
      " [0 0 1]\n",
      " [0 1 0]\n",
      " [1 0 0]\n",
      " [0 0 1]\n",
      " [1 0 0]\n",
      " [0 0 1]\n",
      " [0 1 0]\n",
      " [1 0 0]\n",
      " [1 0 0]\n",
      " [0 0 1]\n",
      " [0 1 0]\n",
      " [0 1 0]\n",
      " [1 0 0]\n",
      " [1 0 0]\n",
      " [0 0 1]\n",
      " [0 1 0]\n",
      " [0 1 0]\n",
      " [1 0 0]\n",
      " [0 1 0]\n",
      " [0 0 1]\n",
      " [0 1 0]\n",
      " [1 0 0]\n",
      " [0 1 0]\n",
      " [0 0 1]\n",
      " [0 0 1]\n",
      " [0 0 1]\n",
      " [0 0 1]\n",
      " [1 0 0]\n",
      " [1 0 0]\n",
      " [0 0 1]\n",
      " [0 0 1]\n",
      " [1 0 0]\n",
      " [0 1 0]\n",
      " [1 0 0]\n",
      " [1 0 0]\n",
      " [0 0 1]\n",
      " [0 1 0]\n",
      " [0 0 1]\n",
      " [1 0 0]\n",
      " [0 0 1]\n",
      " [1 0 0]\n",
      " [0 0 1]\n",
      " [1 0 0]\n",
      " [0 1 0]\n",
      " [1 0 0]\n",
      " [0 0 1]\n",
      " [0 0 1]\n",
      " [1 0 0]\n",
      " [0 1 0]\n",
      " [0 0 1]\n",
      " [0 0 1]\n",
      " [0 1 0]\n",
      " [1 0 0]\n",
      " [0 1 0]\n",
      " [1 0 0]\n",
      " [1 0 0]\n",
      " [0 1 0]\n",
      " [0 0 1]\n",
      " [1 0 0]\n",
      " [0 0 1]\n",
      " [1 0 0]\n",
      " [0 1 0]\n",
      " [0 0 1]\n",
      " [0 0 1]\n",
      " [0 1 0]]\n"
     ]
    }
   ],
   "source": [
    "print('Veamos el contenido de y_pred_train: \\n')\n",
    "print(y_pred_train)"
   ]
  },
  {
   "cell_type": "code",
   "execution_count": 88,
   "metadata": {},
   "outputs": [
    {
     "name": "stdout",
     "output_type": "stream",
     "text": [
      "Veamos el contenido de y_train: \n",
      "\n",
      "[[1 0 0]\n",
      " [0 1 0]\n",
      " [0 1 0]\n",
      " [1 0 0]\n",
      " [0 1 0]\n",
      " [1 0 0]\n",
      " [1 0 0]\n",
      " [0 0 1]\n",
      " [1 0 0]\n",
      " [0 0 1]\n",
      " [0 0 1]\n",
      " [0 1 0]\n",
      " [1 0 0]\n",
      " [1 0 0]\n",
      " [0 1 0]\n",
      " [0 0 1]\n",
      " [0 1 0]\n",
      " [0 0 1]\n",
      " [0 0 1]\n",
      " [1 0 0]\n",
      " [0 0 1]\n",
      " [1 0 0]\n",
      " [1 0 0]\n",
      " [1 0 0]\n",
      " [1 0 0]\n",
      " [0 1 0]\n",
      " [0 1 0]\n",
      " [0 1 0]\n",
      " [0 1 0]\n",
      " [0 0 1]\n",
      " [0 1 0]\n",
      " [0 0 1]\n",
      " [0 0 1]\n",
      " [0 1 0]\n",
      " [1 0 0]\n",
      " [0 1 0]\n",
      " [1 0 0]\n",
      " [0 1 0]\n",
      " [0 0 1]\n",
      " [0 1 0]\n",
      " [0 0 1]\n",
      " [0 1 0]\n",
      " [0 0 1]\n",
      " [0 1 0]\n",
      " [0 1 0]\n",
      " [0 1 0]\n",
      " [0 0 1]\n",
      " [0 1 0]\n",
      " [1 0 0]\n",
      " [0 0 1]\n",
      " [1 0 0]\n",
      " [1 0 0]\n",
      " [0 1 0]\n",
      " [1 0 0]\n",
      " [1 0 0]\n",
      " [0 0 1]\n",
      " [0 1 0]\n",
      " [1 0 0]\n",
      " [0 0 1]\n",
      " [1 0 0]\n",
      " [0 0 1]\n",
      " [0 1 0]\n",
      " [1 0 0]\n",
      " [1 0 0]\n",
      " [0 0 1]\n",
      " [0 1 0]\n",
      " [0 1 0]\n",
      " [1 0 0]\n",
      " [1 0 0]\n",
      " [0 0 1]\n",
      " [0 1 0]\n",
      " [0 1 0]\n",
      " [1 0 0]\n",
      " [0 1 0]\n",
      " [0 0 1]\n",
      " [0 1 0]\n",
      " [1 0 0]\n",
      " [0 1 0]\n",
      " [0 0 1]\n",
      " [0 0 1]\n",
      " [0 0 1]\n",
      " [0 0 1]\n",
      " [1 0 0]\n",
      " [1 0 0]\n",
      " [0 1 0]\n",
      " [0 0 1]\n",
      " [1 0 0]\n",
      " [0 1 0]\n",
      " [1 0 0]\n",
      " [1 0 0]\n",
      " [0 0 1]\n",
      " [0 1 0]\n",
      " [0 0 1]\n",
      " [1 0 0]\n",
      " [0 0 1]\n",
      " [1 0 0]\n",
      " [0 0 1]\n",
      " [1 0 0]\n",
      " [0 1 0]\n",
      " [1 0 0]\n",
      " [0 0 1]\n",
      " [0 0 1]\n",
      " [1 0 0]\n",
      " [0 0 1]\n",
      " [0 0 1]\n",
      " [0 0 1]\n",
      " [0 1 0]\n",
      " [1 0 0]\n",
      " [0 1 0]\n",
      " [1 0 0]\n",
      " [1 0 0]\n",
      " [0 1 0]\n",
      " [0 0 1]\n",
      " [1 0 0]\n",
      " [0 0 1]\n",
      " [1 0 0]\n",
      " [0 1 0]\n",
      " [0 0 1]\n",
      " [0 0 1]\n",
      " [0 1 0]]\n"
     ]
    }
   ],
   "source": [
    "print('Veamos el contenido de y_train: \\n')\n",
    "print(y_train)"
   ]
  },
  {
   "cell_type": "markdown",
   "metadata": {
    "id": "8DjcyZb2Xpu5"
   },
   "source": [
    "#### 3.7.1. Conjunto de entrenamiento."
   ]
  },
  {
   "cell_type": "markdown",
   "metadata": {},
   "source": [
    "#### **Pregunta 3.3**\n",
    "\n",
    "Obtenga la predicción para el conjunto de prueba y guardela en la variable y_pred_test y muestre sus dimensiones"
   ]
  },
  {
   "cell_type": "code",
   "execution_count": 89,
   "metadata": {},
   "outputs": [],
   "source": [
    "#Respuesta Pregunta 3.3\n"
   ]
  },
  {
   "cell_type": "markdown",
   "metadata": {
    "id": "pJduLstymDLJ"
   },
   "source": [
    "# 4. Evaluación"
   ]
  },
  {
   "cell_type": "markdown",
   "metadata": {},
   "source": [
    "### 4.1. Conjunto de entrenamiento."
   ]
  },
  {
   "cell_type": "markdown",
   "metadata": {},
   "source": [
    "### 4.2. Conjunto de prueba."
   ]
  },
  {
   "cell_type": "markdown",
   "metadata": {},
   "source": [
    "#### **Pregunta 4.1**\n",
    "\n",
    "Cree la función cm_multi que reciba dos matrices y(mxn), y_pred(mxn) y devuelva la matriz de confusión\n",
    "cm_m(nxn).\n",
    "\n",
    "def cm_multi (y,y_pred):\n",
    "    \n",
    "    #Cuerpo de la función\n",
    "    \n",
    "    return cm_m\n",
    "\n",
    "Use esta función para obtener e imprimir la matriz de confusión del clasificador KNN, tanto para el conjunto de entrenamiento como de prueba ¿qué se puede concluir de los resultados obtenidos?"
   ]
  },
  {
   "cell_type": "code",
   "execution_count": 90,
   "metadata": {
    "colab": {
     "base_uri": "https://localhost:8080/",
     "height": 430
    },
    "id": "eu8f0DsiOF9Y",
    "outputId": "e2266489-6c80-4e5e-d92d-05c8e19e83be"
   },
   "outputs": [],
   "source": [
    "#-------------------------------------------------------------------------------\n",
    "#Función auxiliar:\n",
    "#-------------------------------------------------------------------------------\n",
    "def one_hot_to_label_encoding(y_one_hot):\n",
    "  \"\"\"\n",
    "  Esta función convierte un arreglo numpy y_one_hot, correspondiente a una matriz de \n",
    "  m observaciones por n clases de tipo binario, en un vector columna y_label_encoded\n",
    "  de m filas cuyos elementos pueden tomar valores entre 0 y n-1. En ese caso\n",
    "  0 corresponde a la primera categoría, 1 a la segunda categoría, y así\n",
    "  sucesivamente. \n",
    "  \"\"\"\n",
    "  rows,cols=y_one_hot.shape            #Obtengo las dimensiones del arreglo.\n",
    "  y_label_encoded = np.zeros((rows,1)) #Inicializo el arreglo de salida en ceros. \n",
    "  for i in range(cols): #Para todas las categorías (aunque estrictamente esto puede dejarse como range(1,cols,1), pues i=0 no hace nada. )\n",
    "    y_label_encoded += i*y_one_hot[:,i].reshape((-1,1))  #Esto presume que la primera categoría se codifica como 0, \n",
    "                                                         #la siguiente como 1, etc...\n",
    "  return y_label_encoded\n",
    "#-------------------------------------------------------------------------------"
   ]
  },
  {
   "cell_type": "code",
   "execution_count": 97,
   "metadata": {},
   "outputs": [
    {
     "name": "stdout",
     "output_type": "stream",
     "text": [
      "Matriz de confusión para K=5 usando los datos del conjunto de entrenamiento:\n",
      " [[42  0  0]\n",
      " [ 0 38  1]\n",
      " [ 0  1 38]]\n",
      "\n",
      "\n",
      "Clase 0:\n",
      "Iris-setosa\n",
      "Clase 1:\n",
      "Iris-versicolor\n",
      "Clase 2:\n",
      "Iris-virginica\n"
     ]
    },
    {
     "data": {
      "image/png": "[encoded data removed]",
      "text/plain": [
       "<Figure size 432x288 with 2 Axes>"
      ]
     },
     "metadata": {},
     "output_type": "display_data"
    }
   ],
   "source": [
    "#Ahora vamos a obtener la matriz de confusión para el conjunto de datos de entrenamiento.\n",
    "#Note que la función confusion_matrix de scikit-learn espera vectores no matrices.\n",
    "#Por eso se debe cambiar la codificación de one-hot a otra apropiada, en este caso\n",
    "#usamos label encoding por comodidad:\n",
    "cm = metrics.confusion_matrix(one_hot_to_label_encoding(y_train),one_hot_to_label_encoding(y_pred_train))  #Una matriz de confusión para todas las categorías.  \n",
    "print('Matriz de confusión para K={} usando los datos del conjunto de entrenamiento:\\n'.format(k), cm)\n",
    "print('\\n')\n",
    "disp_1 = metrics.ConfusionMatrixDisplay(confusion_matrix = cm)\n",
    "disp_1.plot()\n",
    "\n",
    "for i in range(len(nombres_de_las_variables_de_salida)):\n",
    "    print('Clase %d:' % i)\n",
    "    print(nombres_de_las_variables_de_salida[i])"
   ]
  },
  {
   "cell_type": "markdown",
   "metadata": {},
   "source": [
    "#### **Pregunta 4.2**\n",
    "\n",
    "Compare los resultados obtenidos con su función cm_multi(y,y_pred) y los obtenidos mediante las dos celdas anteriores, tanto para los datos de entrenamiento como de prueba."
   ]
  },
  {
   "cell_type": "code",
   "execution_count": 101,
   "metadata": {},
   "outputs": [],
   "source": [
    "#Respuesta Pregunta 4.2\n"
   ]
  },
  {
   "cell_type": "markdown",
   "metadata": {},
   "source": [
    "#### **Pregunta 4.3**\n",
    "\n",
    "Usando la matriz de confusión calcule y muestre, para cada una de las clases, las siguientes métricas: exactitud, precision, sensibilidad, especificidad y F1. Interprete el resultado obtenido para cada una de las métricas. Calcule la exactitud para el desempeño general del clasificador."
   ]
  },
  {
   "cell_type": "code",
   "execution_count": 104,
   "metadata": {},
   "outputs": [],
   "source": [
    "#Respuesta 4.3\n"
   ]
  },
  {
   "cell_type": "code",
   "execution_count": 105,
   "metadata": {
    "colab": {
     "base_uri": "https://localhost:8080/"
    },
    "id": "M7ZRdYSalFOq",
    "outputId": "9840920f-9e2a-42ab-f9e8-2fc2ab914635",
    "scrolled": true
   },
   "outputs": [
    {
     "name": "stdout",
     "output_type": "stream",
     "text": [
      "                 precision    recall  f1-score   support\n",
      "\n",
      "    Iris-setosa       1.00      1.00      1.00        42\n",
      "Iris-versicolor       0.97      0.97      0.97        39\n",
      " Iris-virginica       0.97      0.97      0.97        39\n",
      "\n",
      "       accuracy                           0.98       120\n",
      "      macro avg       0.98      0.98      0.98       120\n",
      "   weighted avg       0.98      0.98      0.98       120\n",
      "\n"
     ]
    }
   ],
   "source": [
    "#Ahora vamos a generar un reporte de scikit-learn que contiene algunas de las métricas de desempeño más comunes. \n",
    "print(metrics.classification_report(one_hot_to_label_encoding(y_train),\n",
    "                                    one_hot_to_label_encoding(y_pred_train),\n",
    "                                    target_names = nombres_de_las_variables_de_salida))\n"
   ]
  },
  {
   "cell_type": "markdown",
   "metadata": {},
   "source": [
    "#### **Pregunta 4.4**\n",
    "\n",
    "Compare los resultados obtenidos al calcular las métricas manualmente y usando la función de sklearn."
   ]
  },
  {
   "cell_type": "markdown",
   "metadata": {
    "id": "GgKSrY0ac_oG"
   },
   "source": [
    "# **EJERCICIOS PROPUESTOS TALLER 3.**"
   ]
  },
  {
   "cell_type": "markdown",
   "metadata": {},
   "source": [
    "## **Ejercicio 1.**\n",
    "\n",
    "Para el conjunto de datos iris, ¿cuál sería la exactitud (accuracy) de línea base (baseline)?"
   ]
  },
  {
   "cell_type": "markdown",
   "metadata": {},
   "source": [
    "## **Ejercicio 2.**\n",
    "\n",
    "Para la función metrics.classification_report consulte qué representan los valores entregados."
   ]
  },
  {
   "cell_type": "markdown",
   "metadata": {},
   "source": [
    "## **Ejercicio 3.**\n",
    "\n",
    "Normalice los atributos, entrene un modelo con los atributos normalizados, pruebe este modelo tanto con los datos de entrenamiento y prueba, obtenga las métricas de desempeño por clase (matriz de confusión, exactitud, precisión, sensibilidad, especificidad y F1), obtenga la exactitud general y compare con los resultados obtenidos mediante el clasificador entrenado en la sesión de Taller."
   ]
  },
  {
   "cell_type": "markdown",
   "metadata": {},
   "source": [
    "## **Ejercicio 4:**\n",
    "\n",
    "Entrene y evalúe clasificadores KNN usando los atributos no normalizados para valores de K={1,3,7,9,11,13,15}. De acuerdo con los resultados obtenidos, ¿qué valor de K recomendaría?. Tenga en cuenta evaluar tanto con los datos de entrenamiento como de prueba."
   ]
  },
  {
   "cell_type": "markdown",
   "metadata": {},
   "source": [
    "## **Ejercicio 5:**\n",
    "\n",
    "Entrene y evalúe clasificadores KNN usando los atributos normalizados para valores de K={1,3,7,9,11,13,15}. De acuerdo con los resultados obtenidos, ¿qué valor de K recomendaría?. Compare los resultados obtenidos en este punto con los obtenidos en el Ejercicio 4. Tenga en cuenta evaluar tanto con los datos de entrenamiento como de prueba."
   ]
  },
  {
   "cell_type": "markdown",
   "metadata": {},
   "source": [
    "## **Ejercicio 6.**\n",
    "\n",
    "Encuentre un modelo de clasificación KNN que utilice solo tres atributos y cuyo desempeño sea igual o mejor que el modelo que usa cuatro atributos. Decida si es conveniente normalizar o no los atributos. Utilice diferentes valores de K. Para comparar varios modelos genere diferentes métricas de desempeño.\n",
    "Al final indique, ¿por qué escogió esos atributos?, de los modelos entrenados ¿cuál escogería y por qué? ¿qué métricas de desempeño reportaría a un cliente y por qué?"
   ]
  },
  {
   "cell_type": "markdown",
   "metadata": {},
   "source": [
    "## **Ejercicio 7.**\n",
    "\n",
    "Encuentre un modelo de clasificación KNN que utilice solo dos atributos y cuyo desempeño sea comparable con el modelo que usa cuatro atributos. Decida si es conveniente normalizar o no los atributos. Utilice diferentes valores de K. Para comparar varios modelos genere diferentes métricas de desempeño.\n",
    "Al final indique, ¿por qué escogió esos atributos?, de los modelos entrenados ¿cuál escogería y por qué? ¿qué métricas de desempeño reportaría a un cliente y por qué?"
   ]
  },
  {
   "cell_type": "markdown",
   "metadata": {},
   "source": [
    "## **Ejercicio 8.**\n",
    "\n",
    "¿Qué valores puede tomar el hiperparámetro metric? ¿Cuál es la distancia que utiliza por defecto el clasificador KNN?\n",
    "¿Qué valores puede tomar el hiperparámetro weight y cuál podría ser su utilidad?"
   ]
  },
  {
   "cell_type": "markdown",
   "metadata": {
    "id": "gBAjBA-w5wFn"
   },
   "source": [
    "# **FIN**"
   ]
  },
  {
   "cell_type": "markdown",
   "metadata": {},
   "source": [
    "# **Metodología**\n",
    "\n",
    "1. Desarrolle las Preguntas propuestas en el Taller 3 de forma individual.\n",
    "\n",
    "2. Después de la sesión de Taller 3, suba a Intu el archivo con la solución a las preguntas con nombre en el siguiente formato:\n",
    "\n",
    "Taller_3_Apellido-Nombre.ipynb\n",
    "\n",
    "3. Resuelva los Ejercicios Propuestos (en grupos de máximo 2 personas) en un nuevo notebook de Jupyter y suba el archivo a Intu hasta el próximo miércoles 21 de septiembre a las 7:00 am (antes del inicio de la clase). Utilice el siguiente formato para el nombre del archivo.\n",
    "\n",
    "Ejercicios_Taller_2_Apellido-Nombre_Apellido-Nombre.ipynb\n",
    "\n",
    "4.\tRecuerde consignar los nombres de los integrantes dentro del notebook.\n",
    "\n",
    "5.\tAlgunos grupos serán llamados al azar durante la clase del miércoles 21 de septiembre para realizar la presentación de alguno (s) de los puntos.\n",
    "\n",
    "6. La nota del Taller 3 se asignará así:\n",
    "\n",
    "- Preguntas Taller 2 (20%)\n",
    "\n",
    "- Ejercicios Taller 2 (80%)\n"
   ]
  },
  {
   "cell_type": "code",
   "execution_count": null,
   "metadata": {},
   "outputs": [],
   "source": []
  }
 ],
 "metadata": {
  "colab": {
   "collapsed_sections": [],
   "name": "Taller_3_IA_clasificador_KNN.ipynb",
   "provenance": []
  },
  "kernelspec": {
   "display_name": "Python 3 (ipykernel)",
   "language": "python",
   "name": "python3"
  },
  "language_info": {
   "codemirror_mode": {
    "name": "ipython",
    "version": 3
   },
   "file_extension": ".py",
   "mimetype": "text/x-python",
   "name": "python",
   "nbconvert_exporter": "python",
   "pygments_lexer": "ipython3",
   "version": "3.9.12"
  }
 },
 "nbformat": 4,
 "nbformat_minor": 1
}
