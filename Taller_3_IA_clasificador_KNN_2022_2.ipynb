{
  "cells": [
    {
      "cell_type": "markdown",
      "metadata": {
        "id": "2fCttZG0opEs"
      },
      "source": [
        "# **Taller 3: clasificación de especies de iris usando K-vecinos más cercanos.**\n",
        "\n",
        "**Curso: 09481 - Inteligencia Artificial.**\n",
        "\n",
        "**Universidad Icesi.**\n",
        "\n",
        "**Profesor: Breyner Posso.**\n",
        "\n",
        "**Estudiante: Daniela Olarte**\n",
        "\n",
        "**Estudiante: Duvan Cuero**"
      ]
    },
    {
      "cell_type": "markdown",
      "metadata": {
        "id": "I-ADEbAe50_-"
      },
      "source": [
        "En este taller vamos a explorar el conjunto de datos iris que se usa desde hace varias décadas en estadística y reconocimiento de patrones. Este conjunto de datos fue utilizado por  Fisher en su artículo clásico de 1936, titulado \"The Use of Multiple Measurements in Taxonomic Problems\". El conjunto de datos muestra los atributos de tres especies de plantas que florecen, por ello, se presta para realizar un taller de clasificación. En esta sesión usted va a explorar el clasificador de k-vecinos más cercanos o KNN. Para ello va a explorar algunas de las etapas del flujo de proyectos de analítica que se han cubierto en el curso hasta el momento, entre ellos, el análisis exploratorio de datos incluyendo visualización, el escalado de los atributos de entrada, la división de los conjuntos de datos, y el cálculo y análisis de las métricas de desempeño de un clasificador. "
      ]
    },
    {
      "cell_type": "markdown",
      "metadata": {
        "id": "LQcNGMN07WXE"
      },
      "source": [
        "# 0. Importar librerías."
      ]
    },
    {
      "cell_type": "code",
      "execution_count": null,
      "metadata": {
        "id": "6j2ZJQwUoqRD"
      },
      "outputs": [],
      "source": [
        "#Vamos a importar las librerías que vamos a utilizar.\n",
        "\n",
        "import pandas as pd                #Importamos la librería pandas. Nos va a servir para leer y manipular conjuntos de datos tabulares.\n",
        "import matplotlib.pyplot as plt    #Importamos pyplot de librería matplotlib. Lo vamos a utilizar para graficar.\n",
        "import seaborn as sns              #Importamos la librería Seaborn. La vamos a utilizar para graficar.\n",
        "import numpy as np                 #Importamos la librería numpy para manipular arreglos. \n",
        "from google.colab import files     #Esta librería nos sirve para cargar archivos desde el disco duro.\n",
        "\n",
        "from sklearn.model_selection import train_test_split #Útil para dividir los conjuntos de datos. \n",
        "from sklearn.preprocessing import MinMaxScaler       #Útil para escalar los atributos de entrada.\n",
        "from sklearn import neighbors  #Permite usar KNN.\n",
        "from sklearn import metrics    #Permite calcular algunas métricas de desempeño.\n",
        "\n",
        "from copy import deepcopy      #Permite hacer copias profundas. "
      ]
    },
    {
      "cell_type": "markdown",
      "metadata": {
        "id": "7QBXi-bV7u0k"
      },
      "source": [
        "# 1. Cargar datos."
      ]
    },
    {
      "cell_type": "code",
      "execution_count": null,
      "metadata": {
        "colab": {
          "base_uri": "https://localhost:8080/",
          "height": 719
        },
        "id": "l-qV7OutoyML",
        "outputId": "4b7c6671-64a5-412e-d7f3-3cb78b847ca1"
      },
      "outputs": [
        {
          "data": {
            "text/html": [
              "\n",
              "     <input type=\"file\" id=\"files-5d03a36d-6eb9-475f-a375-fff23c32b525\" name=\"files[]\" multiple disabled\n",
              "        style=\"border:none\" />\n",
              "     <output id=\"result-5d03a36d-6eb9-475f-a375-fff23c32b525\">\n",
              "      Upload widget is only available when the cell has been executed in the\n",
              "      current browser session. Please rerun this cell to enable.\n",
              "      </output>\n",
              "      <script>// Copyright 2017 Google LLC\n",
              "//\n",
              "// Licensed under the Apache License, Version 2.0 (the \"License\");\n",
              "// you may not use this file except in compliance with the License.\n",
              "// You may obtain a copy of the License at\n",
              "//\n",
              "//      http://www.apache.org/licenses/LICENSE-2.0\n",
              "//\n",
              "// Unless required by applicable law or agreed to in writing, software\n",
              "// distributed under the License is distributed on an \"AS IS\" BASIS,\n",
              "// WITHOUT WARRANTIES OR CONDITIONS OF ANY KIND, either express or implied.\n",
              "// See the License for the specific language governing permissions and\n",
              "// limitations under the License.\n",
              "\n",
              "/**\n",
              " * @fileoverview Helpers for google.colab Python module.\n",
              " */\n",
              "(function(scope) {\n",
              "function span(text, styleAttributes = {}) {\n",
              "  const element = document.createElement('span');\n",
              "  element.textContent = text;\n",
              "  for (const key of Object.keys(styleAttributes)) {\n",
              "    element.style[key] = styleAttributes[key];\n",
              "  }\n",
              "  return element;\n",
              "}\n",
              "\n",
              "// Max number of bytes which will be uploaded at a time.\n",
              "const MAX_PAYLOAD_SIZE = 100 * 1024;\n",
              "\n",
              "function _uploadFiles(inputId, outputId) {\n",
              "  const steps = uploadFilesStep(inputId, outputId);\n",
              "  const outputElement = document.getElementById(outputId);\n",
              "  // Cache steps on the outputElement to make it available for the next call\n",
              "  // to uploadFilesContinue from Python.\n",
              "  outputElement.steps = steps;\n",
              "\n",
              "  return _uploadFilesContinue(outputId);\n",
              "}\n",
              "\n",
              "// This is roughly an async generator (not supported in the browser yet),\n",
              "// where there are multiple asynchronous steps and the Python side is going\n",
              "// to poll for completion of each step.\n",
              "// This uses a Promise to block the python side on completion of each step,\n",
              "// then passes the result of the previous step as the input to the next step.\n",
              "function _uploadFilesContinue(outputId) {\n",
              "  const outputElement = document.getElementById(outputId);\n",
              "  const steps = outputElement.steps;\n",
              "\n",
              "  const next = steps.next(outputElement.lastPromiseValue);\n",
              "  return Promise.resolve(next.value.promise).then((value) => {\n",
              "    // Cache the last promise value to make it available to the next\n",
              "    // step of the generator.\n",
              "    outputElement.lastPromiseValue = value;\n",
              "    return next.value.response;\n",
              "  });\n",
              "}\n",
              "\n",
              "/**\n",
              " * Generator function which is called between each async step of the upload\n",
              " * process.\n",
              " * @param {string} inputId Element ID of the input file picker element.\n",
              " * @param {string} outputId Element ID of the output display.\n",
              " * @return {!Iterable<!Object>} Iterable of next steps.\n",
              " */\n",
              "function* uploadFilesStep(inputId, outputId) {\n",
              "  const inputElement = document.getElementById(inputId);\n",
              "  inputElement.disabled = false;\n",
              "\n",
              "  const outputElement = document.getElementById(outputId);\n",
              "  outputElement.innerHTML = '';\n",
              "\n",
              "  const pickedPromise = new Promise((resolve) => {\n",
              "    inputElement.addEventListener('change', (e) => {\n",
              "      resolve(e.target.files);\n",
              "    });\n",
              "  });\n",
              "\n",
              "  const cancel = document.createElement('button');\n",
              "  inputElement.parentElement.appendChild(cancel);\n",
              "  cancel.textContent = 'Cancel upload';\n",
              "  const cancelPromise = new Promise((resolve) => {\n",
              "    cancel.onclick = () => {\n",
              "      resolve(null);\n",
              "    };\n",
              "  });\n",
              "\n",
              "  // Wait for the user to pick the files.\n",
              "  const files = yield {\n",
              "    promise: Promise.race([pickedPromise, cancelPromise]),\n",
              "    response: {\n",
              "      action: 'starting',\n",
              "    }\n",
              "  };\n",
              "\n",
              "  cancel.remove();\n",
              "\n",
              "  // Disable the input element since further picks are not allowed.\n",
              "  inputElement.disabled = true;\n",
              "\n",
              "  if (!files) {\n",
              "    return {\n",
              "      response: {\n",
              "        action: 'complete',\n",
              "      }\n",
              "    };\n",
              "  }\n",
              "\n",
              "  for (const file of files) {\n",
              "    const li = document.createElement('li');\n",
              "    li.append(span(file.name, {fontWeight: 'bold'}));\n",
              "    li.append(span(\n",
              "        `(${file.type || 'n/a'}) - ${file.size} bytes, ` +\n",
              "        `last modified: ${\n",
              "            file.lastModifiedDate ? file.lastModifiedDate.toLocaleDateString() :\n",
              "                                    'n/a'} - `));\n",
              "    const percent = span('0% done');\n",
              "    li.appendChild(percent);\n",
              "\n",
              "    outputElement.appendChild(li);\n",
              "\n",
              "    const fileDataPromise = new Promise((resolve) => {\n",
              "      const reader = new FileReader();\n",
              "      reader.onload = (e) => {\n",
              "        resolve(e.target.result);\n",
              "      };\n",
              "      reader.readAsArrayBuffer(file);\n",
              "    });\n",
              "    // Wait for the data to be ready.\n",
              "    let fileData = yield {\n",
              "      promise: fileDataPromise,\n",
              "      response: {\n",
              "        action: 'continue',\n",
              "      }\n",
              "    };\n",
              "\n",
              "    // Use a chunked sending to avoid message size limits. See b/62115660.\n",
              "    let position = 0;\n",
              "    do {\n",
              "      const length = Math.min(fileData.byteLength - position, MAX_PAYLOAD_SIZE);\n",
              "      const chunk = new Uint8Array(fileData, position, length);\n",
              "      position += length;\n",
              "\n",
              "      const base64 = btoa(String.fromCharCode.apply(null, chunk));\n",
              "      yield {\n",
              "        response: {\n",
              "          action: 'append',\n",
              "          file: file.name,\n",
              "          data: base64,\n",
              "        },\n",
              "      };\n",
              "\n",
              "      let percentDone = fileData.byteLength === 0 ?\n",
              "          100 :\n",
              "          Math.round((position / fileData.byteLength) * 100);\n",
              "      percent.textContent = `${percentDone}% done`;\n",
              "\n",
              "    } while (position < fileData.byteLength);\n",
              "  }\n",
              "\n",
              "  // All done.\n",
              "  yield {\n",
              "    response: {\n",
              "      action: 'complete',\n",
              "    }\n",
              "  };\n",
              "}\n",
              "\n",
              "scope.google = scope.google || {};\n",
              "scope.google.colab = scope.google.colab || {};\n",
              "scope.google.colab._files = {\n",
              "  _uploadFiles,\n",
              "  _uploadFilesContinue,\n",
              "};\n",
              "})(self);\n",
              "</script> "
            ],
            "text/plain": [
              "<IPython.core.display.HTML object>"
            ]
          },
          "metadata": {},
          "output_type": "display_data"
        },
        {
          "name": "stdout",
          "output_type": "stream",
          "text": [
            "Saving iris.csv to iris (1).csv\n"
          ]
        },
        {
          "data": {
            "text/plain": [
              "{'iris.csv': b'Id,SepalLengthCm,SepalWidthCm,PetalLengthCm,PetalWidthCm,Species\\n1,5.1,3.5,1.4,0.2,Iris-setosa\\n2,4.9,3.0,1.4,0.2,Iris-setosa\\n3,4.7,3.2,1.3,0.2,Iris-setosa\\n4,4.6,3.1,1.5,0.2,Iris-setosa\\n5,5.0,3.6,1.4,0.2,Iris-setosa\\n6,5.4,3.9,1.7,0.4,Iris-setosa\\n7,4.6,3.4,1.4,0.3,Iris-setosa\\n8,5.0,3.4,1.5,0.2,Iris-setosa\\n9,4.4,2.9,1.4,0.2,Iris-setosa\\n10,4.9,3.1,1.5,0.1,Iris-setosa\\n11,5.4,3.7,1.5,0.2,Iris-setosa\\n12,4.8,3.4,1.6,0.2,Iris-setosa\\n13,4.8,3.0,1.4,0.1,Iris-setosa\\n14,4.3,3.0,1.1,0.1,Iris-setosa\\n15,5.8,4.0,1.2,0.2,Iris-setosa\\n16,5.7,4.4,1.5,0.4,Iris-setosa\\n17,5.4,3.9,1.3,0.4,Iris-setosa\\n18,5.1,3.5,1.4,0.3,Iris-setosa\\n19,5.7,3.8,1.7,0.3,Iris-setosa\\n20,5.1,3.8,1.5,0.3,Iris-setosa\\n21,5.4,3.4,1.7,0.2,Iris-setosa\\n22,5.1,3.7,1.5,0.4,Iris-setosa\\n23,4.6,3.6,1.0,0.2,Iris-setosa\\n24,5.1,3.3,1.7,0.5,Iris-setosa\\n25,4.8,3.4,1.9,0.2,Iris-setosa\\n26,5.0,3.0,1.6,0.2,Iris-setosa\\n27,5.0,3.4,1.6,0.4,Iris-setosa\\n28,5.2,3.5,1.5,0.2,Iris-setosa\\n29,5.2,3.4,1.4,0.2,Iris-setosa\\n30,4.7,3.2,1.6,0.2,Iris-setosa\\n31,4.8,3.1,1.6,0.2,Iris-setosa\\n32,5.4,3.4,1.5,0.4,Iris-setosa\\n33,5.2,4.1,1.5,0.1,Iris-setosa\\n34,5.5,4.2,1.4,0.2,Iris-setosa\\n35,4.9,3.1,1.5,0.1,Iris-setosa\\n36,5.0,3.2,1.2,0.2,Iris-setosa\\n37,5.5,3.5,1.3,0.2,Iris-setosa\\n38,4.9,3.1,1.5,0.1,Iris-setosa\\n39,4.4,3.0,1.3,0.2,Iris-setosa\\n40,5.1,3.4,1.5,0.2,Iris-setosa\\n41,5.0,3.5,1.3,0.3,Iris-setosa\\n42,4.5,2.3,1.3,0.3,Iris-setosa\\n43,4.4,3.2,1.3,0.2,Iris-setosa\\n44,5.0,3.5,1.6,0.6,Iris-setosa\\n45,5.1,3.8,1.9,0.4,Iris-setosa\\n46,4.8,3.0,1.4,0.3,Iris-setosa\\n47,5.1,3.8,1.6,0.2,Iris-setosa\\n48,4.6,3.2,1.4,0.2,Iris-setosa\\n49,5.3,3.7,1.5,0.2,Iris-setosa\\n50,5.0,3.3,1.4,0.2,Iris-setosa\\n51,7.0,3.2,4.7,1.4,Iris-versicolor\\n52,6.4,3.2,4.5,1.5,Iris-versicolor\\n53,6.9,3.1,4.9,1.5,Iris-versicolor\\n54,5.5,2.3,4.0,1.3,Iris-versicolor\\n55,6.5,2.8,4.6,1.5,Iris-versicolor\\n56,5.7,2.8,4.5,1.3,Iris-versicolor\\n57,6.3,3.3,4.7,1.6,Iris-versicolor\\n58,4.9,2.4,3.3,1.0,Iris-versicolor\\n59,6.6,2.9,4.6,1.3,Iris-versicolor\\n60,5.2,2.7,3.9,1.4,Iris-versicolor\\n61,5.0,2.0,3.5,1.0,Iris-versicolor\\n62,5.9,3.0,4.2,1.5,Iris-versicolor\\n63,6.0,2.2,4.0,1.0,Iris-versicolor\\n64,6.1,2.9,4.7,1.4,Iris-versicolor\\n65,5.6,2.9,3.6,1.3,Iris-versicolor\\n66,6.7,3.1,4.4,1.4,Iris-versicolor\\n67,5.6,3.0,4.5,1.5,Iris-versicolor\\n68,5.8,2.7,4.1,1.0,Iris-versicolor\\n69,6.2,2.2,4.5,1.5,Iris-versicolor\\n70,5.6,2.5,3.9,1.1,Iris-versicolor\\n71,5.9,3.2,4.8,1.8,Iris-versicolor\\n72,6.1,2.8,4.0,1.3,Iris-versicolor\\n73,6.3,2.5,4.9,1.5,Iris-versicolor\\n74,6.1,2.8,4.7,1.2,Iris-versicolor\\n75,6.4,2.9,4.3,1.3,Iris-versicolor\\n76,6.6,3.0,4.4,1.4,Iris-versicolor\\n77,6.8,2.8,4.8,1.4,Iris-versicolor\\n78,6.7,3.0,5.0,1.7,Iris-versicolor\\n79,6.0,2.9,4.5,1.5,Iris-versicolor\\n80,5.7,2.6,3.5,1.0,Iris-versicolor\\n81,5.5,2.4,3.8,1.1,Iris-versicolor\\n82,5.5,2.4,3.7,1.0,Iris-versicolor\\n83,5.8,2.7,3.9,1.2,Iris-versicolor\\n84,6.0,2.7,5.1,1.6,Iris-versicolor\\n85,5.4,3.0,4.5,1.5,Iris-versicolor\\n86,6.0,3.4,4.5,1.6,Iris-versicolor\\n87,6.7,3.1,4.7,1.5,Iris-versicolor\\n88,6.3,2.3,4.4,1.3,Iris-versicolor\\n89,5.6,3.0,4.1,1.3,Iris-versicolor\\n90,5.5,2.5,4.0,1.3,Iris-versicolor\\n91,5.5,2.6,4.4,1.2,Iris-versicolor\\n92,6.1,3.0,4.6,1.4,Iris-versicolor\\n93,5.8,2.6,4.0,1.2,Iris-versicolor\\n94,5.0,2.3,3.3,1.0,Iris-versicolor\\n95,5.6,2.7,4.2,1.3,Iris-versicolor\\n96,5.7,3.0,4.2,1.2,Iris-versicolor\\n97,5.7,2.9,4.2,1.3,Iris-versicolor\\n98,6.2,2.9,4.3,1.3,Iris-versicolor\\n99,5.1,2.5,3.0,1.1,Iris-versicolor\\n100,5.7,2.8,4.1,1.3,Iris-versicolor\\n101,6.3,3.3,6.0,2.5,Iris-virginica\\n102,5.8,2.7,5.1,1.9,Iris-virginica\\n103,7.1,3.0,5.9,2.1,Iris-virginica\\n104,6.3,2.9,5.6,1.8,Iris-virginica\\n105,6.5,3.0,5.8,2.2,Iris-virginica\\n106,7.6,3.0,6.6,2.1,Iris-virginica\\n107,4.9,2.5,4.5,1.7,Iris-virginica\\n108,7.3,2.9,6.3,1.8,Iris-virginica\\n109,6.7,2.5,5.8,1.8,Iris-virginica\\n110,7.2,3.6,6.1,2.5,Iris-virginica\\n111,6.5,3.2,5.1,2.0,Iris-virginica\\n112,6.4,2.7,5.3,1.9,Iris-virginica\\n113,6.8,3.0,5.5,2.1,Iris-virginica\\n114,5.7,2.5,5.0,2.0,Iris-virginica\\n115,5.8,2.8,5.1,2.4,Iris-virginica\\n116,6.4,3.2,5.3,2.3,Iris-virginica\\n117,6.5,3.0,5.5,1.8,Iris-virginica\\n118,7.7,3.8,6.7,2.2,Iris-virginica\\n119,7.7,2.6,6.9,2.3,Iris-virginica\\n120,6.0,2.2,5.0,1.5,Iris-virginica\\n121,6.9,3.2,5.7,2.3,Iris-virginica\\n122,5.6,2.8,4.9,2.0,Iris-virginica\\n123,7.7,2.8,6.7,2.0,Iris-virginica\\n124,6.3,2.7,4.9,1.8,Iris-virginica\\n125,6.7,3.3,5.7,2.1,Iris-virginica\\n126,7.2,3.2,6.0,1.8,Iris-virginica\\n127,6.2,2.8,4.8,1.8,Iris-virginica\\n128,6.1,3.0,4.9,1.8,Iris-virginica\\n129,6.4,2.8,5.6,2.1,Iris-virginica\\n130,7.2,3.0,5.8,1.6,Iris-virginica\\n131,7.4,2.8,6.1,1.9,Iris-virginica\\n132,7.9,3.8,6.4,2.0,Iris-virginica\\n133,6.4,2.8,5.6,2.2,Iris-virginica\\n134,6.3,2.8,5.1,1.5,Iris-virginica\\n135,6.1,2.6,5.6,1.4,Iris-virginica\\n136,7.7,3.0,6.1,2.3,Iris-virginica\\n137,6.3,3.4,5.6,2.4,Iris-virginica\\n138,6.4,3.1,5.5,1.8,Iris-virginica\\n139,6.0,3.0,4.8,1.8,Iris-virginica\\n140,6.9,3.1,5.4,2.1,Iris-virginica\\n141,6.7,3.1,5.6,2.4,Iris-virginica\\n142,6.9,3.1,5.1,2.3,Iris-virginica\\n143,5.8,2.7,5.1,1.9,Iris-virginica\\n144,6.8,3.2,5.9,2.3,Iris-virginica\\n145,6.7,3.3,5.7,2.5,Iris-virginica\\n146,6.7,3.0,5.2,2.3,Iris-virginica\\n147,6.3,2.5,5.0,1.9,Iris-virginica\\n148,6.5,3.0,5.2,2.0,Iris-virginica\\n149,6.2,3.4,5.4,2.3,Iris-virginica\\n150,5.9,3.0,5.1,1.8,Iris-virginica\\n'}"
            ]
          },
          "execution_count": 3,
          "metadata": {},
          "output_type": "execute_result"
        }
      ],
      "source": [
        "#Primero vamos a descargar el archivo \"iris.csv\" en nuestra máquina local desde Moodle o desde esta ruta: https://www.kaggle.com/uciml/iris\n",
        "\n",
        "#Ahora cargamos en Google Colab el archivo que tiene el conjunto de datos \"iris.csv\"\n",
        "files.upload()  #Nota: si este comando falla, revise que su navegador permite el almacenamiento de cookies. \n"
      ]
    },
    {
      "cell_type": "code",
      "execution_count": null,
      "metadata": {
        "id": "LsGji_FT269P"
      },
      "outputs": [],
      "source": [
        "#Vamos a utilizar el dataset iris (https://www.kaggle.com/datasets/uciml/iris)\n",
        "# Vamos a leer el conjunto de datos en un dataframe de pandas.\n",
        "df = pd.read_csv('iris.csv') #Ruta completa a la ubicación del archivo de interés."
      ]
    },
    {
      "cell_type": "markdown",
      "metadata": {
        "id": "8NHHdbhh7Q0p"
      },
      "source": [
        "# 2. Análisis exploratorio de datos."
      ]
    },
    {
      "cell_type": "code",
      "execution_count": null,
      "metadata": {
        "colab": {
          "base_uri": "https://localhost:8080/"
        },
        "id": "5V6WxQQL269Q",
        "outputId": "88c9b6f7-76ae-4fa0-d674-90362a146b25"
      },
      "outputs": [
        {
          "name": "stdout",
          "output_type": "stream",
          "text": [
            "Número de filas: 150\n",
            "Número de columnas: 6\n"
          ]
        }
      ],
      "source": [
        "n_obs,n_atr = df.shape\n",
        "print('Número de filas:' , n_obs)\n",
        "print('Número de columnas:', n_atr)"
      ]
    },
    {
      "cell_type": "markdown",
      "metadata": {
        "id": "3sEe6Y9H269R"
      },
      "source": [
        "#### **Pregunta 2.1**\n",
        "\n",
        "Indique los dipos de datos para cada uno de los atributos."
      ]
    },
    {
      "cell_type": "code",
      "execution_count": null,
      "metadata": {
        "colab": {
          "base_uri": "https://localhost:8080/"
        },
        "id": "LL40icxB269R",
        "outputId": "381d2186-ecee-4646-ab69-4b6ec3e413a0"
      },
      "outputs": [
        {
          "name": "stdout",
          "output_type": "stream",
          "text": [
            "<class 'pandas.core.frame.DataFrame'>\n",
            "RangeIndex: 150 entries, 0 to 149\n",
            "Data columns (total 6 columns):\n",
            " #   Column         Non-Null Count  Dtype  \n",
            "---  ------         --------------  -----  \n",
            " 0   Id             150 non-null    int64  \n",
            " 1   SepalLengthCm  150 non-null    float64\n",
            " 2   SepalWidthCm   150 non-null    float64\n",
            " 3   PetalLengthCm  150 non-null    float64\n",
            " 4   PetalWidthCm   150 non-null    float64\n",
            " 5   Species        150 non-null    object \n",
            "dtypes: float64(4), int64(1), object(1)\n",
            "memory usage: 7.2+ KB\n"
          ]
        }
      ],
      "source": [
        "#Respuesta Pregunta 2.1\n",
        "df.info()\n"
      ]
    },
    {
      "cell_type": "markdown",
      "metadata": {
        "id": "t-Mnd4bW269S"
      },
      "source": [
        "#### **Pregunta 2.2**\n",
        "\n",
        "Indique si el dataset tiene valores nulos."
      ]
    },
    {
      "cell_type": "code",
      "execution_count": null,
      "metadata": {
        "colab": {
          "base_uri": "https://localhost:8080/"
        },
        "id": "LgCZsi27269S",
        "outputId": "99d9da15-8468-459e-8bc4-c49b4bcc90b7"
      },
      "outputs": [
        {
          "data": {
            "text/plain": [
              "Id               0\n",
              "SepalLengthCm    0\n",
              "SepalWidthCm     0\n",
              "PetalLengthCm    0\n",
              "PetalWidthCm     0\n",
              "Species          0\n",
              "dtype: int64"
            ]
          },
          "execution_count": 7,
          "metadata": {},
          "output_type": "execute_result"
        }
      ],
      "source": [
        "#Respuesta Pregunta 2.2\n",
        "df.isnull().sum()"
      ]
    },
    {
      "cell_type": "code",
      "execution_count": null,
      "metadata": {
        "colab": {
          "base_uri": "https://localhost:8080/",
          "height": 297
        },
        "id": "2JzS1m12269S",
        "outputId": "0219bb36-ffd3-46ee-d254-9677840787f6"
      },
      "outputs": [
        {
          "data": {
            "text/html": [
              "\n",
              "  <div id=\"df-1390c5f5-40ef-4499-89a5-248cc21cfbd1\">\n",
              "    <div class=\"colab-df-container\">\n",
              "      <div>\n",
              "<style scoped>\n",
              "    .dataframe tbody tr th:only-of-type {\n",
              "        vertical-align: middle;\n",
              "    }\n",
              "\n",
              "    .dataframe tbody tr th {\n",
              "        vertical-align: top;\n",
              "    }\n",
              "\n",
              "    .dataframe thead th {\n",
              "        text-align: right;\n",
              "    }\n",
              "</style>\n",
              "<table border=\"1\" class=\"dataframe\">\n",
              "  <thead>\n",
              "    <tr style=\"text-align: right;\">\n",
              "      <th></th>\n",
              "      <th>Id</th>\n",
              "      <th>SepalLengthCm</th>\n",
              "      <th>SepalWidthCm</th>\n",
              "      <th>PetalLengthCm</th>\n",
              "      <th>PetalWidthCm</th>\n",
              "    </tr>\n",
              "  </thead>\n",
              "  <tbody>\n",
              "    <tr>\n",
              "      <th>count</th>\n",
              "      <td>150.000000</td>\n",
              "      <td>150.000000</td>\n",
              "      <td>150.000000</td>\n",
              "      <td>150.000000</td>\n",
              "      <td>150.000000</td>\n",
              "    </tr>\n",
              "    <tr>\n",
              "      <th>mean</th>\n",
              "      <td>75.500000</td>\n",
              "      <td>5.843333</td>\n",
              "      <td>3.054000</td>\n",
              "      <td>3.758667</td>\n",
              "      <td>1.198667</td>\n",
              "    </tr>\n",
              "    <tr>\n",
              "      <th>std</th>\n",
              "      <td>43.445368</td>\n",
              "      <td>0.828066</td>\n",
              "      <td>0.433594</td>\n",
              "      <td>1.764420</td>\n",
              "      <td>0.763161</td>\n",
              "    </tr>\n",
              "    <tr>\n",
              "      <th>min</th>\n",
              "      <td>1.000000</td>\n",
              "      <td>4.300000</td>\n",
              "      <td>2.000000</td>\n",
              "      <td>1.000000</td>\n",
              "      <td>0.100000</td>\n",
              "    </tr>\n",
              "    <tr>\n",
              "      <th>25%</th>\n",
              "      <td>38.250000</td>\n",
              "      <td>5.100000</td>\n",
              "      <td>2.800000</td>\n",
              "      <td>1.600000</td>\n",
              "      <td>0.300000</td>\n",
              "    </tr>\n",
              "    <tr>\n",
              "      <th>50%</th>\n",
              "      <td>75.500000</td>\n",
              "      <td>5.800000</td>\n",
              "      <td>3.000000</td>\n",
              "      <td>4.350000</td>\n",
              "      <td>1.300000</td>\n",
              "    </tr>\n",
              "    <tr>\n",
              "      <th>75%</th>\n",
              "      <td>112.750000</td>\n",
              "      <td>6.400000</td>\n",
              "      <td>3.300000</td>\n",
              "      <td>5.100000</td>\n",
              "      <td>1.800000</td>\n",
              "    </tr>\n",
              "    <tr>\n",
              "      <th>max</th>\n",
              "      <td>150.000000</td>\n",
              "      <td>7.900000</td>\n",
              "      <td>4.400000</td>\n",
              "      <td>6.900000</td>\n",
              "      <td>2.500000</td>\n",
              "    </tr>\n",
              "  </tbody>\n",
              "</table>\n",
              "</div>\n",
              "      <button class=\"colab-df-convert\" onclick=\"convertToInteractive('df-1390c5f5-40ef-4499-89a5-248cc21cfbd1')\"\n",
              "              title=\"Convert this dataframe to an interactive table.\"\n",
              "              style=\"display:none;\">\n",
              "        \n",
              "  <svg xmlns=\"http://www.w3.org/2000/svg\" height=\"24px\"viewBox=\"0 0 24 24\"\n",
              "       width=\"24px\">\n",
              "    <path d=\"M0 0h24v24H0V0z\" fill=\"none\"/>\n",
              "    <path d=\"M18.56 5.44l.94 2.06.94-2.06 2.06-.94-2.06-.94-.94-2.06-.94 2.06-2.06.94zm-11 1L8.5 8.5l.94-2.06 2.06-.94-2.06-.94L8.5 2.5l-.94 2.06-2.06.94zm10 10l.94 2.06.94-2.06 2.06-.94-2.06-.94-.94-2.06-.94 2.06-2.06.94z\"/><path d=\"M17.41 7.96l-1.37-1.37c-.4-.4-.92-.59-1.43-.59-.52 0-1.04.2-1.43.59L10.3 9.45l-7.72 7.72c-.78.78-.78 2.05 0 2.83L4 21.41c.39.39.9.59 1.41.59.51 0 1.02-.2 1.41-.59l7.78-7.78 2.81-2.81c.8-.78.8-2.07 0-2.86zM5.41 20L4 18.59l7.72-7.72 1.47 1.35L5.41 20z\"/>\n",
              "  </svg>\n",
              "      </button>\n",
              "      \n",
              "  <style>\n",
              "    .colab-df-container {\n",
              "      display:flex;\n",
              "      flex-wrap:wrap;\n",
              "      gap: 12px;\n",
              "    }\n",
              "\n",
              "    .colab-df-convert {\n",
              "      background-color: #E8F0FE;\n",
              "      border: none;\n",
              "      border-radius: 50%;\n",
              "      cursor: pointer;\n",
              "      display: none;\n",
              "      fill: #1967D2;\n",
              "      height: 32px;\n",
              "      padding: 0 0 0 0;\n",
              "      width: 32px;\n",
              "    }\n",
              "\n",
              "    .colab-df-convert:hover {\n",
              "      background-color: #E2EBFA;\n",
              "      box-shadow: 0px 1px 2px rgba(60, 64, 67, 0.3), 0px 1px 3px 1px rgba(60, 64, 67, 0.15);\n",
              "      fill: #174EA6;\n",
              "    }\n",
              "\n",
              "    [theme=dark] .colab-df-convert {\n",
              "      background-color: #3B4455;\n",
              "      fill: #D2E3FC;\n",
              "    }\n",
              "\n",
              "    [theme=dark] .colab-df-convert:hover {\n",
              "      background-color: #434B5C;\n",
              "      box-shadow: 0px 1px 3px 1px rgba(0, 0, 0, 0.15);\n",
              "      filter: drop-shadow(0px 1px 2px rgba(0, 0, 0, 0.3));\n",
              "      fill: #FFFFFF;\n",
              "    }\n",
              "  </style>\n",
              "\n",
              "      <script>\n",
              "        const buttonEl =\n",
              "          document.querySelector('#df-1390c5f5-40ef-4499-89a5-248cc21cfbd1 button.colab-df-convert');\n",
              "        buttonEl.style.display =\n",
              "          google.colab.kernel.accessAllowed ? 'block' : 'none';\n",
              "\n",
              "        async function convertToInteractive(key) {\n",
              "          const element = document.querySelector('#df-1390c5f5-40ef-4499-89a5-248cc21cfbd1');\n",
              "          const dataTable =\n",
              "            await google.colab.kernel.invokeFunction('convertToInteractive',\n",
              "                                                     [key], {});\n",
              "          if (!dataTable) return;\n",
              "\n",
              "          const docLinkHtml = 'Like what you see? Visit the ' +\n",
              "            '<a target=\"_blank\" href=https://colab.research.google.com/notebooks/data_table.ipynb>data table notebook</a>'\n",
              "            + ' to learn more about interactive tables.';\n",
              "          element.innerHTML = '';\n",
              "          dataTable['output_type'] = 'display_data';\n",
              "          await google.colab.output.renderOutput(dataTable, element);\n",
              "          const docLink = document.createElement('div');\n",
              "          docLink.innerHTML = docLinkHtml;\n",
              "          element.appendChild(docLink);\n",
              "        }\n",
              "      </script>\n",
              "    </div>\n",
              "  </div>\n",
              "  "
            ],
            "text/plain": [
              "               Id  SepalLengthCm  SepalWidthCm  PetalLengthCm  PetalWidthCm\n",
              "count  150.000000     150.000000    150.000000     150.000000    150.000000\n",
              "mean    75.500000       5.843333      3.054000       3.758667      1.198667\n",
              "std     43.445368       0.828066      0.433594       1.764420      0.763161\n",
              "min      1.000000       4.300000      2.000000       1.000000      0.100000\n",
              "25%     38.250000       5.100000      2.800000       1.600000      0.300000\n",
              "50%     75.500000       5.800000      3.000000       4.350000      1.300000\n",
              "75%    112.750000       6.400000      3.300000       5.100000      1.800000\n",
              "max    150.000000       7.900000      4.400000       6.900000      2.500000"
            ]
          },
          "execution_count": 8,
          "metadata": {},
          "output_type": "execute_result"
        }
      ],
      "source": [
        "#Vamos a ver algunas estadísticas básicas del dataset\n",
        "df.describe()"
      ]
    },
    {
      "cell_type": "code",
      "execution_count": null,
      "metadata": {
        "colab": {
          "base_uri": "https://localhost:8080/"
        },
        "id": "UnBtX3fzpKKz",
        "outputId": "acdd1f60-cba3-4317-852a-57089e159770",
        "scrolled": false
      },
      "outputs": [
        {
          "name": "stdout",
          "output_type": "stream",
          "text": [
            "-----------------------------------------------------------------------\n",
            "Primeras filas del dataframe:\n",
            "-----------------------------------------------------------------------\n",
            "   Id  SepalLengthCm  SepalWidthCm  PetalLengthCm  PetalWidthCm      Species\n",
            "0   1            5.1           3.5            1.4           0.2  Iris-setosa\n",
            "1   2            4.9           3.0            1.4           0.2  Iris-setosa\n",
            "2   3            4.7           3.2            1.3           0.2  Iris-setosa\n",
            "3   4            4.6           3.1            1.5           0.2  Iris-setosa\n",
            "4   5            5.0           3.6            1.4           0.2  Iris-setosa \n",
            "\n",
            "\n"
          ]
        }
      ],
      "source": [
        "# Inspeccionemos el dataframe:\n",
        "print('-----------------------------------------------------------------------')\n",
        "print('Primeras filas del dataframe:')  \n",
        "print('-----------------------------------------------------------------------')\n",
        "print(df.head(),'\\n\\n')"
      ]
    },
    {
      "cell_type": "markdown",
      "metadata": {
        "id": "vJnJK8q9269T"
      },
      "source": [
        "### Así se ven las flores\n",
        "\n",
        "![Flores]((/content/flores.jpg)\n",
        "\n",
        "### Y sus partes\n",
        "\n",
        "\n",
        "![Partes de las flores](/content/partes.jpg)"
      ]
    },
    {
      "cell_type": "code",
      "execution_count": null,
      "metadata": {
        "colab": {
          "base_uri": "https://localhost:8080/"
        },
        "id": "yJb7TCgSsPZz",
        "outputId": "e93ac527-c656-4708-9705-a2b924d03ce3"
      },
      "outputs": [
        {
          "name": "stdout",
          "output_type": "stream",
          "text": [
            "El nuevo dtype de la columna Species es:  category \n",
            "\n"
          ]
        }
      ],
      "source": [
        "#Necesitamos cambiar el dtype de la columna 'Species' a category.\n",
        "df['Species'] = df['Species'].astype('category')\n",
        "print('El nuevo dtype de la columna Species es: ',df['Species'].dtypes, '\\n')\n"
      ]
    },
    {
      "cell_type": "code",
      "execution_count": null,
      "metadata": {
        "colab": {
          "base_uri": "https://localhost:8080/"
        },
        "id": "N1vlFu9d269U",
        "outputId": "ed68f110-f2ed-4b54-db97-346d82b3daca"
      },
      "outputs": [
        {
          "name": "stdout",
          "output_type": "stream",
          "text": [
            "0         Iris-setosa\n",
            "1         Iris-setosa\n",
            "2         Iris-setosa\n",
            "3         Iris-setosa\n",
            "4         Iris-setosa\n",
            "            ...      \n",
            "145    Iris-virginica\n",
            "146    Iris-virginica\n",
            "147    Iris-virginica\n",
            "148    Iris-virginica\n",
            "149    Iris-virginica\n",
            "Name: Species, Length: 150, dtype: category\n",
            "Categories (3, object): ['Iris-setosa', 'Iris-versicolor', 'Iris-virginica']\n",
            "\n",
            "\n",
            "<class 'pandas.core.series.Series'>\n"
          ]
        }
      ],
      "source": [
        "print(df['Species'])\n",
        "print('\\n')\n",
        "print(type(df['Species']))"
      ]
    },
    {
      "cell_type": "markdown",
      "metadata": {
        "id": "X7cbq2HO269U"
      },
      "source": [
        "### Distribución de la variable Target"
      ]
    },
    {
      "cell_type": "code",
      "execution_count": null,
      "metadata": {
        "colab": {
          "base_uri": "https://localhost:8080/",
          "height": 783
        },
        "id": "4qNqG8EC7OsU",
        "outputId": "405030d5-2778-46d4-b170-67a737462ebf",
        "scrolled": true
      },
      "outputs": [
        {
          "name": "stdout",
          "output_type": "stream",
          "text": [
            "La lista de especies es:  ['Iris-setosa', 'Iris-versicolor', 'Iris-virginica'] \n",
            "\n",
            "Conteo de objetos por especie:\n",
            "Iris-setosa        50\n",
            "Iris-versicolor    50\n",
            "Iris-virginica     50\n",
            "Name: Species, dtype: int64\n",
            "\n",
            "El tipo de este objeto es:  <class 'pandas.core.series.Series'> \n",
            "\n"
          ]
        },
        {
          "data": {
            "image/png": "[encoded data removed]",
            "text/plain": [
              "<Figure size 360x360 with 1 Axes>"
            ]
          },
          "metadata": {},
          "output_type": "display_data"
        },
        {
          "data": {
            "image/png": "[encoded data removed]",
            "text/plain": [
              "<Figure size 432x288 with 1 Axes>"
            ]
          },
          "metadata": {
            "needs_background": "light"
          },
          "output_type": "display_data"
        }
      ],
      "source": [
        "#Revisemos las categorías del conjunto de datos.\n",
        "lista_de_especies = df['Species'].unique().to_list()\n",
        "print('La lista de especies es: ',lista_de_especies, '\\n')\n",
        "\n",
        "#Econtremos cómo están repartidas las categorías en el conjunto de datos. \n",
        "conteo_de_ejemplos_por_especie = df['Species'].value_counts()\n",
        "print('Conteo de objetos por especie:\\n', conteo_de_ejemplos_por_especie, '\\n',sep='')\n",
        "print('El tipo de este objeto es: ', type(conteo_de_ejemplos_por_especie),'\\n')\n",
        "\n",
        "#Revisemos esta información de forma gráfica.\n",
        "#-------------------------------------------------------------------------------\n",
        "#Opción 1: usemos un gráfico tipo pastel desde pandas. \n",
        "#-------------------------------------------------------------------------------\n",
        "conteo_de_ejemplos_por_especie.plot(kind='pie', \n",
        "                                    figsize=(5, 5),\n",
        "                                    #autopct='%1.1f%%',  #Esto muestra úicamente el porcentaje de ejemplos de cada categoría en el gráfico. \n",
        "                                    autopct=lambda pct: '{:.1f}%\\n({:d})'.format(pct, int(pct/100.*conteo_de_ejemplos_por_especie.sum())), #Con esta función lambda se puede mostrar el porcentaje y el número absoluto de ejemplos en cada categoría. \n",
        "                                    startangle=90,       #Esto define la orientación de la línea vertical inicial de las divisiones del pie chart.\n",
        "                                    fontsize=14,         #Tamaño de los textos.         \n",
        "                                    cmap='Pastel1')      #Para otros color maps visite: https://matplotlib.org/stable/tutorials/colors/colormaps.html\n",
        "titulo = 'Distribución del número de ejemplos de cada\\ncategoría en el conjunto de datos'\n",
        "plt.title(titulo) \n",
        "plt.ylabel('') #Esto es para evitar un texto en el eje y que diría Species.\n",
        "plt.show()\n",
        "\n",
        "#-------------------------------------------------------------------------------\n",
        "#Opción 2: usemos un gráfico de barras. \n",
        "#-------------------------------------------------------------------------------\n",
        "ax = conteo_de_ejemplos_por_especie.plot.bar(x='Species', rot=0, color='gray')\n",
        "plt.title(titulo) \n",
        "plt.ylabel('Número de ejemplos')\n",
        "plt.show()\n",
        "\n"
      ]
    },
    {
      "cell_type": "markdown",
      "metadata": {
        "id": "cfPUJMET269V"
      },
      "source": [
        "### Valores indeseados (ceros, outliers, etc.)"
      ]
    },
    {
      "cell_type": "code",
      "execution_count": null,
      "metadata": {
        "colab": {
          "base_uri": "https://localhost:8080/",
          "height": 1000
        },
        "id": "lcI_eZEM269V",
        "outputId": "8f7ebcba-c4ac-45d3-b742-137be6a89e0a",
        "scrolled": true
      },
      "outputs": [
        {
          "name": "stdout",
          "output_type": "stream",
          "text": [
            "Atributo: SepalLengthCm\n",
            "Número de valores 0:  0\n",
            "Porcentaje de valores cero: 0.00\n"
          ]
        },
        {
          "data": {
            "image/png": "[encoded data removed]",
            "text/plain": [
              "<Figure size 432x288 with 1 Axes>"
            ]
          },
          "metadata": {},
          "output_type": "display_data"
        },
        {
          "name": "stdout",
          "output_type": "stream",
          "text": [
            "Atributo: SepalWidthCm\n",
            "Número de valores 0:  0\n",
            "Porcentaje de valores cero: 0.00\n"
          ]
        },
        {
          "data": {
            "image/png": "[encoded data removed]",
            "text/plain": [
              "<Figure size 432x288 with 1 Axes>"
            ]
          },
          "metadata": {},
          "output_type": "display_data"
        },
        {
          "name": "stdout",
          "output_type": "stream",
          "text": [
            "Atributo: PetalLengthCm\n",
            "Número de valores 0:  0\n",
            "Porcentaje de valores cero: 0.00\n"
          ]
        },
        {
          "data": {
            "image/png": "[encoded data removed]",
            "text/plain": [
              "<Figure size 432x288 with 1 Axes>"
            ]
          },
          "metadata": {},
          "output_type": "display_data"
        },
        {
          "name": "stdout",
          "output_type": "stream",
          "text": [
            "Atributo: PetalWidthCm\n",
            "Número de valores 0:  0\n",
            "Porcentaje de valores cero: 0.00\n"
          ]
        },
        {
          "data": {
            "image/png": "[encoded data removed]",
            "text/plain": [
              "<Figure size 432x288 with 1 Axes>"
            ]
          },
          "metadata": {},
          "output_type": "display_data"
        }
      ],
      "source": [
        "#atributo = \"Id\"\n",
        "#atributo = \"SepalLengthCm\" \n",
        "#atributo = \"SepalWidthCm\"\n",
        "#atributo = \"PetalLengthCm\"\n",
        "#atributo = \"PetalWidthCm\"\n",
        "\n",
        "sns.set_theme(style=\"whitegrid\")     \n",
        "n_rows, n_cols = df.shape\n",
        "\n",
        "for i in range(1,n_cols-1):\n",
        "    atributo_de_interes = df.columns[i]\n",
        "    count = (df[atributo_de_interes] == 0).sum()\n",
        "    print('Atributo: ' + atributo_de_interes)\n",
        "    print(\"Número de valores 0: \", count)\n",
        "    print(\"Porcentaje de valores cero: %.2f\" % (100*count/n_rows))\n",
        "    ax = sns.violinplot(x=\"Species\", y=atributo_de_interes, data=df, palette=\"muted\", split=True)\n",
        "    plt.show()"
      ]
    },
    {
      "cell_type": "markdown",
      "metadata": {
        "id": "WQ9IuAeN269W"
      },
      "source": [
        "### Histogramas"
      ]
    },
    {
      "cell_type": "code",
      "execution_count": null,
      "metadata": {
        "colab": {
          "base_uri": "https://localhost:8080/",
          "height": 410
        },
        "id": "th0NbqKm269W",
        "outputId": "7fa1a14a-d1af-4c2d-c287-bfdf42b0d27a",
        "scrolled": true
      },
      "outputs": [
        {
          "data": {
            "image/png": "[encoded data removed]",
            "text/plain": [
              "<Figure size 432x432 with 1 Axes>"
            ]
          },
          "metadata": {},
          "output_type": "display_data"
        }
      ],
      "source": [
        "#atributo = \"Id\"\n",
        "atributo = \"SepalLengthCm\" \n",
        "#atributo = \"SepalWidthCm\"\n",
        "#atributo = \"PetalLengthCm\"\n",
        "#atributo = \"PetalWidthCm\"\n",
        "\n",
        "#Qué tal si coloreamos el histograma de acuerdo con el número de cilindros de los vehículos?\n",
        "plt.figure(figsize=(6,6))\n",
        "sns.histplot(data     = df, \n",
        "             x        = atributo,\n",
        "             bins     = 30,\n",
        "             hue      = 'Species',\n",
        "             fill     = True,\n",
        "             stat     = 'count')  #'count' muestra el número de observaciones.\n",
        "                              #'frequency' muestra el número de observaciones dividida por el ancho del bin.\n",
        "                              #'density' normaliza las cuentas tal que el área del histograma es 1.\n",
        "                              #'probability' normaliza las cuentas tal que la suma de la altura de las barras es 1.\n",
        "\n",
        "plt.xlabel(atributo) #Texto en el eje x.\n",
        "plt.ylabel('Cuentas')              #Texto en el eje y.\n",
        "plt.title('Histograma')             #Título del gráfico. \n",
        "plt.show()"
      ]
    },
    {
      "cell_type": "markdown",
      "metadata": {
        "id": "O441-uVX269W"
      },
      "source": [
        "#### **Pregunta 2.3**\n",
        "\n",
        "Construya histogramas para el resto de atributos y consigne las observaciones que considere pertinentes."
      ]
    },
    {
      "cell_type": "code",
      "execution_count": null,
      "metadata": {
        "colab": {
          "base_uri": "https://localhost:8080/",
          "height": 410
        },
        "id": "IqVa4_5u269W",
        "outputId": "26c74b25-4f49-4259-c8a1-913d70602fca"
      },
      "outputs": [
        {
          "data": {
            "image/png": "[encoded data removed]",
            "text/plain": [
              "<Figure size 432x432 with 1 Axes>"
            ]
          },
          "metadata": {},
          "output_type": "display_data"
        }
      ],
      "source": [
        "#atributo = \"Id\"\n",
        "#atributo = \"SepalLengthCm\" \n",
        "atributo = \"SepalWidthCm\"\n",
        "#atributo = \"PetalLengthCm\"\n",
        "#atributo = \"PetalWidthCm\"\n",
        "\n",
        "plt.figure(figsize=(6,6))\n",
        "sns.histplot(data     = df, \n",
        "             x        = atributo,\n",
        "             bins     = 30,\n",
        "             hue      = 'Species',\n",
        "             fill     = True,\n",
        "             stat     = 'count') \n",
        "\n",
        "plt.xlabel(atributo) #Texto en el eje x.\n",
        "plt.ylabel('Cuentas')              #Texto en el eje y.\n",
        "plt.title('Histograma')             #Título del gráfico. \n",
        "plt.show()"
      ]
    },
    {
      "cell_type": "code",
      "execution_count": null,
      "metadata": {
        "colab": {
          "base_uri": "https://localhost:8080/",
          "height": 410
        },
        "id": "d6SwPdVW8avu",
        "outputId": "635c8748-59cf-43cc-cc58-31d60069c26b"
      },
      "outputs": [
        {
          "data": {
            "image/png": "[encoded data removed]",
            "text/plain": [
              "<Figure size 432x432 with 1 Axes>"
            ]
          },
          "metadata": {},
          "output_type": "display_data"
        }
      ],
      "source": [
        "#atributo = \"Id\"\n",
        "#atributo = \"SepalLengthCm\" \n",
        "#atributo = \"SepalWidthCm\"\n",
        "atributo = \"PetalLengthCm\"\n",
        "#atributo = \"PetalWidthCm\"\n",
        "\n",
        "plt.figure(figsize=(6,6))\n",
        "sns.histplot(data     = df, \n",
        "             x        = atributo,\n",
        "             bins     = 30,\n",
        "             hue      = 'Species',\n",
        "             fill     = True,\n",
        "             stat     = 'count') \n",
        "\n",
        "plt.xlabel(atributo) #Texto en el eje x.\n",
        "plt.ylabel('Cuentas')              #Texto en el eje y.\n",
        "plt.title('Histograma')             #Título del gráfico. \n",
        "plt.show()"
      ]
    },
    {
      "cell_type": "code",
      "execution_count": null,
      "metadata": {
        "colab": {
          "base_uri": "https://localhost:8080/",
          "height": 410
        },
        "id": "2x32P0B38k5m",
        "outputId": "6c438b05-7a3b-4a7f-cbbd-5be06d691697"
      },
      "outputs": [
        {
          "data": {
            "image/png": "[encoded data removed]",
            "text/plain": [
              "<Figure size 432x432 with 1 Axes>"
            ]
          },
          "metadata": {},
          "output_type": "display_data"
        }
      ],
      "source": [
        "#atributo = \"Id\"\n",
        "#atributo = \"SepalLengthCm\" \n",
        "#atributo = \"SepalWidthCm\"\n",
        "#atributo = \"PetalLengthCm\"\n",
        "atributo = \"PetalWidthCm\"\n",
        "\n",
        "plt.figure(figsize=(6,6))\n",
        "sns.histplot(data     = df, \n",
        "             x        = atributo,\n",
        "             bins     = 30,\n",
        "             hue      = 'Species',\n",
        "             fill     = True,\n",
        "             stat     = 'count') \n",
        "\n",
        "plt.xlabel(atributo) #Texto en el eje x.\n",
        "plt.ylabel('Cuentas')              #Texto en el eje y.\n",
        "plt.title('Histograma')             #Título del gráfico. \n",
        "plt.show()"
      ]
    },
    {
      "cell_type": "markdown",
      "metadata": {
        "id": "P_ItFVgp269X"
      },
      "source": [
        "### Correlaciones"
      ]
    },
    {
      "cell_type": "code",
      "execution_count": null,
      "metadata": {
        "colab": {
          "base_uri": "https://localhost:8080/",
          "height": 724
        },
        "id": "u_82N_ne269X",
        "outputId": "309dc7bc-ec8e-4fdb-95f3-b3c34ee9dae0",
        "scrolled": true
      },
      "outputs": [
        {
          "data": {
            "image/png": "[encoded data removed]",
            "text/plain": [
              "<Figure size 834.35x720 with 20 Axes>"
            ]
          },
          "metadata": {},
          "output_type": "display_data"
        }
      ],
      "source": [
        "sns.set(style='white')\n",
        "sns.set_palette('Set2')\n",
        "\n",
        "g = sns.PairGrid(data=df.iloc[:,1:],hue='Species',diag_sharey=False, corner=False)  #Note que no graficamos la columna 0 correspondiente a Id, \n",
        "                                                                     #pues no aporta información. Usamos las categorías de la columna de\n",
        "                                                                     #'Species' para colorear las gráficas.\n",
        "\n",
        "g.map_diag(sns.histplot) #Muestra el histograma en la diagonal principal.\n",
        "g.map_lower(sns.scatterplot) #Muestra gráficos de dispersión en la sección inferior izquierda de la matriz.\n",
        "\n",
        "g.add_legend()\n",
        "\n",
        "plt.show()"
      ]
    },
    {
      "cell_type": "markdown",
      "metadata": {
        "id": "MjgZ9jAV269X"
      },
      "source": [
        "#### **Pregunta 2.4**\n",
        "\n",
        "Observe la figura anterior e indique qué hipótesis puede realizar."
      ]
    },
    {
      "cell_type": "code",
      "execution_count": null,
      "metadata": {
        "id": "W1V1gX0W269Y"
      },
      "outputs": [],
      "source": [
        "#Respuesta Pregunta 2.4\n",
        "#La relacion entre petalLength y PetalWidth es lineal es decir si una crece la otra tambien y el tamaño de cada tipo de Iris es muy diferente.\n",
        "# Iris-setosa es mas facil de clasificar que las otras dos iris por sus caracteristicas. \n"
      ]
    },
    {
      "cell_type": "markdown",
      "metadata": {
        "id": "a4e-E_p8269Y"
      },
      "source": [
        "# 3. Modelo"
      ]
    },
    {
      "cell_type": "markdown",
      "metadata": {
        "id": "uC_Iebbi269Y"
      },
      "source": [
        "### 3.1. Problema: Clasificación"
      ]
    },
    {
      "cell_type": "markdown",
      "metadata": {
        "id": "JKt-91lP269Y"
      },
      "source": [
        "### 3.2. Modelo: KNN\n",
        "\n",
        "![knn](img/knn_algorithm.png)"
      ]
    },
    {
      "cell_type": "markdown",
      "metadata": {
        "id": "Zi1yVjtQ85Xg"
      },
      "source": [
        "### 3.3. Selección de atributos (predictores)."
      ]
    },
    {
      "cell_type": "code",
      "execution_count": null,
      "metadata": {
        "id": "367gwKJd83qw"
      },
      "outputs": [],
      "source": [
        "#Nombre de la salida deseada:\n",
        "nombre_de_la_variable_de_salida='Species' \n",
        "\n",
        "#Nombre de los posibles atributos de entrada:\n",
        "# 'SepalLengthCm'\n",
        "# 'SepalWidthCm'\n",
        "# 'PetalLengthCm'\n",
        "# 'PetalWidthCm'\n",
        "\n",
        "#En este primer ejemplo vamos a utilizar 4 variables:\n",
        "nombre_de_las_variables_de_entrada = ['SepalLengthCm','SepalWidthCm','PetalLengthCm','PetalWidthCm']"
      ]
    },
    {
      "cell_type": "code",
      "execution_count": null,
      "metadata": {
        "colab": {
          "base_uri": "https://localhost:8080/"
        },
        "id": "eWMD2cYF269Z",
        "outputId": "f1286297-6e69-44b9-b83b-8c77f7c11bf4"
      },
      "outputs": [
        {
          "name": "stdout",
          "output_type": "stream",
          "text": [
            "0         Iris-setosa\n",
            "1         Iris-setosa\n",
            "2         Iris-setosa\n",
            "3         Iris-setosa\n",
            "4         Iris-setosa\n",
            "            ...      \n",
            "145    Iris-virginica\n",
            "146    Iris-virginica\n",
            "147    Iris-virginica\n",
            "148    Iris-virginica\n",
            "149    Iris-virginica\n",
            "Name: Species, Length: 150, dtype: category\n",
            "Categories (3, object): ['Iris-setosa', 'Iris-versicolor', 'Iris-virginica']\n"
          ]
        }
      ],
      "source": [
        "#La variable Target (Species) es categórica pero los valores no son apropiados para entrenar\n",
        "#un modelo de Machine Learning\n",
        "\n",
        "print(df[nombre_de_la_variable_de_salida])"
      ]
    },
    {
      "cell_type": "code",
      "execution_count": null,
      "metadata": {
        "colab": {
          "base_uri": "https://localhost:8080/"
        },
        "id": "5vcZ13kAKUBp",
        "outputId": "213daffd-764b-416f-c207-694f72c51c5c",
        "scrolled": true
      },
      "outputs": [
        {
          "name": "stdout",
          "output_type": "stream",
          "text": [
            "Nombres de las nuevas columnas:  ['Iris-setosa', 'Iris-versicolor', 'Iris-virginica'] \n",
            "\n",
            "Dataframe de salida:\n",
            "     Iris-setosa  Iris-versicolor  Iris-virginica\n",
            "0              1                0               0\n",
            "1              1                0               0\n",
            "2              1                0               0\n",
            "3              1                0               0\n",
            "4              1                0               0\n",
            "..           ...              ...             ...\n",
            "145            0                0               1\n",
            "146            0                0               1\n",
            "147            0                0               1\n",
            "148            0                0               1\n",
            "149            0                0               1\n",
            "\n",
            "[150 rows x 3 columns]\n",
            "\n",
            "Dataframe de entrada:\n",
            "     SepalLengthCm  SepalWidthCm  PetalLengthCm  PetalWidthCm\n",
            "0              5.1           3.5            1.4           0.2\n",
            "1              4.9           3.0            1.4           0.2\n",
            "2              4.7           3.2            1.3           0.2\n",
            "3              4.6           3.1            1.5           0.2\n",
            "4              5.0           3.6            1.4           0.2\n",
            "..             ...           ...            ...           ...\n",
            "145            6.7           3.0            5.2           2.3\n",
            "146            6.3           2.5            5.0           1.9\n",
            "147            6.5           3.0            5.2           2.0\n",
            "148            6.2           3.4            5.4           2.3\n",
            "149            5.9           3.0            5.1           1.8\n",
            "\n",
            "[150 rows x 4 columns]\n"
          ]
        }
      ],
      "source": [
        "#Vamos a aplicar una codificación one-hot a la variable de salida categórica, \n",
        "#para obtener un dataframe con las nuevas variables dummy de salida.\n",
        "#(https://pandas.pydata.org/pandas-docs/stable/reference/api/pandas.get_dummies.html)\n",
        "\n",
        "df_y = pd.get_dummies(df[nombre_de_la_variable_de_salida])\n",
        "nombres_de_las_variables_de_salida = df_y.columns.to_list()\n",
        "print('Nombres de las nuevas columnas: ',nombres_de_las_variables_de_salida,'\\n')\n",
        "print('Dataframe de salida:')\n",
        "print(df_y)\n",
        "\n",
        "#Ahora, obtenemos un dataframe con las variables de entrada que vamos a utilizar.\n",
        "df_x = deepcopy(df[nombre_de_las_variables_de_entrada])\n",
        "print('\\nDataframe de entrada:')\n",
        "print(df_x)"
      ]
    },
    {
      "cell_type": "markdown",
      "metadata": {
        "id": "gfDNMdAizVAa"
      },
      "source": [
        "### 3.4. División del conjunto de datos.\n",
        "\n",
        "![division_datos](img/division_datos.png)"
      ]
    },
    {
      "cell_type": "code",
      "execution_count": null,
      "metadata": {
        "colab": {
          "base_uri": "https://localhost:8080/"
        },
        "id": "tOgbNw3J269a",
        "outputId": "25007e10-059e-41ce-b673-79a4d4b538a3",
        "scrolled": true
      },
      "outputs": [
        {
          "name": "stdout",
          "output_type": "stream",
          "text": [
            "-----------------------------------------------------------------------\n",
            "Conjunto de datos de entrenamiento 80%\n",
            "-----------------------------------------------------------------------\n",
            "<class 'pandas.core.frame.DataFrame'>\n",
            "Int64Index: 120 entries, 39 to 99\n",
            "Data columns (total 4 columns):\n",
            " #   Column         Non-Null Count  Dtype  \n",
            "---  ------         --------------  -----  \n",
            " 0   SepalLengthCm  120 non-null    float64\n",
            " 1   SepalWidthCm   120 non-null    float64\n",
            " 2   PetalLengthCm  120 non-null    float64\n",
            " 3   PetalWidthCm   120 non-null    float64\n",
            "dtypes: float64(4)\n",
            "memory usage: 4.7 KB\n",
            "None \n",
            "\n",
            "-----------------------------------------------------------------------\n",
            "Conjunto de datos de prueba 20%\n",
            "-----------------------------------------------------------------------\n",
            "<class 'pandas.core.frame.DataFrame'>\n",
            "Int64Index: 30 entries, 82 to 132\n",
            "Data columns (total 4 columns):\n",
            " #   Column         Non-Null Count  Dtype  \n",
            "---  ------         --------------  -----  \n",
            " 0   SepalLengthCm  30 non-null     float64\n",
            " 1   SepalWidthCm   30 non-null     float64\n",
            " 2   PetalLengthCm  30 non-null     float64\n",
            " 3   PetalWidthCm   30 non-null     float64\n",
            "dtypes: float64(4)\n",
            "memory usage: 1.2 KB\n",
            "None\n",
            "\n"
          ]
        }
      ],
      "source": [
        "# Vamos a dividir los datos en un conjunto de entrenamiento y un conjunto de pruebas.\n",
        "mezclar_los_datos       = True #Vamos a mezclar de forma aleatoria los datos antes de particionarlos. \n",
        "valor_semilla_aleatoria = 5   #Esto es útil si se quiere garantizar la repetibilidad \n",
        "                               #de la partición de datos en ejecuciones sucesivas de su notebook o script. \n",
        "\n",
        "#Porcentajes de división de datos. \n",
        "particion_para_entrenamiento = 0.8  #Dejamos el 60% de los datos para el conjunto de entrenamiento (training set).\n",
        "particion_para_pruebas       = 1.0-particion_para_entrenamiento #Dejamos los otros datos, correspondiente al 20%, para el conjunto de pruebas. \n",
        "\n",
        "#Hacemos la partición para obtener el conjunto de pruebas y el \"resto\" (i.e.: entrenamiento y desarrollo).\n",
        "df_x_train, df_x_test, df_y_train, df_y_test = train_test_split(df_x,                                         #100% de los datos de entrada. \n",
        "                                                              df_y,                                         #100% de los datos de salida. \n",
        "                                                              test_size=particion_para_pruebas, \n",
        "                                                              random_state=valor_semilla_aleatoria, \n",
        "                                                              shuffle=mezclar_los_datos)\n",
        "\n",
        "print('-----------------------------------------------------------------------')\n",
        "print('Conjunto de datos de entrenamiento {:1.0f}%'.format(particion_para_entrenamiento*100))\n",
        "print('-----------------------------------------------------------------------')\n",
        "print(df_x_train.info(),'\\n')\n",
        "\n",
        "print('-----------------------------------------------------------------------')\n",
        "print('Conjunto de datos de prueba {:1.0f}%'.format(particion_para_pruebas*100))\n",
        "print('-----------------------------------------------------------------------')\n",
        "print(df_x_test.info(),'\\n',sep='')"
      ]
    },
    {
      "cell_type": "markdown",
      "metadata": {
        "id": "qN8TWM2_269a"
      },
      "source": [
        "#### **Pregunta 3.1**\n",
        "\n",
        "Obtenga estadísticas básicas de los conjuntos de entrenamiento y prueba (puede usar df.describe()) y comparelas ¿qué puede concluir al respecto?"
      ]
    },
    {
      "cell_type": "code",
      "execution_count": null,
      "metadata": {
        "colab": {
          "base_uri": "https://localhost:8080/"
        },
        "id": "ldlhWMGR269b",
        "outputId": "ff639e63-6730-496d-8363-97521c99c04c"
      },
      "outputs": [
        {
          "name": "stdout",
          "output_type": "stream",
          "text": [
            "       SepalLengthCm  SepalWidthCm  PetalLengthCm  PetalWidthCm\n",
            "count     120.000000    120.000000     120.000000    120.000000\n",
            "mean        5.838333      3.069167       3.690833      1.170833\n",
            "std         0.841186      0.456659       1.780709      0.770506\n",
            "min         4.300000      2.000000       1.000000      0.100000\n",
            "25%         5.100000      2.800000       1.500000      0.300000\n",
            "50%         5.750000      3.000000       4.250000      1.300000\n",
            "75%         6.500000      3.400000       5.100000      1.800000\n",
            "max         7.900000      4.400000       6.900000      2.500000 \n",
            "\n",
            "       SepalLengthCm  SepalWidthCm  PetalLengthCm  PetalWidthCm\n",
            "count      30.000000     30.000000      30.000000     30.000000\n",
            "mean        5.863333      2.993333       4.030000      1.310000\n",
            "std         0.786736      0.324763       1.699523      0.735011\n",
            "min         4.400000      2.400000       1.300000      0.100000\n",
            "25%         5.150000      2.800000       2.100000      0.625000\n",
            "50%         5.850000      2.950000       4.500000      1.400000\n",
            "75%         6.300000      3.150000       5.325000      1.800000\n",
            "max         7.400000      3.700000       6.300000      2.500000\n"
          ]
        }
      ],
      "source": [
        "#Respuesta Pregunta 3.1\n",
        "print(df_x_train.describe(),'\\n')\n",
        "print(df_x_test.describe())\n",
        "\n"
      ]
    },
    {
      "cell_type": "markdown",
      "metadata": {
        "id": "MiAPJQZa4DOw"
      },
      "source": [
        "Podemos ver que a pesar de que los datos de prueba y de entrenamiento son un poco distintos en sus medias son muy parecidos por lo que son equivalentes y por lo tanto se podria decir que cualquier grupo de datos significativos que sea tomado para entrenamiento va a pasar de forma muy posible las pruebas."
      ]
    },
    {
      "cell_type": "markdown",
      "metadata": {
        "id": "Z7OJunnP269b"
      },
      "source": [
        "#### **Pregunta 3.2**\n",
        "\n",
        "Obtenga la distribución en número y porcentaje de cada una de las clases tanto en el conjunto de entrenamiento como en el de prueba y comparelas ¿qué puede concluir al respecto?"
      ]
    },
    {
      "cell_type": "code",
      "execution_count": null,
      "metadata": {
        "colab": {
          "base_uri": "https://localhost:8080/"
        },
        "id": "oiwr_d55269b",
        "outputId": "59b01ecb-ce33-4025-83b5-920b3f946380"
      },
      "outputs": [
        {
          "name": "stdout",
          "output_type": "stream",
          "text": [
            "SepalLengthCm    5.838333\n",
            "SepalWidthCm     3.069167\n",
            "PetalLengthCm    3.690833\n",
            "PetalWidthCm     1.170833\n",
            "dtype: float64 \n",
            "\n",
            "SepalLengthCm    5.863333\n",
            "SepalWidthCm     2.993333\n",
            "PetalLengthCm    4.030000\n",
            "PetalWidthCm     1.310000\n",
            "dtype: float64\n"
          ]
        }
      ],
      "source": [
        "#Respuesta Pregunta 3.2\n",
        "print(df_x_train.mean(),'\\n')\n",
        "print(df_x_test.mean())\n",
        "\n"
      ]
    },
    {
      "cell_type": "markdown",
      "metadata": {
        "id": "PEoWzsCE6tPa"
      },
      "source": [
        "### 3.5. Escalado de atributos."
      ]
    },
    {
      "cell_type": "markdown",
      "metadata": {
        "id": "7OJ3qGeUUJWB"
      },
      "source": [
        "### 3.6. Contrucción del modelo."
      ]
    },
    {
      "cell_type": "code",
      "execution_count": null,
      "metadata": {
        "colab": {
          "base_uri": "https://localhost:8080/"
        },
        "id": "x25B494jFmGC",
        "outputId": "c1c80966-f911-42c3-f225-3e78acbd057b",
        "scrolled": true
      },
      "outputs": [
        {
          "data": {
            "text/plain": [
              "KNeighborsClassifier()"
            ]
          },
          "execution_count": 35,
          "metadata": {},
          "output_type": "execute_result"
        }
      ],
      "source": [
        "#-------------------------------------------------------------------------------\n",
        "#K-vecinos más cercanos (K-nearest neighbors o simplemente KNN).\n",
        "#-------------------------------------------------------------------------------\n",
        "k   = 5  #Número de vecinos cercanos.\n",
        "knn = neighbors.KNeighborsClassifier(n_neighbors=k) #Instanciamos el clasificador KNN.\n",
        "knn.fit(df_x_train, df_y_train)                #Ajustamos el clasificador. \n"
      ]
    },
    {
      "cell_type": "markdown",
      "metadata": {
        "id": "8DjcyZb2Xpu5"
      },
      "source": [
        "### 3.7. Predicción."
      ]
    },
    {
      "cell_type": "markdown",
      "metadata": {
        "id": "Md7yE275269c"
      },
      "source": [
        "#### 3.7.1. Conjunto de entrenamiento."
      ]
    },
    {
      "cell_type": "code",
      "execution_count": null,
      "metadata": {
        "colab": {
          "base_uri": "https://localhost:8080/"
        },
        "id": "jEVQxuXhl9-S",
        "outputId": "0d254f91-218c-4963-c29e-d25f6538a3c2"
      },
      "outputs": [
        {
          "name": "stdout",
          "output_type": "stream",
          "text": [
            "¿Qué retorna knn.predict?  Tipo de dato:  <class 'numpy.ndarray'> dimensiones:  (120, 3)\n",
            "¿Cómo están las salidas deseadas?  Tipo de dato:  <class 'numpy.ndarray'> dimensiones:  (120, 3)\n"
          ]
        }
      ],
      "source": [
        "y_pred_train = knn.predict(df_x_train)       #Realizamos predicciones sobre el conjunto de entrenamiento. \n",
        "                                                    #Note que knn.predict retorna un arreglo numpy NO un dataframe.\n",
        "print('¿Qué retorna knn.predict? ','Tipo de dato: ',type(y_pred_train),'dimensiones: ', y_pred_train.shape)\n",
        "\n",
        "#-------------------------------------------------------------------------------\n",
        "###Nota: si usted necesitara o deseara convertir el arreglo numpy a un dataframe podría hacerlo fácilmente:\n",
        "##df_y_pred_train = pd.DataFrame(data=y_pred,columns=nombres_de_las_variables_de_salida)\n",
        "#-------------------------------------------------------------------------------\n",
        "\n",
        "#Ahora, debemos convertir los valores \"deseados\" que tenemos como dataframes \n",
        "#en arreglos numpy para aprovechar las herramientas que nos ofrece scikit-learn.\n",
        "y_train = df_y_train.values\n",
        "print('¿Cómo están las salidas deseadas? ','Tipo de dato: ',type(y_train),'dimensiones: ', y_train.shape)"
      ]
    },
    {
      "cell_type": "code",
      "execution_count": null,
      "metadata": {
        "colab": {
          "base_uri": "https://localhost:8080/"
        },
        "id": "uenjhl9O269d",
        "outputId": "e0522140-c480-42fb-dc59-6311a2cd7903",
        "scrolled": true
      },
      "outputs": [
        {
          "name": "stdout",
          "output_type": "stream",
          "text": [
            "Veamos el contenido de y_pred_train: \n",
            "\n",
            "[[1 0 0]\n",
            " [0 1 0]\n",
            " [0 1 0]\n",
            " [1 0 0]\n",
            " [0 1 0]\n",
            " [1 0 0]\n",
            " [1 0 0]\n",
            " [0 0 1]\n",
            " [1 0 0]\n",
            " [0 0 1]\n",
            " [0 0 1]\n",
            " [0 1 0]\n",
            " [1 0 0]\n",
            " [1 0 0]\n",
            " [0 1 0]\n",
            " [0 0 1]\n",
            " [0 1 0]\n",
            " [0 0 1]\n",
            " [0 0 1]\n",
            " [1 0 0]\n",
            " [0 0 1]\n",
            " [1 0 0]\n",
            " [1 0 0]\n",
            " [1 0 0]\n",
            " [1 0 0]\n",
            " [0 1 0]\n",
            " [0 1 0]\n",
            " [0 1 0]\n",
            " [0 1 0]\n",
            " [0 0 1]\n",
            " [0 1 0]\n",
            " [0 0 1]\n",
            " [0 0 1]\n",
            " [0 1 0]\n",
            " [1 0 0]\n",
            " [0 1 0]\n",
            " [1 0 0]\n",
            " [0 1 0]\n",
            " [0 0 1]\n",
            " [0 1 0]\n",
            " [0 0 1]\n",
            " [0 1 0]\n",
            " [0 0 1]\n",
            " [0 1 0]\n",
            " [0 1 0]\n",
            " [0 1 0]\n",
            " [0 0 1]\n",
            " [0 1 0]\n",
            " [1 0 0]\n",
            " [0 0 1]\n",
            " [1 0 0]\n",
            " [1 0 0]\n",
            " [0 1 0]\n",
            " [1 0 0]\n",
            " [1 0 0]\n",
            " [0 0 1]\n",
            " [0 1 0]\n",
            " [1 0 0]\n",
            " [0 0 1]\n",
            " [1 0 0]\n",
            " [0 0 1]\n",
            " [0 1 0]\n",
            " [1 0 0]\n",
            " [1 0 0]\n",
            " [0 0 1]\n",
            " [0 1 0]\n",
            " [0 1 0]\n",
            " [1 0 0]\n",
            " [1 0 0]\n",
            " [0 0 1]\n",
            " [0 1 0]\n",
            " [0 1 0]\n",
            " [1 0 0]\n",
            " [0 1 0]\n",
            " [0 0 1]\n",
            " [0 1 0]\n",
            " [1 0 0]\n",
            " [0 1 0]\n",
            " [0 0 1]\n",
            " [0 0 1]\n",
            " [0 0 1]\n",
            " [0 0 1]\n",
            " [1 0 0]\n",
            " [1 0 0]\n",
            " [0 0 1]\n",
            " [0 0 1]\n",
            " [1 0 0]\n",
            " [0 1 0]\n",
            " [1 0 0]\n",
            " [1 0 0]\n",
            " [0 0 1]\n",
            " [0 1 0]\n",
            " [0 0 1]\n",
            " [1 0 0]\n",
            " [0 0 1]\n",
            " [1 0 0]\n",
            " [0 0 1]\n",
            " [1 0 0]\n",
            " [0 1 0]\n",
            " [1 0 0]\n",
            " [0 0 1]\n",
            " [0 0 1]\n",
            " [1 0 0]\n",
            " [0 1 0]\n",
            " [0 0 1]\n",
            " [0 0 1]\n",
            " [0 1 0]\n",
            " [1 0 0]\n",
            " [0 1 0]\n",
            " [1 0 0]\n",
            " [1 0 0]\n",
            " [0 1 0]\n",
            " [0 0 1]\n",
            " [1 0 0]\n",
            " [0 0 1]\n",
            " [1 0 0]\n",
            " [0 1 0]\n",
            " [0 0 1]\n",
            " [0 0 1]\n",
            " [0 1 0]]\n"
          ]
        }
      ],
      "source": [
        "print('Veamos el contenido de y_pred_train: \\n')\n",
        "print(y_pred_train)"
      ]
    },
    {
      "cell_type": "code",
      "execution_count": null,
      "metadata": {
        "colab": {
          "base_uri": "https://localhost:8080/"
        },
        "id": "bC3psRh3269d",
        "outputId": "7a340411-37f2-4885-d632-b222b5f06a26"
      },
      "outputs": [
        {
          "name": "stdout",
          "output_type": "stream",
          "text": [
            "Veamos el contenido de y_train: \n",
            "\n",
            "[[1 0 0]\n",
            " [0 1 0]\n",
            " [0 1 0]\n",
            " [1 0 0]\n",
            " [0 1 0]\n",
            " [1 0 0]\n",
            " [1 0 0]\n",
            " [0 0 1]\n",
            " [1 0 0]\n",
            " [0 0 1]\n",
            " [0 0 1]\n",
            " [0 1 0]\n",
            " [1 0 0]\n",
            " [1 0 0]\n",
            " [0 1 0]\n",
            " [0 0 1]\n",
            " [0 1 0]\n",
            " [0 0 1]\n",
            " [0 0 1]\n",
            " [1 0 0]\n",
            " [0 0 1]\n",
            " [1 0 0]\n",
            " [1 0 0]\n",
            " [1 0 0]\n",
            " [1 0 0]\n",
            " [0 1 0]\n",
            " [0 1 0]\n",
            " [0 1 0]\n",
            " [0 1 0]\n",
            " [0 0 1]\n",
            " [0 1 0]\n",
            " [0 0 1]\n",
            " [0 0 1]\n",
            " [0 1 0]\n",
            " [1 0 0]\n",
            " [0 1 0]\n",
            " [1 0 0]\n",
            " [0 1 0]\n",
            " [0 0 1]\n",
            " [0 1 0]\n",
            " [0 0 1]\n",
            " [0 1 0]\n",
            " [0 0 1]\n",
            " [0 1 0]\n",
            " [0 1 0]\n",
            " [0 1 0]\n",
            " [0 0 1]\n",
            " [0 1 0]\n",
            " [1 0 0]\n",
            " [0 0 1]\n",
            " [1 0 0]\n",
            " [1 0 0]\n",
            " [0 1 0]\n",
            " [1 0 0]\n",
            " [1 0 0]\n",
            " [0 0 1]\n",
            " [0 1 0]\n",
            " [1 0 0]\n",
            " [0 0 1]\n",
            " [1 0 0]\n",
            " [0 0 1]\n",
            " [0 1 0]\n",
            " [1 0 0]\n",
            " [1 0 0]\n",
            " [0 0 1]\n",
            " [0 1 0]\n",
            " [0 1 0]\n",
            " [1 0 0]\n",
            " [1 0 0]\n",
            " [0 0 1]\n",
            " [0 1 0]\n",
            " [0 1 0]\n",
            " [1 0 0]\n",
            " [0 1 0]\n",
            " [0 0 1]\n",
            " [0 1 0]\n",
            " [1 0 0]\n",
            " [0 1 0]\n",
            " [0 0 1]\n",
            " [0 0 1]\n",
            " [0 0 1]\n",
            " [0 0 1]\n",
            " [1 0 0]\n",
            " [1 0 0]\n",
            " [0 1 0]\n",
            " [0 0 1]\n",
            " [1 0 0]\n",
            " [0 1 0]\n",
            " [1 0 0]\n",
            " [1 0 0]\n",
            " [0 0 1]\n",
            " [0 1 0]\n",
            " [0 0 1]\n",
            " [1 0 0]\n",
            " [0 0 1]\n",
            " [1 0 0]\n",
            " [0 0 1]\n",
            " [1 0 0]\n",
            " [0 1 0]\n",
            " [1 0 0]\n",
            " [0 0 1]\n",
            " [0 0 1]\n",
            " [1 0 0]\n",
            " [0 0 1]\n",
            " [0 0 1]\n",
            " [0 0 1]\n",
            " [0 1 0]\n",
            " [1 0 0]\n",
            " [0 1 0]\n",
            " [1 0 0]\n",
            " [1 0 0]\n",
            " [0 1 0]\n",
            " [0 0 1]\n",
            " [1 0 0]\n",
            " [0 0 1]\n",
            " [1 0 0]\n",
            " [0 1 0]\n",
            " [0 0 1]\n",
            " [0 0 1]\n",
            " [0 1 0]]\n"
          ]
        }
      ],
      "source": [
        "print('Veamos el contenido de y_train: \\n')\n",
        "print(y_train)"
      ]
    },
    {
      "cell_type": "markdown",
      "metadata": {
        "id": "dFkiwBfr269d"
      },
      "source": [
        "#### 3.7.1. Conjunto de entrenamiento."
      ]
    },
    {
      "cell_type": "markdown",
      "metadata": {
        "id": "lXLNYMRM269e"
      },
      "source": [
        "#### **Pregunta 3.3**\n",
        "\n",
        "Obtenga la predicción para el conjunto de prueba y guardela en la variable y_pred_test y muestre sus dimensiones"
      ]
    },
    {
      "cell_type": "code",
      "execution_count": null,
      "metadata": {
        "colab": {
          "base_uri": "https://localhost:8080/"
        },
        "id": "Zx0hlW3r269e",
        "outputId": "7e4ff4e5-f775-4fa9-ddf7-4cb12123e37d"
      },
      "outputs": [
        {
          "name": "stdout",
          "output_type": "stream",
          "text": [
            "[[0 1 0]\n",
            " [0 0 1]\n",
            " [0 0 1]\n",
            " [1 0 0]\n",
            " [0 0 1]\n",
            " [0 1 0]\n",
            " [1 0 0]\n",
            " [0 0 1]\n",
            " [1 0 0]\n",
            " [0 1 0]\n",
            " [0 1 0]\n",
            " [0 0 1]\n",
            " [0 0 1]\n",
            " [0 0 1]\n",
            " [1 0 0]\n",
            " [1 0 0]\n",
            " [0 0 1]\n",
            " [0 0 1]\n",
            " [1 0 0]\n",
            " [1 0 0]\n",
            " [0 1 0]\n",
            " [0 0 1]\n",
            " [1 0 0]\n",
            " [0 0 1]\n",
            " [0 1 0]\n",
            " [0 0 1]\n",
            " [0 1 0]\n",
            " [0 1 0]\n",
            " [0 1 0]\n",
            " [0 0 1]]\n"
          ]
        }
      ],
      "source": [
        "#Respuesta Pregunta 3.\n",
        "y_pred_test = knn.predict(df_x_test)  \n",
        "\n",
        "print(y_pred_test)"
      ]
    },
    {
      "cell_type": "markdown",
      "metadata": {
        "id": "pJduLstymDLJ"
      },
      "source": [
        "# 4. Evaluación"
      ]
    },
    {
      "cell_type": "markdown",
      "metadata": {
        "id": "df--QzQC269e"
      },
      "source": [
        "### 4.1. Conjunto de entrenamiento."
      ]
    },
    {
      "cell_type": "markdown",
      "metadata": {
        "id": "CXL5_qV3269e"
      },
      "source": [
        "### 4.2. Conjunto de prueba."
      ]
    },
    {
      "cell_type": "markdown",
      "metadata": {
        "id": "Rl3ujDOb269f"
      },
      "source": [
        "#### **Pregunta 4.1**\n",
        "\n",
        "Cree la función cm_multi que reciba dos matrices y(mxn), y_pred(mxn) y devuelva la matriz de confusión\n",
        "cm_m(nxn).\n",
        "\n",
        "def cm_multi (y,y_pred):\n",
        "    \n",
        "    #Cuerpo de la función\n",
        "    \n",
        "    return cm_m\n",
        "\n",
        "Use esta función para obtener e imprimir la matriz de confusión del clasificador KNN, tanto para el conjunto de entrenamiento como de prueba ¿qué se puede concluir de los resultados obtenidos?"
      ]
    },
    {
      "cell_type": "code",
      "execution_count": null,
      "metadata": {
        "id": "8pYdYMX0Effi"
      },
      "outputs": [],
      "source": [
        "from sklearn.metrics import confusion_matrix\n",
        "\n",
        "def multiply_matrix(A,B):\n",
        "  return confusion_matrix(A,B)"
      ]
    },
    {
      "cell_type": "code",
      "execution_count": null,
      "metadata": {
        "id": "eu8f0DsiOF9Y"
      },
      "outputs": [],
      "source": [
        "#-------------------------------------------------------------------------------\n",
        "#Función auxiliar:\n",
        "#-------------------------------------------------------------------------------\n",
        "def one_hot_to_label_encoding(y_one_hot):\n",
        "  \"\"\"\n",
        "  Esta función convierte un arreglo numpy y_one_hot, correspondiente a una matriz de \n",
        "  m observaciones por n clases de tipo binario, en un vector columna y_label_encoded\n",
        "  de m filas cuyos elementos pueden tomar valores entre 0 y n-1. En ese caso\n",
        "  0 corresponde a la primera categoría, 1 a la segunda categoría, y así\n",
        "  sucesivamente. \n",
        "  \"\"\"\n",
        "  rows,cols=y_one_hot.shape            #Obtengo las dimensiones del arreglo.\n",
        "  y_label_encoded = np.zeros((rows,1)) #Inicializo el arreglo de salida en ceros. \n",
        "  for i in range(cols): #Para todas las categorías (aunque estrictamente esto puede dejarse como range(1,cols,1), pues i=0 no hace nada. )\n",
        "    y_label_encoded += i*y_one_hot[:,i].reshape((-1,1))  #Esto presume que la primera categoría se codifica como 0, \n",
        "                                                         #la siguiente como 1, etc...\n",
        "  return y_label_encoded\n",
        "#-------------------------------------------------------------------------------"
      ]
    },
    {
      "cell_type": "code",
      "execution_count": null,
      "metadata": {
        "colab": {
          "base_uri": "https://localhost:8080/",
          "height": 489
        },
        "id": "eJuOssH8269f",
        "outputId": "cb17bd85-21f7-48c8-ff8d-ca132db1b1ab"
      },
      "outputs": [
        {
          "name": "stdout",
          "output_type": "stream",
          "text": [
            "Matriz de confusión para K=5 usando los datos del conjunto de entrenamiento:\n",
            " [[42  0  0]\n",
            " [ 0 38  1]\n",
            " [ 0  1 38]]\n",
            "\n",
            "\n",
            "Clase 0:\n",
            "Iris-setosa\n",
            "Clase 1:\n",
            "Iris-versicolor\n",
            "Clase 2:\n",
            "Iris-virginica\n"
          ]
        },
        {
          "data": {
            "image/png": "[encoded data removed]",
            "text/plain": [
              "<Figure size 432x288 with 2 Axes>"
            ]
          },
          "metadata": {},
          "output_type": "display_data"
        }
      ],
      "source": [
        "#Ahora vamos a obtener la matriz de confusión para el conjunto de datos de entrenamiento.\n",
        "#Note que la función confusion_matrix de scikit-learn espera vectores no matrices.\n",
        "#Por eso se debe cambiar la codificación de one-hot a otra apropiada, en este caso\n",
        "#usamos label encoding por comodidad:\n",
        "cm = metrics.confusion_matrix(one_hot_to_label_encoding(y_train),one_hot_to_label_encoding(y_pred_train))  #Una matriz de confusión para todas las categorías.  \n",
        "print('Matriz de confusión para K={} usando los datos del conjunto de entrenamiento:\\n'.format(k), cm)\n",
        "print('\\n')\n",
        "disp_1 = metrics.ConfusionMatrixDisplay(confusion_matrix = cm)\n",
        "disp_1.plot()\n",
        "\n",
        "for i in range(len(nombres_de_las_variables_de_salida)):\n",
        "    print('Clase %d:' % i)\n",
        "    print(nombres_de_las_variables_de_salida[i])"
      ]
    },
    {
      "cell_type": "markdown",
      "metadata": {
        "id": "_oCg-6O0269f"
      },
      "source": [
        "#### **Pregunta 4.2**\n",
        "\n",
        "Compare los resultados obtenidos con su función cm_multi(y,y_pred) y los obtenidos mediante las dos celdas anteriores, tanto para los datos de entrenamiento como de prueba."
      ]
    },
    {
      "cell_type": "code",
      "execution_count": null,
      "metadata": {
        "colab": {
          "base_uri": "https://localhost:8080/"
        },
        "id": "f2FUmSC20nLm",
        "outputId": "c77a5a6d-0b0e-4e27-f0d4-01cf25d67869"
      },
      "outputs": [
        {
          "data": {
            "text/plain": [
              "array([[42,  0,  0],\n",
              "       [ 0, 38,  1],\n",
              "       [ 0,  1, 38]])"
            ]
          },
          "execution_count": 43,
          "metadata": {},
          "output_type": "execute_result"
        }
      ],
      "source": [
        "multiply_matrix(one_hot_to_label_encoding(y_train),one_hot_to_label_encoding(y_pred_train))"
      ]
    },
    {
      "cell_type": "markdown",
      "metadata": {
        "id": "mrODuG7o269g"
      },
      "source": [
        "#### **Pregunta 4.3**\n",
        "\n",
        "Usando la matriz de confusión calcule y muestre, para cada una de las clases, las siguientes métricas: exactitud, precision, sensibilidad, especificidad y F1. Interprete el resultado obtenido para cada una de las métricas. Calcule la exactitud para el desempeño general del clasificador."
      ]
    },
    {
      "cell_type": "code",
      "execution_count": null,
      "metadata": {
        "colab": {
          "base_uri": "https://localhost:8080/"
        },
        "id": "w17IWfaA269g",
        "outputId": "50c0b0ff-9007-44c0-cb58-ea2c78799683"
      },
      "outputs": [
        {
          "name": "stdout",
          "output_type": "stream",
          "text": [
            "[[42  0  0]\n",
            " [ 0 38  1]\n",
            " [ 0  1 38]]\n",
            "0.9833333333333333\n",
            "[1.         0.97435897 0.97435897]\n",
            "[1.         0.97435897 0.97435897]\n",
            "[1.         0.97435897 0.97435897]\n"
          ]
        }
      ],
      "source": [
        "#Respuesta 4.3\n",
        "from sklearn.metrics import f1_score\n",
        "from sklearn.metrics import accuracy_score\n",
        "from sklearn.metrics import recall_score\n",
        "from sklearn.metrics import precision_score\n",
        "\n",
        "y_true =one_hot_to_label_encoding(y_train)\n",
        "y_pred =one_hot_to_label_encoding(y_pred_train)\n",
        "print(confusion_matrix(y_true, y_pred))\n",
        "print(accuracy_score(y_true, y_pred))\n",
        "print(recall_score(y_true, y_pred, average=None))\n",
        "print(precision_score(y_true, y_pred, average=None))\n",
        "print(f1_score(y_true, y_pred, average=None))"
      ]
    },
    {
      "cell_type": "code",
      "execution_count": null,
      "metadata": {
        "colab": {
          "base_uri": "https://localhost:8080/"
        },
        "id": "M7ZRdYSalFOq",
        "outputId": "866e4f3b-6058-428d-b5ca-e654f86baf20",
        "scrolled": true
      },
      "outputs": [
        {
          "name": "stdout",
          "output_type": "stream",
          "text": [
            "                 precision    recall  f1-score   support\n",
            "\n",
            "    Iris-setosa       1.00      1.00      1.00        42\n",
            "Iris-versicolor       0.97      0.97      0.97        39\n",
            " Iris-virginica       0.97      0.97      0.97        39\n",
            "\n",
            "       accuracy                           0.98       120\n",
            "      macro avg       0.98      0.98      0.98       120\n",
            "   weighted avg       0.98      0.98      0.98       120\n",
            "\n"
          ]
        }
      ],
      "source": [
        "#Ahora vamos a generar un reporte de scikit-learn que contiene algunas de las métricas de desempeño más comunes. \n",
        "print(metrics.classification_report(one_hot_to_label_encoding(y_train),\n",
        "                                    one_hot_to_label_encoding(y_pred_train),\n",
        "                                    target_names = nombres_de_las_variables_de_salida))\n"
      ]
    },
    {
      "cell_type": "markdown",
      "metadata": {
        "id": "Ghg17vlp269h"
      },
      "source": [
        "#### **Pregunta 4.4**\n",
        "\n",
        "Compare los resultados obtenidos al calcular las métricas manualmente y usando la función de sklearn."
      ]
    },
    {
      "cell_type": "markdown",
      "metadata": {
        "id": "GgKSrY0ac_oG"
      },
      "source": [
        "# **EJERCICIOS PROPUESTOS TALLER 3.**"
      ]
    },
    {
      "cell_type": "markdown",
      "metadata": {
        "id": "FpZD8KQS269h"
      },
      "source": [
        "## **Ejercicio 1.**\n",
        "\n",
        "Para el conjunto de datos iris, ¿cuál sería la exactitud (accuracy) de línea base (baseline)?"
      ]
    },
    {
      "cell_type": "code",
      "execution_count": null,
      "metadata": {
        "colab": {
          "base_uri": "https://localhost:8080/"
        },
        "id": "KOzq2xWYJxGI",
        "outputId": "0f83bd03-a5d8-446c-8540-069efb46c4c0"
      },
      "outputs": [
        {
          "name": "stdout",
          "output_type": "stream",
          "text": [
            "0.9833333333333333\n"
          ]
        }
      ],
      "source": [
        "print(accuracy_score(y_true, y_pred))"
      ]
    },
    {
      "cell_type": "markdown",
      "metadata": {
        "id": "mMWFlLst269h"
      },
      "source": [
        "## **Ejercicio 2.**\n",
        "\n",
        "Para la función metrics.classification_report consulte qué representan los valores entregados."
      ]
    },
    {
      "cell_type": "markdown",
      "metadata": {
        "id": "KnVcGNodKt9w"
      },
      "source": [
        "Repuesta: Construir un informe de texto que muestre las principales métricas de clasificación."
      ]
    },
    {
      "cell_type": "code",
      "execution_count": null,
      "metadata": {
        "colab": {
          "base_uri": "https://localhost:8080/"
        },
        "id": "8Sv3H91xKvzH",
        "outputId": "75646f48-c4f9-4772-a0e5-6925a7d943d7"
      },
      "outputs": [
        {
          "name": "stdout",
          "output_type": "stream",
          "text": [
            "                 precision    recall  f1-score   support\n",
            "\n",
            "    Iris-setosa       1.00      1.00      1.00        42\n",
            "Iris-versicolor       0.97      0.97      0.97        39\n",
            " Iris-virginica       0.97      0.97      0.97        39\n",
            "\n",
            "       accuracy                           0.98       120\n",
            "      macro avg       0.98      0.98      0.98       120\n",
            "   weighted avg       0.98      0.98      0.98       120\n",
            "\n"
          ]
        }
      ],
      "source": [
        "print(metrics.classification_report(one_hot_to_label_encoding(y_train),\n",
        "                                    one_hot_to_label_encoding(y_pred_train),\n",
        "                                    target_names = nombres_de_las_variables_de_salida))"
      ]
    },
    {
      "cell_type": "markdown",
      "metadata": {
        "id": "awQyP_hV269h"
      },
      "source": [
        "## **Ejercicio 3.**\n",
        "\n",
        "Normalice los atributos, entrene un modelo con los atributos normalizados, pruebe este modelo tanto con los datos de entrenamiento y prueba, obtenga las métricas de desempeño por clase (matriz de confusión, exactitud, precisión, sensibilidad, especificidad y F1), obtenga la exactitud general y compare con los resultados obtenidos mediante el clasificador entrenado en la sesión de Taller."
      ]
    },
    {
      "cell_type": "markdown",
      "metadata": {
        "id": "NKYrHHwbDGJH"
      },
      "source": [
        "* Normalizar\n",
        "Un método incorporado llamado MinMaxScaler() está disponible en el módulo de preprocesamiento del paquete sklearn. "
      ]
    },
    {
      "cell_type": "code",
      "execution_count": null,
      "metadata": {
        "colab": {
          "base_uri": "https://localhost:8080/"
        },
        "id": "FKEmSi7uDjL9",
        "outputId": "44d6381d-5dfd-4de2-bc45-8e1964cb0077"
      },
      "outputs": [
        {
          "name": "stdout",
          "output_type": "stream",
          "text": [
            "Normalized List of training: [[0.22222222 0.58333333 0.08474576 0.04166667]\n",
            " [0.33333333 0.125      0.50847458 0.5       ]\n",
            " [0.38888889 0.25       0.42372881 0.375     ]\n",
            " [0.30555556 0.70833333 0.08474576 0.04166667]\n",
            " [0.75       0.5        0.62711864 0.54166667]\n",
            " [0.19444444 0.54166667 0.06779661 0.04166667]\n",
            " [0.19444444 0.625      0.10169492 0.20833333]\n",
            " [0.94444444 0.41666667 0.86440678 0.91666667]\n",
            " [0.19444444 0.625      0.05084746 0.08333333]\n",
            " [0.58333333 0.5        0.72881356 0.91666667]\n",
            " [0.41666667 0.29166667 0.69491525 0.75      ]\n",
            " [0.36111111 0.20833333 0.49152542 0.41666667]\n",
            " [0.22222222 0.625      0.06779661 0.08333333]\n",
            " [0.22222222 0.75       0.10169492 0.04166667]\n",
            " [0.61111111 0.33333333 0.61016949 0.58333333]\n",
            " [0.52777778 0.33333333 0.6440678  0.70833333]\n",
            " [0.44444444 0.41666667 0.54237288 0.58333333]\n",
            " [0.66666667 0.54166667 0.79661017 0.83333333]\n",
            " [0.94444444 0.75       0.96610169 0.875     ]\n",
            " [0.30555556 0.58333333 0.11864407 0.04166667]\n",
            " [0.55555556 0.20833333 0.6779661  0.75      ]\n",
            " [0.19444444 0.5        0.03389831 0.04166667]\n",
            " [0.08333333 0.58333333 0.06779661 0.08333333]\n",
            " [0.38888889 1.         0.08474576 0.125     ]\n",
            " [0.25       0.58333333 0.06779661 0.04166667]\n",
            " [0.52777778 0.375      0.55932203 0.5       ]\n",
            " [0.55555556 0.54166667 0.62711864 0.625     ]\n",
            " [0.33333333 0.16666667 0.45762712 0.375     ]\n",
            " [0.22222222 0.20833333 0.33898305 0.41666667]\n",
            " [0.44444444 0.41666667 0.69491525 0.70833333]\n",
            " [0.19444444 0.         0.42372881 0.375     ]\n",
            " [0.61111111 0.41666667 0.71186441 0.79166667]\n",
            " [0.61111111 0.41666667 0.81355932 0.875     ]\n",
            " [0.72222222 0.45833333 0.66101695 0.58333333]\n",
            " [0.08333333 0.66666667 0.         0.04166667]\n",
            " [0.63888889 0.41666667 0.57627119 0.54166667]\n",
            " [0.16666667 0.45833333 0.08474576 0.        ]\n",
            " [0.66666667 0.41666667 0.6779661  0.66666667]\n",
            " [0.66666667 0.41666667 0.71186441 0.91666667]\n",
            " [0.36111111 0.375      0.44067797 0.5       ]\n",
            " [0.55555556 0.58333333 0.77966102 0.95833333]\n",
            " [0.36111111 0.29166667 0.54237288 0.5       ]\n",
            " [0.5        0.41666667 0.66101695 0.70833333]\n",
            " [0.55555556 0.125      0.57627119 0.5       ]\n",
            " [0.41666667 0.25       0.50847458 0.45833333]\n",
            " [0.38888889 0.41666667 0.54237288 0.45833333]\n",
            " [0.72222222 0.45833333 0.74576271 0.83333333]\n",
            " [0.69444444 0.33333333 0.6440678  0.54166667]\n",
            " [0.25       0.875      0.08474576 0.        ]\n",
            " [0.41666667 0.29166667 0.69491525 0.75      ]\n",
            " [0.         0.41666667 0.01694915 0.        ]\n",
            " [0.13888889 0.58333333 0.15254237 0.04166667]\n",
            " [0.25       0.29166667 0.49152542 0.54166667]\n",
            " [0.13888889 0.41666667 0.06779661 0.08333333]\n",
            " [0.16666667 0.45833333 0.08474576 0.        ]\n",
            " [1.         0.75       0.91525424 0.79166667]\n",
            " [0.19444444 0.125      0.38983051 0.375     ]\n",
            " [0.08333333 0.5        0.06779661 0.04166667]\n",
            " [0.61111111 0.41666667 0.76271186 0.70833333]\n",
            " [0.16666667 0.45833333 0.08474576 0.        ]\n",
            " [0.47222222 0.08333333 0.6779661  0.58333333]\n",
            " [0.33333333 0.25       0.57627119 0.45833333]\n",
            " [0.41666667 0.83333333 0.03389831 0.04166667]\n",
            " [0.30555556 0.79166667 0.05084746 0.125     ]\n",
            " [0.58333333 0.29166667 0.72881356 0.75      ]\n",
            " [0.47222222 0.58333333 0.59322034 0.625     ]\n",
            " [0.33333333 0.20833333 0.50847458 0.5       ]\n",
            " [0.33333333 0.91666667 0.06779661 0.04166667]\n",
            " [0.11111111 0.5        0.10169492 0.04166667]\n",
            " [0.72222222 0.5        0.79661017 0.91666667]\n",
            " [0.47222222 0.375      0.59322034 0.58333333]\n",
            " [0.5        0.41666667 0.61016949 0.54166667]\n",
            " [0.08333333 0.45833333 0.08474576 0.04166667]\n",
            " [0.38888889 0.33333333 0.59322034 0.5       ]\n",
            " [0.47222222 0.41666667 0.6440678  0.70833333]\n",
            " [0.41666667 0.29166667 0.52542373 0.375     ]\n",
            " [0.13888889 0.58333333 0.10169492 0.04166667]\n",
            " [0.47222222 0.08333333 0.50847458 0.375     ]\n",
            " [0.58333333 0.45833333 0.76271186 0.70833333]\n",
            " [0.66666667 0.20833333 0.81355932 0.70833333]\n",
            " [0.55555556 0.54166667 0.84745763 1.        ]\n",
            " [0.69444444 0.5        0.83050847 0.91666667]\n",
            " [0.38888889 0.75       0.11864407 0.08333333]\n",
            " [0.22222222 0.75       0.08474576 0.08333333]\n",
            " [0.47222222 0.29166667 0.69491525 0.625     ]\n",
            " [0.94444444 0.33333333 0.96610169 0.79166667]\n",
            " [0.02777778 0.41666667 0.05084746 0.04166667]\n",
            " [0.52777778 0.08333333 0.59322034 0.58333333]\n",
            " [0.11111111 0.5        0.05084746 0.04166667]\n",
            " [0.30555556 0.58333333 0.08474576 0.125     ]\n",
            " [0.66666667 0.45833333 0.77966102 0.95833333]\n",
            " [0.58333333 0.5        0.59322034 0.58333333]\n",
            " [0.91666667 0.41666667 0.94915254 0.83333333]\n",
            " [0.33333333 0.625      0.05084746 0.04166667]\n",
            " [0.61111111 0.5        0.69491525 0.79166667]\n",
            " [0.19444444 0.66666667 0.06779661 0.04166667]\n",
            " [0.72222222 0.45833333 0.69491525 0.91666667]\n",
            " [0.22222222 0.625      0.06779661 0.04166667]\n",
            " [0.63888889 0.375      0.61016949 0.5       ]\n",
            " [0.30555556 0.79166667 0.11864407 0.125     ]\n",
            " [0.55555556 0.375      0.77966102 0.70833333]\n",
            " [0.80555556 0.41666667 0.81355932 0.625     ]\n",
            " [0.05555556 0.125      0.05084746 0.08333333]\n",
            " [0.16666667 0.20833333 0.59322034 0.66666667]\n",
            " [0.36111111 0.33333333 0.66101695 0.79166667]\n",
            " [0.80555556 0.5        0.84745763 0.70833333]\n",
            " [0.66666667 0.45833333 0.62711864 0.58333333]\n",
            " [0.13888889 0.45833333 0.10169492 0.04166667]\n",
            " [0.66666667 0.45833333 0.57627119 0.54166667]\n",
            " [0.22222222 0.75       0.15254237 0.125     ]\n",
            " [0.25       0.625      0.08474576 0.04166667]\n",
            " [0.33333333 0.16666667 0.47457627 0.41666667]\n",
            " [0.38888889 0.20833333 0.6779661  0.79166667]\n",
            " [0.19444444 0.58333333 0.08474576 0.04166667]\n",
            " [0.69444444 0.41666667 0.76271186 0.83333333]\n",
            " [0.02777778 0.375      0.06779661 0.04166667]\n",
            " [0.5        0.33333333 0.62711864 0.45833333]\n",
            " [0.66666667 0.54166667 0.79661017 1.        ]\n",
            " [0.94444444 0.25       1.         0.91666667]\n",
            " [0.38888889 0.33333333 0.52542373 0.5       ]]\n",
            "Normalized List of test: [[0.46666667 0.23076923 0.52       0.45833333]\n",
            " [0.56666667 0.15384615 0.86       0.54166667]\n",
            " [0.46666667 0.30769231 0.76       0.95833333]\n",
            " [0.         0.61538462 0.         0.04166667]\n",
            " [0.93333333 0.92307692 0.96       1.        ]\n",
            " [0.16666667 0.         0.4        0.375     ]\n",
            " [0.16666667 0.46153846 0.02       0.04166667]\n",
            " [0.5        0.61538462 0.7        0.70833333]\n",
            " [0.2        0.46153846 0.06       0.04166667]\n",
            " [0.33333333 0.46153846 0.64       0.58333333]\n",
            " [0.4        0.46153846 0.64       0.58333333]\n",
            " [0.63333333 0.30769231 0.76       0.58333333]\n",
            " [0.9        0.46153846 0.92       0.83333333]\n",
            " [0.96666667 0.38461538 1.         0.70833333]\n",
            " [0.2        0.76923077 0.06       0.125     ]\n",
            " [0.23333333 0.69230769 0.08       0.16666667]\n",
            " [0.63333333 0.23076923 0.72       0.70833333]\n",
            " [1.         0.30769231 0.96       0.75      ]\n",
            " [0.23333333 1.         0.04       0.125     ]\n",
            " [0.13333333 0.46153846 0.02       0.        ]\n",
            " [0.56666667 0.30769231 0.54       0.5       ]\n",
            " [0.66666667 0.30769231 0.86       0.83333333]\n",
            " [0.3        1.         0.04       0.04166667]\n",
            " [0.63333333 0.07692308 0.72       0.58333333]\n",
            " [0.4        0.46153846 0.56       0.5       ]\n",
            " [0.6        0.76923077 0.82       0.91666667]\n",
            " [0.66666667 0.38461538 0.6        0.5       ]\n",
            " [0.43333333 0.38461538 0.58       0.5       ]\n",
            " [0.56666667 0.38461538 0.68       0.54166667]\n",
            " [0.66666667 0.30769231 0.86       0.875     ]]\n"
          ]
        }
      ],
      "source": [
        "from sklearn import preprocessing\n",
        "\n",
        "scaler = preprocessing.MinMaxScaler()\n",
        "normalizedlisttrain = scaler.fit_transform(df_x_train)\n",
        "normalizedlisttest = scaler.fit_transform(df_x_test)\n",
        "\n",
        "print('Normalized List of training:',normalizedlisttrain)\n",
        "print('Normalized List of test:',normalizedlisttest)"
      ]
    },
    {
      "cell_type": "markdown",
      "metadata": {
        "id": "AVQaYgyB269i"
      },
      "source": [
        "## **Ejercicio 4:**\n",
        "\n",
        "Entrene y evalúe clasificadores KNN usando los atributos no normalizados para valores de K={1,3,7,9,11,13,15}. De acuerdo con los resultados obtenidos, ¿qué valor de K recomendaría?. Tenga en cuenta evaluar tanto con los datos de entrenamiento como de prueba."
      ]
    },
    {
      "cell_type": "code",
      "execution_count": null,
      "metadata": {
        "colab": {
          "base_uri": "https://localhost:8080/"
        },
        "id": "CSlf0bRdjASV",
        "outputId": "dc195fe5-bb53-406a-af4d-4392899d7b03"
      },
      "outputs": [
        {
          "name": "stdout",
          "output_type": "stream",
          "text": [
            "[[42  0  0]\n",
            " [ 0 38  1]\n",
            " [ 0  1 38]]\n",
            "0.9833333333333333\n",
            "[1.         0.97435897 0.97435897]\n",
            "[1.         0.97435897 0.97435897]\n",
            "[1.         0.97435897 0.97435897]\n"
          ]
        }
      ],
      "source": [
        "k = 2  #Número de vecinos cercanos.\n",
        "knn = neighbors.KNeighborsClassifier(n_neighbors=k) #Instanciamos el clasificador KNN.\n",
        "knn.fit(df_x_train, df_y_train)                #Ajustamos el clasificador.\n",
        "\n",
        "y_train = df_y_train.values\n",
        "y_true =one_hot_to_label_encoding(y_train)\n",
        "y_pred =one_hot_to_label_encoding(y_pred_train)\n",
        "print(confusion_matrix(y_true, y_pred))\n",
        "print(accuracy_score(y_true, y_pred))\n",
        "print(recall_score(y_true, y_pred, average=None))\n",
        "print(precision_score(y_true, y_pred, average=None))\n",
        "print(f1_score(y_true, y_pred, average=None))"
      ]
    },
    {
      "cell_type": "code",
      "execution_count": null,
      "metadata": {
        "id": "FFt76_9D0qJh"
      },
      "outputs": [],
      "source": [
        "def TrainAndPredictValues(K=5, x_test=df_x_test, y_test=df_y_test, x_train=df_x_train, y_train=df_y_train):\n",
        "    k   = K  #Número de vecinos cercanos.\n",
        "    knn = neighbors.KNeighborsClassifier(n_neighbors=k) #Instanciamos el clasificador KNN.\n",
        "    knn.fit(x_train, y_train)\n",
        "    \n",
        "    # Predicciones\n",
        "    y_pred_train = knn.predict(x_train)\n",
        "    y_pred_test = knn.predict(x_test)\n",
        "    \n",
        "    print(\"Training set\")\n",
        "    print(metrics.classification_report(one_hot_to_label_encoding(y_train.values),\n",
        "                                    one_hot_to_label_encoding(y_pred_train),\n",
        "                                    target_names = nombres_de_las_variables_de_salida))\n",
        "    \n",
        "    print(\"Test set\")\n",
        "    print(metrics.classification_report(one_hot_to_label_encoding(y_test.values),\n",
        "                                    one_hot_to_label_encoding(y_pred_test),\n",
        "                                    target_names = nombres_de_las_variables_de_salida))"
      ]
    },
    {
      "cell_type": "code",
      "execution_count": null,
      "metadata": {
        "colab": {
          "base_uri": "https://localhost:8080/"
        },
        "id": "inbvHVrBbN0G",
        "outputId": "a52f1301-760c-4fe0-d30a-83b68156a381"
      },
      "outputs": [
        {
          "name": "stdout",
          "output_type": "stream",
          "text": [
            "Training set\n",
            "                 precision    recall  f1-score   support\n",
            "\n",
            "    Iris-setosa       1.00      1.00      1.00        42\n",
            "Iris-versicolor       1.00      1.00      1.00        39\n",
            " Iris-virginica       1.00      1.00      1.00        39\n",
            "\n",
            "       accuracy                           1.00       120\n",
            "      macro avg       1.00      1.00      1.00       120\n",
            "   weighted avg       1.00      1.00      1.00       120\n",
            "\n",
            "Test set\n",
            "                 precision    recall  f1-score   support\n",
            "\n",
            "    Iris-setosa       1.00      1.00      1.00         8\n",
            "Iris-versicolor       0.90      0.82      0.86        11\n",
            " Iris-virginica       0.83      0.91      0.87        11\n",
            "\n",
            "       accuracy                           0.90        30\n",
            "      macro avg       0.91      0.91      0.91        30\n",
            "   weighted avg       0.90      0.90      0.90        30\n",
            "\n"
          ]
        }
      ],
      "source": [
        "TrainAndPredictValues(K=1)"
      ]
    },
    {
      "cell_type": "code",
      "execution_count": null,
      "metadata": {
        "colab": {
          "base_uri": "https://localhost:8080/"
        },
        "id": "98suMA4wbWVM",
        "outputId": "d3dc3b15-b321-45ba-9e15-f81ed4484e87"
      },
      "outputs": [
        {
          "name": "stdout",
          "output_type": "stream",
          "text": [
            "Training set\n",
            "                 precision    recall  f1-score   support\n",
            "\n",
            "    Iris-setosa       1.00      1.00      1.00        42\n",
            "Iris-versicolor       0.95      0.97      0.96        39\n",
            " Iris-virginica       0.97      0.95      0.96        39\n",
            "\n",
            "       accuracy                           0.97       120\n",
            "      macro avg       0.97      0.97      0.97       120\n",
            "   weighted avg       0.98      0.97      0.97       120\n",
            "\n",
            "Test set\n",
            "                 precision    recall  f1-score   support\n",
            "\n",
            "    Iris-setosa       1.00      1.00      1.00         8\n",
            "Iris-versicolor       1.00      0.82      0.90        11\n",
            " Iris-virginica       0.85      1.00      0.92        11\n",
            "\n",
            "       accuracy                           0.93        30\n",
            "      macro avg       0.95      0.94      0.94        30\n",
            "   weighted avg       0.94      0.93      0.93        30\n",
            "\n"
          ]
        }
      ],
      "source": [
        "TrainAndPredictValues(K=3)"
      ]
    },
    {
      "cell_type": "code",
      "execution_count": null,
      "metadata": {
        "colab": {
          "base_uri": "https://localhost:8080/"
        },
        "id": "6iNYSLAZbYeb",
        "outputId": "dee378da-74d9-43ba-d3fc-de9e19283506"
      },
      "outputs": [
        {
          "name": "stdout",
          "output_type": "stream",
          "text": [
            "Training set\n",
            "                 precision    recall  f1-score   support\n",
            "\n",
            "    Iris-setosa       1.00      1.00      1.00        42\n",
            "Iris-versicolor       0.97      0.97      0.97        39\n",
            " Iris-virginica       0.97      0.97      0.97        39\n",
            "\n",
            "       accuracy                           0.98       120\n",
            "      macro avg       0.98      0.98      0.98       120\n",
            "   weighted avg       0.98      0.98      0.98       120\n",
            "\n",
            "Test set\n",
            "                 precision    recall  f1-score   support\n",
            "\n",
            "    Iris-setosa       1.00      1.00      1.00         8\n",
            "Iris-versicolor       1.00      0.91      0.95        11\n",
            " Iris-virginica       0.92      1.00      0.96        11\n",
            "\n",
            "       accuracy                           0.97        30\n",
            "      macro avg       0.97      0.97      0.97        30\n",
            "   weighted avg       0.97      0.97      0.97        30\n",
            "\n"
          ]
        }
      ],
      "source": [
        "TrainAndPredictValues(K=7)"
      ]
    },
    {
      "cell_type": "code",
      "execution_count": null,
      "metadata": {
        "colab": {
          "base_uri": "https://localhost:8080/"
        },
        "id": "xQUifGrEba_c",
        "outputId": "ff2907e4-3f4f-412b-97ad-e357d5268f86"
      },
      "outputs": [
        {
          "name": "stdout",
          "output_type": "stream",
          "text": [
            "Training set\n",
            "                 precision    recall  f1-score   support\n",
            "\n",
            "    Iris-setosa       1.00      1.00      1.00        42\n",
            "Iris-versicolor       0.97      0.97      0.97        39\n",
            " Iris-virginica       0.97      0.97      0.97        39\n",
            "\n",
            "       accuracy                           0.98       120\n",
            "      macro avg       0.98      0.98      0.98       120\n",
            "   weighted avg       0.98      0.98      0.98       120\n",
            "\n",
            "Test set\n",
            "                 precision    recall  f1-score   support\n",
            "\n",
            "    Iris-setosa       1.00      1.00      1.00         8\n",
            "Iris-versicolor       1.00      0.91      0.95        11\n",
            " Iris-virginica       0.92      1.00      0.96        11\n",
            "\n",
            "       accuracy                           0.97        30\n",
            "      macro avg       0.97      0.97      0.97        30\n",
            "   weighted avg       0.97      0.97      0.97        30\n",
            "\n"
          ]
        }
      ],
      "source": [
        "TrainAndPredictValues(K=9)"
      ]
    },
    {
      "cell_type": "code",
      "execution_count": null,
      "metadata": {
        "colab": {
          "base_uri": "https://localhost:8080/"
        },
        "id": "zVyLgrpsbdHk",
        "outputId": "f4d1cfff-df9e-4c68-fe2f-abd01a163f1e"
      },
      "outputs": [
        {
          "name": "stdout",
          "output_type": "stream",
          "text": [
            "Training set\n",
            "                 precision    recall  f1-score   support\n",
            "\n",
            "    Iris-setosa       1.00      1.00      1.00        42\n",
            "Iris-versicolor       0.97      0.97      0.97        39\n",
            " Iris-virginica       0.97      0.97      0.97        39\n",
            "\n",
            "       accuracy                           0.98       120\n",
            "      macro avg       0.98      0.98      0.98       120\n",
            "   weighted avg       0.98      0.98      0.98       120\n",
            "\n",
            "Test set\n",
            "                 precision    recall  f1-score   support\n",
            "\n",
            "    Iris-setosa       1.00      1.00      1.00         8\n",
            "Iris-versicolor       1.00      0.91      0.95        11\n",
            " Iris-virginica       0.92      1.00      0.96        11\n",
            "\n",
            "       accuracy                           0.97        30\n",
            "      macro avg       0.97      0.97      0.97        30\n",
            "   weighted avg       0.97      0.97      0.97        30\n",
            "\n"
          ]
        }
      ],
      "source": [
        "TrainAndPredictValues(K=11)"
      ]
    },
    {
      "cell_type": "code",
      "execution_count": null,
      "metadata": {
        "colab": {
          "base_uri": "https://localhost:8080/"
        },
        "id": "wzJq74rebfPP",
        "outputId": "183e0de1-646f-43eb-9491-00c14ec7bca5"
      },
      "outputs": [
        {
          "name": "stdout",
          "output_type": "stream",
          "text": [
            "Training set\n",
            "                 precision    recall  f1-score   support\n",
            "\n",
            "    Iris-setosa       1.00      1.00      1.00        42\n",
            "Iris-versicolor       0.97      0.97      0.97        39\n",
            " Iris-virginica       0.97      0.97      0.97        39\n",
            "\n",
            "       accuracy                           0.98       120\n",
            "      macro avg       0.98      0.98      0.98       120\n",
            "   weighted avg       0.98      0.98      0.98       120\n",
            "\n",
            "Test set\n",
            "                 precision    recall  f1-score   support\n",
            "\n",
            "    Iris-setosa       1.00      1.00      1.00         8\n",
            "Iris-versicolor       1.00      0.91      0.95        11\n",
            " Iris-virginica       0.92      1.00      0.96        11\n",
            "\n",
            "       accuracy                           0.97        30\n",
            "      macro avg       0.97      0.97      0.97        30\n",
            "   weighted avg       0.97      0.97      0.97        30\n",
            "\n"
          ]
        }
      ],
      "source": [
        "TrainAndPredictValues(K=13)"
      ]
    },
    {
      "cell_type": "code",
      "execution_count": null,
      "metadata": {
        "colab": {
          "base_uri": "https://localhost:8080/"
        },
        "id": "TiiOE1ELbhhn",
        "outputId": "341a67d4-d8ab-42f0-de91-ea3dac2bbc65"
      },
      "outputs": [
        {
          "name": "stdout",
          "output_type": "stream",
          "text": [
            "Training set\n",
            "                 precision    recall  f1-score   support\n",
            "\n",
            "    Iris-setosa       1.00      1.00      1.00        42\n",
            "Iris-versicolor       0.97      0.97      0.97        39\n",
            " Iris-virginica       0.97      0.97      0.97        39\n",
            "\n",
            "       accuracy                           0.98       120\n",
            "      macro avg       0.98      0.98      0.98       120\n",
            "   weighted avg       0.98      0.98      0.98       120\n",
            "\n",
            "Test set\n",
            "                 precision    recall  f1-score   support\n",
            "\n",
            "    Iris-setosa       1.00      1.00      1.00         8\n",
            "Iris-versicolor       1.00      0.91      0.95        11\n",
            " Iris-virginica       0.92      1.00      0.96        11\n",
            "\n",
            "       accuracy                           0.97        30\n",
            "      macro avg       0.97      0.97      0.97        30\n",
            "   weighted avg       0.97      0.97      0.97        30\n",
            "\n"
          ]
        }
      ],
      "source": [
        "TrainAndPredictValues(K=15)"
      ]
    },
    {
      "cell_type": "markdown",
      "metadata": {
        "id": "xy6MfFTG269i"
      },
      "source": [
        "## **Ejercicio 5:**\n",
        "\n",
        "Entrene y evalúe clasificadores KNN usando los atributos normalizados para valores de K={1,3,7,9,11,13,15}. De acuerdo con los resultados obtenidos, ¿qué valor de K recomendaría?. Compare los resultados obtenidos en este punto con los obtenidos en el Ejercicio 4. Tenga en cuenta evaluar tanto con los datos de entrenamiento como de prueba."
      ]
    },
    {
      "cell_type": "code",
      "execution_count": null,
      "metadata": {
        "colab": {
          "base_uri": "https://localhost:8080/"
        },
        "id": "0UR4jQ78X9J5",
        "outputId": "6d5c2e45-1228-4715-ed3a-ca2ba18d5302"
      },
      "outputs": [
        {
          "name": "stdout",
          "output_type": "stream",
          "text": [
            "Training set\n",
            "                 precision    recall  f1-score   support\n",
            "\n",
            "    Iris-setosa       1.00      1.00      1.00        42\n",
            "Iris-versicolor       1.00      1.00      1.00        39\n",
            " Iris-virginica       1.00      1.00      1.00        39\n",
            "\n",
            "       accuracy                           1.00       120\n",
            "      macro avg       1.00      1.00      1.00       120\n",
            "   weighted avg       1.00      1.00      1.00       120\n",
            "\n",
            "Test set\n",
            "                 precision    recall  f1-score   support\n",
            "\n",
            "    Iris-setosa       1.00      1.00      1.00         8\n",
            "Iris-versicolor       0.92      1.00      0.96        11\n",
            " Iris-virginica       1.00      0.91      0.95        11\n",
            "\n",
            "       accuracy                           0.97        30\n",
            "      macro avg       0.97      0.97      0.97        30\n",
            "   weighted avg       0.97      0.97      0.97        30\n",
            "\n"
          ]
        }
      ],
      "source": [
        "TrainAndPredictValues(K=1, x_train=normalizedlisttrain, x_test=normalizedlisttest)"
      ]
    },
    {
      "cell_type": "code",
      "execution_count": null,
      "metadata": {
        "colab": {
          "base_uri": "https://localhost:8080/"
        },
        "id": "dr_5DEFMZZkb",
        "outputId": "6a8f2493-139a-4884-c1a0-eb850e4a1303"
      },
      "outputs": [
        {
          "name": "stdout",
          "output_type": "stream",
          "text": [
            "Training set\n",
            "                 precision    recall  f1-score   support\n",
            "\n",
            "    Iris-setosa       1.00      1.00      1.00        42\n",
            "Iris-versicolor       0.95      0.97      0.96        39\n",
            " Iris-virginica       0.97      0.95      0.96        39\n",
            "\n",
            "       accuracy                           0.97       120\n",
            "      macro avg       0.97      0.97      0.97       120\n",
            "   weighted avg       0.98      0.97      0.97       120\n",
            "\n",
            "Test set\n",
            "                 precision    recall  f1-score   support\n",
            "\n",
            "    Iris-setosa       1.00      1.00      1.00         8\n",
            "Iris-versicolor       0.92      1.00      0.96        11\n",
            " Iris-virginica       1.00      0.91      0.95        11\n",
            "\n",
            "       accuracy                           0.97        30\n",
            "      macro avg       0.97      0.97      0.97        30\n",
            "   weighted avg       0.97      0.97      0.97        30\n",
            "\n"
          ]
        }
      ],
      "source": [
        "TrainAndPredictValues(K=3, x_train=normalizedlisttrain, x_test=normalizedlisttest)"
      ]
    },
    {
      "cell_type": "code",
      "execution_count": null,
      "metadata": {
        "colab": {
          "base_uri": "https://localhost:8080/"
        },
        "id": "A8YLMcTWcx65",
        "outputId": "1afed84d-d541-4907-b2bc-52388faaf5f2"
      },
      "outputs": [
        {
          "name": "stdout",
          "output_type": "stream",
          "text": [
            "Training set\n",
            "                 precision    recall  f1-score   support\n",
            "\n",
            "    Iris-setosa       1.00      1.00      1.00        42\n",
            "Iris-versicolor       0.93      0.97      0.95        39\n",
            " Iris-virginica       0.97      0.92      0.95        39\n",
            "\n",
            "       accuracy                           0.97       120\n",
            "      macro avg       0.97      0.97      0.97       120\n",
            "   weighted avg       0.97      0.97      0.97       120\n",
            "\n",
            "Test set\n",
            "                 precision    recall  f1-score   support\n",
            "\n",
            "    Iris-setosa       1.00      1.00      1.00         8\n",
            "Iris-versicolor       1.00      0.82      0.90        11\n",
            " Iris-virginica       0.85      1.00      0.92        11\n",
            "\n",
            "       accuracy                           0.93        30\n",
            "      macro avg       0.95      0.94      0.94        30\n",
            "   weighted avg       0.94      0.93      0.93        30\n",
            "\n"
          ]
        }
      ],
      "source": [
        "TrainAndPredictValues(K=7, x_train=normalizedlisttrain, x_test=normalizedlisttest)"
      ]
    },
    {
      "cell_type": "code",
      "execution_count": null,
      "metadata": {
        "colab": {
          "base_uri": "https://localhost:8080/"
        },
        "id": "Ba3FK4h5c0dY",
        "outputId": "a69a3548-fceb-4958-8485-68ee35c3d844"
      },
      "outputs": [
        {
          "name": "stdout",
          "output_type": "stream",
          "text": [
            "Training set\n",
            "                 precision    recall  f1-score   support\n",
            "\n",
            "    Iris-setosa       1.00      1.00      1.00        42\n",
            "Iris-versicolor       0.93      0.97      0.95        39\n",
            " Iris-virginica       0.97      0.92      0.95        39\n",
            "\n",
            "       accuracy                           0.97       120\n",
            "      macro avg       0.97      0.97      0.97       120\n",
            "   weighted avg       0.97      0.97      0.97       120\n",
            "\n",
            "Test set\n",
            "                 precision    recall  f1-score   support\n",
            "\n",
            "    Iris-setosa       1.00      1.00      1.00         8\n",
            "Iris-versicolor       0.91      0.91      0.91        11\n",
            " Iris-virginica       0.91      0.91      0.91        11\n",
            "\n",
            "       accuracy                           0.93        30\n",
            "      macro avg       0.94      0.94      0.94        30\n",
            "   weighted avg       0.93      0.93      0.93        30\n",
            "\n"
          ]
        }
      ],
      "source": [
        "TrainAndPredictValues(K=9, x_train=normalizedlisttrain, x_test=normalizedlisttest)"
      ]
    },
    {
      "cell_type": "code",
      "execution_count": null,
      "metadata": {
        "colab": {
          "base_uri": "https://localhost:8080/"
        },
        "id": "61BdJUf7c3L3",
        "outputId": "39e9edfc-b2a7-4c04-dde1-833761af18e0"
      },
      "outputs": [
        {
          "name": "stdout",
          "output_type": "stream",
          "text": [
            "Training set\n",
            "                 precision    recall  f1-score   support\n",
            "\n",
            "    Iris-setosa       1.00      1.00      1.00        42\n",
            "Iris-versicolor       0.95      0.97      0.96        39\n",
            " Iris-virginica       0.97      0.95      0.96        39\n",
            "\n",
            "       accuracy                           0.97       120\n",
            "      macro avg       0.97      0.97      0.97       120\n",
            "   weighted avg       0.98      0.97      0.97       120\n",
            "\n",
            "Test set\n",
            "                 precision    recall  f1-score   support\n",
            "\n",
            "    Iris-setosa       1.00      1.00      1.00         8\n",
            "Iris-versicolor       0.83      0.91      0.87        11\n",
            " Iris-virginica       0.90      0.82      0.86        11\n",
            "\n",
            "       accuracy                           0.90        30\n",
            "      macro avg       0.91      0.91      0.91        30\n",
            "   weighted avg       0.90      0.90      0.90        30\n",
            "\n"
          ]
        }
      ],
      "source": [
        "TrainAndPredictValues(K=11, x_train=normalizedlisttrain, x_test=normalizedlisttest)"
      ]
    },
    {
      "cell_type": "code",
      "execution_count": null,
      "metadata": {
        "colab": {
          "base_uri": "https://localhost:8080/"
        },
        "id": "OFsDcYNSc5n3",
        "outputId": "708aa607-eb28-43c7-fb82-6bf1287d7476"
      },
      "outputs": [
        {
          "name": "stdout",
          "output_type": "stream",
          "text": [
            "Training set\n",
            "                 precision    recall  f1-score   support\n",
            "\n",
            "    Iris-setosa       1.00      1.00      1.00        42\n",
            "Iris-versicolor       0.95      0.97      0.96        39\n",
            " Iris-virginica       0.97      0.95      0.96        39\n",
            "\n",
            "       accuracy                           0.97       120\n",
            "      macro avg       0.97      0.97      0.97       120\n",
            "   weighted avg       0.98      0.97      0.97       120\n",
            "\n",
            "Test set\n",
            "                 precision    recall  f1-score   support\n",
            "\n",
            "    Iris-setosa       1.00      1.00      1.00         8\n",
            "Iris-versicolor       0.91      0.91      0.91        11\n",
            " Iris-virginica       0.91      0.91      0.91        11\n",
            "\n",
            "       accuracy                           0.93        30\n",
            "      macro avg       0.94      0.94      0.94        30\n",
            "   weighted avg       0.93      0.93      0.93        30\n",
            "\n"
          ]
        }
      ],
      "source": [
        "TrainAndPredictValues(K=13, x_train=normalizedlisttrain, x_test=normalizedlisttest)"
      ]
    },
    {
      "cell_type": "code",
      "execution_count": null,
      "metadata": {
        "colab": {
          "base_uri": "https://localhost:8080/"
        },
        "id": "JWC7qkDlc8Fp",
        "outputId": "010cb478-0272-47e1-82b2-bc2ddd4f48c1"
      },
      "outputs": [
        {
          "name": "stdout",
          "output_type": "stream",
          "text": [
            "Training set\n",
            "                 precision    recall  f1-score   support\n",
            "\n",
            "    Iris-setosa       1.00      1.00      1.00        42\n",
            "Iris-versicolor       0.95      0.97      0.96        39\n",
            " Iris-virginica       0.97      0.95      0.96        39\n",
            "\n",
            "       accuracy                           0.97       120\n",
            "      macro avg       0.97      0.97      0.97       120\n",
            "   weighted avg       0.98      0.97      0.97       120\n",
            "\n",
            "Test set\n",
            "                 precision    recall  f1-score   support\n",
            "\n",
            "    Iris-setosa       1.00      1.00      1.00         8\n",
            "Iris-versicolor       0.91      0.91      0.91        11\n",
            " Iris-virginica       0.91      0.91      0.91        11\n",
            "\n",
            "       accuracy                           0.93        30\n",
            "      macro avg       0.94      0.94      0.94        30\n",
            "   weighted avg       0.93      0.93      0.93        30\n",
            "\n"
          ]
        }
      ],
      "source": [
        "TrainAndPredictValues(K=15, x_train=normalizedlisttrain, x_test=normalizedlisttest)"
      ]
    },
    {
      "cell_type": "markdown",
      "metadata": {
        "id": "qOvw2oprc-a5"
      },
      "source": [
        "La metrica F1Score al evaluarla da el tener una mayor cantidad de neighbors, por eso tomamos el valor 3."
      ]
    },
    {
      "cell_type": "markdown",
      "metadata": {
        "id": "yJB4gyQg269i"
      },
      "source": [
        "## **Ejercicio 6.**\n",
        "\n",
        "Encuentre un modelo de clasificación KNN que utilice solo tres atributos y cuyo desempeño sea igual o mejor que el modelo que usa cuatro atributos. Decida si es conveniente normalizar o no los atributos. Utilice diferentes valores de K. Para comparar varios modelos genere diferentes métricas de desempeño.\n",
        "Al final indique, ¿por qué escogió esos atributos?, de los modelos entrenados ¿cuál escogería y por qué? ¿qué métricas de desempeño reportaría a un cliente y por qué?"
      ]
    },
    {
      "cell_type": "code",
      "execution_count": null,
      "metadata": {
        "colab": {
          "base_uri": "https://localhost:8080/",
          "height": 366
        },
        "id": "ti9XuLcTdYL2",
        "outputId": "c019bdfb-49c4-406d-da57-7ab8666e1f63"
      },
      "outputs": [
        {
          "data": {
            "text/plain": [
              "<matplotlib.axes._subplots.AxesSubplot at 0x7ff9eabcb890>"
            ]
          },
          "execution_count": 69,
          "metadata": {},
          "output_type": "execute_result"
        },
        {
          "data": {
            "image/png": "[encoded data removed]",
            "text/plain": [
              "<Figure size 432x288 with 2 Axes>"
            ]
          },
          "metadata": {},
          "output_type": "display_data"
        }
      ],
      "source": [
        "corr_map = df_x_train.corr()\n",
        "sns.heatmap(corr_map, annot=True)"
      ]
    },
    {
      "cell_type": "code",
      "execution_count": null,
      "metadata": {
        "colab": {
          "base_uri": "https://localhost:8080/",
          "height": 204
        },
        "id": "VMrQLFOQdbc-",
        "outputId": "83728ee8-80f2-45a2-b518-4c83e1c37836"
      },
      "outputs": [
        {
          "data": {
            "text/html": [
              "\n",
              "  <div id=\"df-a78acd4d-a7f4-47d2-8eba-3564b45fd731\">\n",
              "    <div class=\"colab-df-container\">\n",
              "      <div>\n",
              "<style scoped>\n",
              "    .dataframe tbody tr th:only-of-type {\n",
              "        vertical-align: middle;\n",
              "    }\n",
              "\n",
              "    .dataframe tbody tr th {\n",
              "        vertical-align: top;\n",
              "    }\n",
              "\n",
              "    .dataframe thead th {\n",
              "        text-align: right;\n",
              "    }\n",
              "</style>\n",
              "<table border=\"1\" class=\"dataframe\">\n",
              "  <thead>\n",
              "    <tr style=\"text-align: right;\">\n",
              "      <th></th>\n",
              "      <th>SepalWidthCm</th>\n",
              "      <th>PetalLengthCm</th>\n",
              "      <th>PetalWidthCm</th>\n",
              "    </tr>\n",
              "  </thead>\n",
              "  <tbody>\n",
              "    <tr>\n",
              "      <th>39</th>\n",
              "      <td>3.4</td>\n",
              "      <td>1.5</td>\n",
              "      <td>0.2</td>\n",
              "    </tr>\n",
              "    <tr>\n",
              "      <th>53</th>\n",
              "      <td>2.3</td>\n",
              "      <td>4.0</td>\n",
              "      <td>1.3</td>\n",
              "    </tr>\n",
              "    <tr>\n",
              "      <th>79</th>\n",
              "      <td>2.6</td>\n",
              "      <td>3.5</td>\n",
              "      <td>1.0</td>\n",
              "    </tr>\n",
              "    <tr>\n",
              "      <th>10</th>\n",
              "      <td>3.7</td>\n",
              "      <td>1.5</td>\n",
              "      <td>0.2</td>\n",
              "    </tr>\n",
              "    <tr>\n",
              "      <th>50</th>\n",
              "      <td>3.2</td>\n",
              "      <td>4.7</td>\n",
              "      <td>1.4</td>\n",
              "    </tr>\n",
              "  </tbody>\n",
              "</table>\n",
              "</div>\n",
              "      <button class=\"colab-df-convert\" onclick=\"convertToInteractive('df-a78acd4d-a7f4-47d2-8eba-3564b45fd731')\"\n",
              "              title=\"Convert this dataframe to an interactive table.\"\n",
              "              style=\"display:none;\">\n",
              "        \n",
              "  <svg xmlns=\"http://www.w3.org/2000/svg\" height=\"24px\"viewBox=\"0 0 24 24\"\n",
              "       width=\"24px\">\n",
              "    <path d=\"M0 0h24v24H0V0z\" fill=\"none\"/>\n",
              "    <path d=\"M18.56 5.44l.94 2.06.94-2.06 2.06-.94-2.06-.94-.94-2.06-.94 2.06-2.06.94zm-11 1L8.5 8.5l.94-2.06 2.06-.94-2.06-.94L8.5 2.5l-.94 2.06-2.06.94zm10 10l.94 2.06.94-2.06 2.06-.94-2.06-.94-.94-2.06-.94 2.06-2.06.94z\"/><path d=\"M17.41 7.96l-1.37-1.37c-.4-.4-.92-.59-1.43-.59-.52 0-1.04.2-1.43.59L10.3 9.45l-7.72 7.72c-.78.78-.78 2.05 0 2.83L4 21.41c.39.39.9.59 1.41.59.51 0 1.02-.2 1.41-.59l7.78-7.78 2.81-2.81c.8-.78.8-2.07 0-2.86zM5.41 20L4 18.59l7.72-7.72 1.47 1.35L5.41 20z\"/>\n",
              "  </svg>\n",
              "      </button>\n",
              "      \n",
              "  <style>\n",
              "    .colab-df-container {\n",
              "      display:flex;\n",
              "      flex-wrap:wrap;\n",
              "      gap: 12px;\n",
              "    }\n",
              "\n",
              "    .colab-df-convert {\n",
              "      background-color: #E8F0FE;\n",
              "      border: none;\n",
              "      border-radius: 50%;\n",
              "      cursor: pointer;\n",
              "      display: none;\n",
              "      fill: #1967D2;\n",
              "      height: 32px;\n",
              "      padding: 0 0 0 0;\n",
              "      width: 32px;\n",
              "    }\n",
              "\n",
              "    .colab-df-convert:hover {\n",
              "      background-color: #E2EBFA;\n",
              "      box-shadow: 0px 1px 2px rgba(60, 64, 67, 0.3), 0px 1px 3px 1px rgba(60, 64, 67, 0.15);\n",
              "      fill: #174EA6;\n",
              "    }\n",
              "\n",
              "    [theme=dark] .colab-df-convert {\n",
              "      background-color: #3B4455;\n",
              "      fill: #D2E3FC;\n",
              "    }\n",
              "\n",
              "    [theme=dark] .colab-df-convert:hover {\n",
              "      background-color: #434B5C;\n",
              "      box-shadow: 0px 1px 3px 1px rgba(0, 0, 0, 0.15);\n",
              "      filter: drop-shadow(0px 1px 2px rgba(0, 0, 0, 0.3));\n",
              "      fill: #FFFFFF;\n",
              "    }\n",
              "  </style>\n",
              "\n",
              "      <script>\n",
              "        const buttonEl =\n",
              "          document.querySelector('#df-a78acd4d-a7f4-47d2-8eba-3564b45fd731 button.colab-df-convert');\n",
              "        buttonEl.style.display =\n",
              "          google.colab.kernel.accessAllowed ? 'block' : 'none';\n",
              "\n",
              "        async function convertToInteractive(key) {\n",
              "          const element = document.querySelector('#df-a78acd4d-a7f4-47d2-8eba-3564b45fd731');\n",
              "          const dataTable =\n",
              "            await google.colab.kernel.invokeFunction('convertToInteractive',\n",
              "                                                     [key], {});\n",
              "          if (!dataTable) return;\n",
              "\n",
              "          const docLinkHtml = 'Like what you see? Visit the ' +\n",
              "            '<a target=\"_blank\" href=https://colab.research.google.com/notebooks/data_table.ipynb>data table notebook</a>'\n",
              "            + ' to learn more about interactive tables.';\n",
              "          element.innerHTML = '';\n",
              "          dataTable['output_type'] = 'display_data';\n",
              "          await google.colab.output.renderOutput(dataTable, element);\n",
              "          const docLink = document.createElement('div');\n",
              "          docLink.innerHTML = docLinkHtml;\n",
              "          element.appendChild(docLink);\n",
              "        }\n",
              "      </script>\n",
              "    </div>\n",
              "  </div>\n",
              "  "
            ],
            "text/plain": [
              "    SepalWidthCm  PetalLengthCm  PetalWidthCm\n",
              "39           3.4            1.5           0.2\n",
              "53           2.3            4.0           1.3\n",
              "79           2.6            3.5           1.0\n",
              "10           3.7            1.5           0.2\n",
              "50           3.2            4.7           1.4"
            ]
          },
          "execution_count": 72,
          "metadata": {},
          "output_type": "execute_result"
        }
      ],
      "source": [
        "df_with3attributes = df_x_train.copy()\n",
        "df_with3attributes.drop([\"SepalLengthCm\"], axis=1, inplace=True)\n",
        "df_with3attributes.head()"
      ]
    },
    {
      "cell_type": "code",
      "execution_count": null,
      "metadata": {
        "colab": {
          "base_uri": "https://localhost:8080/",
          "height": 204
        },
        "id": "2SFXPplydecp",
        "outputId": "ed05c3e0-3329-483a-aeb3-2c73e1d19ebd"
      },
      "outputs": [
        {
          "data": {
            "text/html": [
              "\n",
              "  <div id=\"df-7459a682-0a6f-4c50-9987-e0127695a414\">\n",
              "    <div class=\"colab-df-container\">\n",
              "      <div>\n",
              "<style scoped>\n",
              "    .dataframe tbody tr th:only-of-type {\n",
              "        vertical-align: middle;\n",
              "    }\n",
              "\n",
              "    .dataframe tbody tr th {\n",
              "        vertical-align: top;\n",
              "    }\n",
              "\n",
              "    .dataframe thead th {\n",
              "        text-align: right;\n",
              "    }\n",
              "</style>\n",
              "<table border=\"1\" class=\"dataframe\">\n",
              "  <thead>\n",
              "    <tr style=\"text-align: right;\">\n",
              "      <th></th>\n",
              "      <th>SepalWidthCm</th>\n",
              "      <th>PetalLengthCm</th>\n",
              "      <th>PetalWidthCm</th>\n",
              "    </tr>\n",
              "  </thead>\n",
              "  <tbody>\n",
              "    <tr>\n",
              "      <th>82</th>\n",
              "      <td>2.7</td>\n",
              "      <td>3.9</td>\n",
              "      <td>1.2</td>\n",
              "    </tr>\n",
              "    <tr>\n",
              "      <th>134</th>\n",
              "      <td>2.6</td>\n",
              "      <td>5.6</td>\n",
              "      <td>1.4</td>\n",
              "    </tr>\n",
              "    <tr>\n",
              "      <th>114</th>\n",
              "      <td>2.8</td>\n",
              "      <td>5.1</td>\n",
              "      <td>2.4</td>\n",
              "    </tr>\n",
              "    <tr>\n",
              "      <th>42</th>\n",
              "      <td>3.2</td>\n",
              "      <td>1.3</td>\n",
              "      <td>0.2</td>\n",
              "    </tr>\n",
              "    <tr>\n",
              "      <th>109</th>\n",
              "      <td>3.6</td>\n",
              "      <td>6.1</td>\n",
              "      <td>2.5</td>\n",
              "    </tr>\n",
              "  </tbody>\n",
              "</table>\n",
              "</div>\n",
              "      <button class=\"colab-df-convert\" onclick=\"convertToInteractive('df-7459a682-0a6f-4c50-9987-e0127695a414')\"\n",
              "              title=\"Convert this dataframe to an interactive table.\"\n",
              "              style=\"display:none;\">\n",
              "        \n",
              "  <svg xmlns=\"http://www.w3.org/2000/svg\" height=\"24px\"viewBox=\"0 0 24 24\"\n",
              "       width=\"24px\">\n",
              "    <path d=\"M0 0h24v24H0V0z\" fill=\"none\"/>\n",
              "    <path d=\"M18.56 5.44l.94 2.06.94-2.06 2.06-.94-2.06-.94-.94-2.06-.94 2.06-2.06.94zm-11 1L8.5 8.5l.94-2.06 2.06-.94-2.06-.94L8.5 2.5l-.94 2.06-2.06.94zm10 10l.94 2.06.94-2.06 2.06-.94-2.06-.94-.94-2.06-.94 2.06-2.06.94z\"/><path d=\"M17.41 7.96l-1.37-1.37c-.4-.4-.92-.59-1.43-.59-.52 0-1.04.2-1.43.59L10.3 9.45l-7.72 7.72c-.78.78-.78 2.05 0 2.83L4 21.41c.39.39.9.59 1.41.59.51 0 1.02-.2 1.41-.59l7.78-7.78 2.81-2.81c.8-.78.8-2.07 0-2.86zM5.41 20L4 18.59l7.72-7.72 1.47 1.35L5.41 20z\"/>\n",
              "  </svg>\n",
              "      </button>\n",
              "      \n",
              "  <style>\n",
              "    .colab-df-container {\n",
              "      display:flex;\n",
              "      flex-wrap:wrap;\n",
              "      gap: 12px;\n",
              "    }\n",
              "\n",
              "    .colab-df-convert {\n",
              "      background-color: #E8F0FE;\n",
              "      border: none;\n",
              "      border-radius: 50%;\n",
              "      cursor: pointer;\n",
              "      display: none;\n",
              "      fill: #1967D2;\n",
              "      height: 32px;\n",
              "      padding: 0 0 0 0;\n",
              "      width: 32px;\n",
              "    }\n",
              "\n",
              "    .colab-df-convert:hover {\n",
              "      background-color: #E2EBFA;\n",
              "      box-shadow: 0px 1px 2px rgba(60, 64, 67, 0.3), 0px 1px 3px 1px rgba(60, 64, 67, 0.15);\n",
              "      fill: #174EA6;\n",
              "    }\n",
              "\n",
              "    [theme=dark] .colab-df-convert {\n",
              "      background-color: #3B4455;\n",
              "      fill: #D2E3FC;\n",
              "    }\n",
              "\n",
              "    [theme=dark] .colab-df-convert:hover {\n",
              "      background-color: #434B5C;\n",
              "      box-shadow: 0px 1px 3px 1px rgba(0, 0, 0, 0.15);\n",
              "      filter: drop-shadow(0px 1px 2px rgba(0, 0, 0, 0.3));\n",
              "      fill: #FFFFFF;\n",
              "    }\n",
              "  </style>\n",
              "\n",
              "      <script>\n",
              "        const buttonEl =\n",
              "          document.querySelector('#df-7459a682-0a6f-4c50-9987-e0127695a414 button.colab-df-convert');\n",
              "        buttonEl.style.display =\n",
              "          google.colab.kernel.accessAllowed ? 'block' : 'none';\n",
              "\n",
              "        async function convertToInteractive(key) {\n",
              "          const element = document.querySelector('#df-7459a682-0a6f-4c50-9987-e0127695a414');\n",
              "          const dataTable =\n",
              "            await google.colab.kernel.invokeFunction('convertToInteractive',\n",
              "                                                     [key], {});\n",
              "          if (!dataTable) return;\n",
              "\n",
              "          const docLinkHtml = 'Like what you see? Visit the ' +\n",
              "            '<a target=\"_blank\" href=https://colab.research.google.com/notebooks/data_table.ipynb>data table notebook</a>'\n",
              "            + ' to learn more about interactive tables.';\n",
              "          element.innerHTML = '';\n",
              "          dataTable['output_type'] = 'display_data';\n",
              "          await google.colab.output.renderOutput(dataTable, element);\n",
              "          const docLink = document.createElement('div');\n",
              "          docLink.innerHTML = docLinkHtml;\n",
              "          element.appendChild(docLink);\n",
              "        }\n",
              "      </script>\n",
              "    </div>\n",
              "  </div>\n",
              "  "
            ],
            "text/plain": [
              "     SepalWidthCm  PetalLengthCm  PetalWidthCm\n",
              "82            2.7            3.9           1.2\n",
              "134           2.6            5.6           1.4\n",
              "114           2.8            5.1           2.4\n",
              "42            3.2            1.3           0.2\n",
              "109           3.6            6.1           2.5"
            ]
          },
          "execution_count": 71,
          "metadata": {},
          "output_type": "execute_result"
        }
      ],
      "source": [
        "df_with3attributes_test = df_x_test.copy()\n",
        "df_with3attributes_test.drop([\"SepalLengthCm\"], axis=1, inplace=True)\n",
        "df_with3attributes_test.head()"
      ]
    },
    {
      "cell_type": "code",
      "execution_count": null,
      "metadata": {
        "colab": {
          "base_uri": "https://localhost:8080/",
          "height": 204
        },
        "id": "qGMPmTy8djhr",
        "outputId": "7fba8c14-a40c-456a-ce54-988d99a4cd3f"
      },
      "outputs": [
        {
          "data": {
            "text/html": [
              "\n",
              "  <div id=\"df-60126286-71df-4bd2-8ad0-a540d13ebedf\">\n",
              "    <div class=\"colab-df-container\">\n",
              "      <div>\n",
              "<style scoped>\n",
              "    .dataframe tbody tr th:only-of-type {\n",
              "        vertical-align: middle;\n",
              "    }\n",
              "\n",
              "    .dataframe tbody tr th {\n",
              "        vertical-align: top;\n",
              "    }\n",
              "\n",
              "    .dataframe thead th {\n",
              "        text-align: right;\n",
              "    }\n",
              "</style>\n",
              "<table border=\"1\" class=\"dataframe\">\n",
              "  <thead>\n",
              "    <tr style=\"text-align: right;\">\n",
              "      <th></th>\n",
              "      <th>SepalWidthCm</th>\n",
              "      <th>PetalLengthCm</th>\n",
              "      <th>PetalWidthCm</th>\n",
              "    </tr>\n",
              "  </thead>\n",
              "  <tbody>\n",
              "    <tr>\n",
              "      <th>39</th>\n",
              "      <td>0.772727</td>\n",
              "      <td>0.217391</td>\n",
              "      <td>0.08</td>\n",
              "    </tr>\n",
              "    <tr>\n",
              "      <th>53</th>\n",
              "      <td>0.522727</td>\n",
              "      <td>0.579710</td>\n",
              "      <td>0.52</td>\n",
              "    </tr>\n",
              "    <tr>\n",
              "      <th>79</th>\n",
              "      <td>0.590909</td>\n",
              "      <td>0.507246</td>\n",
              "      <td>0.40</td>\n",
              "    </tr>\n",
              "    <tr>\n",
              "      <th>10</th>\n",
              "      <td>0.840909</td>\n",
              "      <td>0.217391</td>\n",
              "      <td>0.08</td>\n",
              "    </tr>\n",
              "    <tr>\n",
              "      <th>50</th>\n",
              "      <td>0.727273</td>\n",
              "      <td>0.681159</td>\n",
              "      <td>0.56</td>\n",
              "    </tr>\n",
              "  </tbody>\n",
              "</table>\n",
              "</div>\n",
              "      <button class=\"colab-df-convert\" onclick=\"convertToInteractive('df-60126286-71df-4bd2-8ad0-a540d13ebedf')\"\n",
              "              title=\"Convert this dataframe to an interactive table.\"\n",
              "              style=\"display:none;\">\n",
              "        \n",
              "  <svg xmlns=\"http://www.w3.org/2000/svg\" height=\"24px\"viewBox=\"0 0 24 24\"\n",
              "       width=\"24px\">\n",
              "    <path d=\"M0 0h24v24H0V0z\" fill=\"none\"/>\n",
              "    <path d=\"M18.56 5.44l.94 2.06.94-2.06 2.06-.94-2.06-.94-.94-2.06-.94 2.06-2.06.94zm-11 1L8.5 8.5l.94-2.06 2.06-.94-2.06-.94L8.5 2.5l-.94 2.06-2.06.94zm10 10l.94 2.06.94-2.06 2.06-.94-2.06-.94-.94-2.06-.94 2.06-2.06.94z\"/><path d=\"M17.41 7.96l-1.37-1.37c-.4-.4-.92-.59-1.43-.59-.52 0-1.04.2-1.43.59L10.3 9.45l-7.72 7.72c-.78.78-.78 2.05 0 2.83L4 21.41c.39.39.9.59 1.41.59.51 0 1.02-.2 1.41-.59l7.78-7.78 2.81-2.81c.8-.78.8-2.07 0-2.86zM5.41 20L4 18.59l7.72-7.72 1.47 1.35L5.41 20z\"/>\n",
              "  </svg>\n",
              "      </button>\n",
              "      \n",
              "  <style>\n",
              "    .colab-df-container {\n",
              "      display:flex;\n",
              "      flex-wrap:wrap;\n",
              "      gap: 12px;\n",
              "    }\n",
              "\n",
              "    .colab-df-convert {\n",
              "      background-color: #E8F0FE;\n",
              "      border: none;\n",
              "      border-radius: 50%;\n",
              "      cursor: pointer;\n",
              "      display: none;\n",
              "      fill: #1967D2;\n",
              "      height: 32px;\n",
              "      padding: 0 0 0 0;\n",
              "      width: 32px;\n",
              "    }\n",
              "\n",
              "    .colab-df-convert:hover {\n",
              "      background-color: #E2EBFA;\n",
              "      box-shadow: 0px 1px 2px rgba(60, 64, 67, 0.3), 0px 1px 3px 1px rgba(60, 64, 67, 0.15);\n",
              "      fill: #174EA6;\n",
              "    }\n",
              "\n",
              "    [theme=dark] .colab-df-convert {\n",
              "      background-color: #3B4455;\n",
              "      fill: #D2E3FC;\n",
              "    }\n",
              "\n",
              "    [theme=dark] .colab-df-convert:hover {\n",
              "      background-color: #434B5C;\n",
              "      box-shadow: 0px 1px 3px 1px rgba(0, 0, 0, 0.15);\n",
              "      filter: drop-shadow(0px 1px 2px rgba(0, 0, 0, 0.3));\n",
              "      fill: #FFFFFF;\n",
              "    }\n",
              "  </style>\n",
              "\n",
              "      <script>\n",
              "        const buttonEl =\n",
              "          document.querySelector('#df-60126286-71df-4bd2-8ad0-a540d13ebedf button.colab-df-convert');\n",
              "        buttonEl.style.display =\n",
              "          google.colab.kernel.accessAllowed ? 'block' : 'none';\n",
              "\n",
              "        async function convertToInteractive(key) {\n",
              "          const element = document.querySelector('#df-60126286-71df-4bd2-8ad0-a540d13ebedf');\n",
              "          const dataTable =\n",
              "            await google.colab.kernel.invokeFunction('convertToInteractive',\n",
              "                                                     [key], {});\n",
              "          if (!dataTable) return;\n",
              "\n",
              "          const docLinkHtml = 'Like what you see? Visit the ' +\n",
              "            '<a target=\"_blank\" href=https://colab.research.google.com/notebooks/data_table.ipynb>data table notebook</a>'\n",
              "            + ' to learn more about interactive tables.';\n",
              "          element.innerHTML = '';\n",
              "          dataTable['output_type'] = 'display_data';\n",
              "          await google.colab.output.renderOutput(dataTable, element);\n",
              "          const docLink = document.createElement('div');\n",
              "          docLink.innerHTML = docLinkHtml;\n",
              "          element.appendChild(docLink);\n",
              "        }\n",
              "      </script>\n",
              "    </div>\n",
              "  </div>\n",
              "  "
            ],
            "text/plain": [
              "    SepalWidthCm  PetalLengthCm  PetalWidthCm\n",
              "39      0.772727       0.217391          0.08\n",
              "53      0.522727       0.579710          0.52\n",
              "79      0.590909       0.507246          0.40\n",
              "10      0.840909       0.217391          0.08\n",
              "50      0.727273       0.681159          0.56"
            ]
          },
          "execution_count": 73,
          "metadata": {},
          "output_type": "execute_result"
        }
      ],
      "source": [
        "df_with3attributes_normalized = df_with3attributes / df_with3attributes.max()\n",
        "df_with3attributes_normalized.head()"
      ]
    },
    {
      "cell_type": "code",
      "execution_count": null,
      "metadata": {
        "colab": {
          "base_uri": "https://localhost:8080/",
          "height": 204
        },
        "id": "zKG1d14EdlP_",
        "outputId": "b9d22620-254a-49b6-c7f0-34ad8ae4ab94"
      },
      "outputs": [
        {
          "data": {
            "text/html": [
              "\n",
              "  <div id=\"df-04fdcd2a-9155-45ff-86f6-0faad3de29b0\">\n",
              "    <div class=\"colab-df-container\">\n",
              "      <div>\n",
              "<style scoped>\n",
              "    .dataframe tbody tr th:only-of-type {\n",
              "        vertical-align: middle;\n",
              "    }\n",
              "\n",
              "    .dataframe tbody tr th {\n",
              "        vertical-align: top;\n",
              "    }\n",
              "\n",
              "    .dataframe thead th {\n",
              "        text-align: right;\n",
              "    }\n",
              "</style>\n",
              "<table border=\"1\" class=\"dataframe\">\n",
              "  <thead>\n",
              "    <tr style=\"text-align: right;\">\n",
              "      <th></th>\n",
              "      <th>SepalWidthCm</th>\n",
              "      <th>PetalLengthCm</th>\n",
              "      <th>PetalWidthCm</th>\n",
              "    </tr>\n",
              "  </thead>\n",
              "  <tbody>\n",
              "    <tr>\n",
              "      <th>82</th>\n",
              "      <td>0.729730</td>\n",
              "      <td>0.619048</td>\n",
              "      <td>0.48</td>\n",
              "    </tr>\n",
              "    <tr>\n",
              "      <th>134</th>\n",
              "      <td>0.702703</td>\n",
              "      <td>0.888889</td>\n",
              "      <td>0.56</td>\n",
              "    </tr>\n",
              "    <tr>\n",
              "      <th>114</th>\n",
              "      <td>0.756757</td>\n",
              "      <td>0.809524</td>\n",
              "      <td>0.96</td>\n",
              "    </tr>\n",
              "    <tr>\n",
              "      <th>42</th>\n",
              "      <td>0.864865</td>\n",
              "      <td>0.206349</td>\n",
              "      <td>0.08</td>\n",
              "    </tr>\n",
              "    <tr>\n",
              "      <th>109</th>\n",
              "      <td>0.972973</td>\n",
              "      <td>0.968254</td>\n",
              "      <td>1.00</td>\n",
              "    </tr>\n",
              "  </tbody>\n",
              "</table>\n",
              "</div>\n",
              "      <button class=\"colab-df-convert\" onclick=\"convertToInteractive('df-04fdcd2a-9155-45ff-86f6-0faad3de29b0')\"\n",
              "              title=\"Convert this dataframe to an interactive table.\"\n",
              "              style=\"display:none;\">\n",
              "        \n",
              "  <svg xmlns=\"http://www.w3.org/2000/svg\" height=\"24px\"viewBox=\"0 0 24 24\"\n",
              "       width=\"24px\">\n",
              "    <path d=\"M0 0h24v24H0V0z\" fill=\"none\"/>\n",
              "    <path d=\"M18.56 5.44l.94 2.06.94-2.06 2.06-.94-2.06-.94-.94-2.06-.94 2.06-2.06.94zm-11 1L8.5 8.5l.94-2.06 2.06-.94-2.06-.94L8.5 2.5l-.94 2.06-2.06.94zm10 10l.94 2.06.94-2.06 2.06-.94-2.06-.94-.94-2.06-.94 2.06-2.06.94z\"/><path d=\"M17.41 7.96l-1.37-1.37c-.4-.4-.92-.59-1.43-.59-.52 0-1.04.2-1.43.59L10.3 9.45l-7.72 7.72c-.78.78-.78 2.05 0 2.83L4 21.41c.39.39.9.59 1.41.59.51 0 1.02-.2 1.41-.59l7.78-7.78 2.81-2.81c.8-.78.8-2.07 0-2.86zM5.41 20L4 18.59l7.72-7.72 1.47 1.35L5.41 20z\"/>\n",
              "  </svg>\n",
              "      </button>\n",
              "      \n",
              "  <style>\n",
              "    .colab-df-container {\n",
              "      display:flex;\n",
              "      flex-wrap:wrap;\n",
              "      gap: 12px;\n",
              "    }\n",
              "\n",
              "    .colab-df-convert {\n",
              "      background-color: #E8F0FE;\n",
              "      border: none;\n",
              "      border-radius: 50%;\n",
              "      cursor: pointer;\n",
              "      display: none;\n",
              "      fill: #1967D2;\n",
              "      height: 32px;\n",
              "      padding: 0 0 0 0;\n",
              "      width: 32px;\n",
              "    }\n",
              "\n",
              "    .colab-df-convert:hover {\n",
              "      background-color: #E2EBFA;\n",
              "      box-shadow: 0px 1px 2px rgba(60, 64, 67, 0.3), 0px 1px 3px 1px rgba(60, 64, 67, 0.15);\n",
              "      fill: #174EA6;\n",
              "    }\n",
              "\n",
              "    [theme=dark] .colab-df-convert {\n",
              "      background-color: #3B4455;\n",
              "      fill: #D2E3FC;\n",
              "    }\n",
              "\n",
              "    [theme=dark] .colab-df-convert:hover {\n",
              "      background-color: #434B5C;\n",
              "      box-shadow: 0px 1px 3px 1px rgba(0, 0, 0, 0.15);\n",
              "      filter: drop-shadow(0px 1px 2px rgba(0, 0, 0, 0.3));\n",
              "      fill: #FFFFFF;\n",
              "    }\n",
              "  </style>\n",
              "\n",
              "      <script>\n",
              "        const buttonEl =\n",
              "          document.querySelector('#df-04fdcd2a-9155-45ff-86f6-0faad3de29b0 button.colab-df-convert');\n",
              "        buttonEl.style.display =\n",
              "          google.colab.kernel.accessAllowed ? 'block' : 'none';\n",
              "\n",
              "        async function convertToInteractive(key) {\n",
              "          const element = document.querySelector('#df-04fdcd2a-9155-45ff-86f6-0faad3de29b0');\n",
              "          const dataTable =\n",
              "            await google.colab.kernel.invokeFunction('convertToInteractive',\n",
              "                                                     [key], {});\n",
              "          if (!dataTable) return;\n",
              "\n",
              "          const docLinkHtml = 'Like what you see? Visit the ' +\n",
              "            '<a target=\"_blank\" href=https://colab.research.google.com/notebooks/data_table.ipynb>data table notebook</a>'\n",
              "            + ' to learn more about interactive tables.';\n",
              "          element.innerHTML = '';\n",
              "          dataTable['output_type'] = 'display_data';\n",
              "          await google.colab.output.renderOutput(dataTable, element);\n",
              "          const docLink = document.createElement('div');\n",
              "          docLink.innerHTML = docLinkHtml;\n",
              "          element.appendChild(docLink);\n",
              "        }\n",
              "      </script>\n",
              "    </div>\n",
              "  </div>\n",
              "  "
            ],
            "text/plain": [
              "     SepalWidthCm  PetalLengthCm  PetalWidthCm\n",
              "82       0.729730       0.619048          0.48\n",
              "134      0.702703       0.888889          0.56\n",
              "114      0.756757       0.809524          0.96\n",
              "42       0.864865       0.206349          0.08\n",
              "109      0.972973       0.968254          1.00"
            ]
          },
          "execution_count": 74,
          "metadata": {},
          "output_type": "execute_result"
        }
      ],
      "source": [
        "df_with3attributes_test_normalized = df_with3attributes_test / df_with3attributes_test.max()\n",
        "df_with3attributes_test_normalized.head()"
      ]
    },
    {
      "cell_type": "markdown",
      "metadata": {
        "id": "KSvyLD1sdn5n"
      },
      "source": [
        "Pruebas para evaluación de rendimiento:"
      ]
    },
    {
      "cell_type": "code",
      "execution_count": null,
      "metadata": {
        "colab": {
          "base_uri": "https://localhost:8080/"
        },
        "id": "c2PHdXNcdlOO",
        "outputId": "782d3f5b-4147-4746-aa67-c6bb670d821d"
      },
      "outputs": [
        {
          "name": "stdout",
          "output_type": "stream",
          "text": [
            "Training set\n",
            "                 precision    recall  f1-score   support\n",
            "\n",
            "    Iris-setosa       1.00      1.00      1.00        42\n",
            "Iris-versicolor       0.97      0.95      0.96        39\n",
            " Iris-virginica       0.95      0.97      0.96        39\n",
            "\n",
            "       accuracy                           0.97       120\n",
            "      macro avg       0.97      0.97      0.97       120\n",
            "   weighted avg       0.98      0.97      0.97       120\n",
            "\n",
            "Test set\n",
            "                 precision    recall  f1-score   support\n",
            "\n",
            "    Iris-setosa       1.00      1.00      1.00         8\n",
            "Iris-versicolor       0.91      0.91      0.91        11\n",
            " Iris-virginica       0.91      0.91      0.91        11\n",
            "\n",
            "       accuracy                           0.93        30\n",
            "      macro avg       0.94      0.94      0.94        30\n",
            "   weighted avg       0.93      0.93      0.93        30\n",
            "\n"
          ]
        }
      ],
      "source": [
        "TrainAndPredictValues(K=3, x_train=df_with3attributes, x_test=df_with3attributes_test)"
      ]
    },
    {
      "cell_type": "code",
      "execution_count": null,
      "metadata": {
        "colab": {
          "base_uri": "https://localhost:8080/"
        },
        "id": "i3Mldwl1duW4",
        "outputId": "b3994336-7fb0-4bd7-b503-34b6675b769f"
      },
      "outputs": [
        {
          "name": "stdout",
          "output_type": "stream",
          "text": [
            "Training set\n",
            "                 precision    recall  f1-score   support\n",
            "\n",
            "    Iris-setosa       1.00      1.00      1.00        42\n",
            "Iris-versicolor       0.97      0.95      0.96        39\n",
            " Iris-virginica       0.95      0.97      0.96        39\n",
            "\n",
            "       accuracy                           0.97       120\n",
            "      macro avg       0.97      0.97      0.97       120\n",
            "   weighted avg       0.98      0.97      0.97       120\n",
            "\n",
            "Test set\n",
            "                 precision    recall  f1-score   support\n",
            "\n",
            "    Iris-setosa       1.00      1.00      1.00         8\n",
            "Iris-versicolor       0.92      1.00      0.96        11\n",
            " Iris-virginica       1.00      0.91      0.95        11\n",
            "\n",
            "       accuracy                           0.97        30\n",
            "      macro avg       0.97      0.97      0.97        30\n",
            "   weighted avg       0.97      0.97      0.97        30\n",
            "\n"
          ]
        }
      ],
      "source": [
        "TrainAndPredictValues(K=5, x_train=df_with3attributes, x_test=df_with3attributes_test)"
      ]
    },
    {
      "cell_type": "code",
      "execution_count": null,
      "metadata": {
        "colab": {
          "base_uri": "https://localhost:8080/"
        },
        "id": "Z-XHiNQmdw-Y",
        "outputId": "e6603c84-9a36-4b3d-aa75-27f620a1e639"
      },
      "outputs": [
        {
          "name": "stdout",
          "output_type": "stream",
          "text": [
            "Training set\n",
            "                 precision    recall  f1-score   support\n",
            "\n",
            "    Iris-setosa       1.00      1.00      1.00        42\n",
            "Iris-versicolor       0.97      0.95      0.96        39\n",
            " Iris-virginica       0.95      0.97      0.96        39\n",
            "\n",
            "       accuracy                           0.97       120\n",
            "      macro avg       0.97      0.97      0.97       120\n",
            "   weighted avg       0.98      0.97      0.97       120\n",
            "\n",
            "Test set\n",
            "                 precision    recall  f1-score   support\n",
            "\n",
            "    Iris-setosa       1.00      1.00      1.00         8\n",
            "Iris-versicolor       0.91      0.91      0.91        11\n",
            " Iris-virginica       0.91      0.91      0.91        11\n",
            "\n",
            "       accuracy                           0.93        30\n",
            "      macro avg       0.94      0.94      0.94        30\n",
            "   weighted avg       0.93      0.93      0.93        30\n",
            "\n"
          ]
        }
      ],
      "source": [
        "TrainAndPredictValues(K=7, x_train=df_with3attributes, x_test=df_with3attributes_test)"
      ]
    },
    {
      "cell_type": "code",
      "execution_count": null,
      "metadata": {
        "id": "Nj3vXb7ZeGBQ"
      },
      "outputs": [],
      "source": []
    },
    {
      "cell_type": "markdown",
      "metadata": {
        "id": "Ki4m4-Zyd0BX"
      },
      "source": [
        "Datos sin normalizar:\n",
        "\n",
        "Los 5 vecina tienen unn mayor desempeño en las metricas de: precisión, recall y F1-Score"
      ]
    },
    {
      "cell_type": "markdown",
      "metadata": {
        "id": "FcNBqVVJeDwL"
      },
      "source": [
        "Normalización de datos:"
      ]
    },
    {
      "cell_type": "code",
      "execution_count": null,
      "metadata": {
        "colab": {
          "base_uri": "https://localhost:8080/"
        },
        "id": "nfOSI9Q2eCrb",
        "outputId": "df921b68-36f0-4b85-c3d0-d95759640f1b"
      },
      "outputs": [
        {
          "name": "stdout",
          "output_type": "stream",
          "text": [
            "Training set\n",
            "                 precision    recall  f1-score   support\n",
            "\n",
            "    Iris-setosa       1.00      1.00      1.00        42\n",
            "Iris-versicolor       0.97      0.97      0.97        39\n",
            " Iris-virginica       0.97      0.97      0.97        39\n",
            "\n",
            "       accuracy                           0.98       120\n",
            "      macro avg       0.98      0.98      0.98       120\n",
            "   weighted avg       0.98      0.98      0.98       120\n",
            "\n",
            "Test set\n",
            "                 precision    recall  f1-score   support\n",
            "\n",
            "    Iris-setosa       1.00      1.00      1.00         8\n",
            "Iris-versicolor       1.00      1.00      1.00        11\n",
            " Iris-virginica       1.00      1.00      1.00        11\n",
            "\n",
            "       accuracy                           1.00        30\n",
            "      macro avg       1.00      1.00      1.00        30\n",
            "   weighted avg       1.00      1.00      1.00        30\n",
            "\n"
          ]
        }
      ],
      "source": [
        "TrainAndPredictValues(K=3, x_train=df_with3attributes_normalized, x_test=df_with3attributes_test_normalized)"
      ]
    },
    {
      "cell_type": "code",
      "execution_count": null,
      "metadata": {
        "colab": {
          "base_uri": "https://localhost:8080/"
        },
        "id": "LVeKdgWZdw8p",
        "outputId": "5c4bdefd-a793-4902-8c6d-ad0f0fdd1258"
      },
      "outputs": [
        {
          "name": "stdout",
          "output_type": "stream",
          "text": [
            "Training set\n",
            "                 precision    recall  f1-score   support\n",
            "\n",
            "    Iris-setosa       1.00      1.00      1.00        42\n",
            "Iris-versicolor       0.95      0.97      0.96        39\n",
            " Iris-virginica       0.97      0.95      0.96        39\n",
            "\n",
            "       accuracy                           0.97       120\n",
            "      macro avg       0.97      0.97      0.97       120\n",
            "   weighted avg       0.98      0.97      0.97       120\n",
            "\n",
            "Test set\n",
            "                 precision    recall  f1-score   support\n",
            "\n",
            "    Iris-setosa       1.00      1.00      1.00         8\n",
            "Iris-versicolor       1.00      0.91      0.95        11\n",
            " Iris-virginica       0.92      1.00      0.96        11\n",
            "\n",
            "       accuracy                           0.97        30\n",
            "      macro avg       0.97      0.97      0.97        30\n",
            "   weighted avg       0.97      0.97      0.97        30\n",
            "\n"
          ]
        }
      ],
      "source": [
        "TrainAndPredictValues(K=5, x_train=df_with3attributes_normalized, x_test=df_with3attributes_test_normalized)"
      ]
    },
    {
      "cell_type": "code",
      "execution_count": null,
      "metadata": {
        "colab": {
          "base_uri": "https://localhost:8080/"
        },
        "id": "gwGZJjqweMVZ",
        "outputId": "226679e1-c97d-4ede-f8a6-60632dbebe9d"
      },
      "outputs": [
        {
          "name": "stdout",
          "output_type": "stream",
          "text": [
            "Training set\n",
            "                 precision    recall  f1-score   support\n",
            "\n",
            "    Iris-setosa       1.00      1.00      1.00        42\n",
            "Iris-versicolor       0.95      0.97      0.96        39\n",
            " Iris-virginica       0.97      0.95      0.96        39\n",
            "\n",
            "       accuracy                           0.97       120\n",
            "      macro avg       0.97      0.97      0.97       120\n",
            "   weighted avg       0.98      0.97      0.97       120\n",
            "\n",
            "Test set\n",
            "                 precision    recall  f1-score   support\n",
            "\n",
            "    Iris-setosa       1.00      1.00      1.00         8\n",
            "Iris-versicolor       0.91      0.91      0.91        11\n",
            " Iris-virginica       0.91      0.91      0.91        11\n",
            "\n",
            "       accuracy                           0.93        30\n",
            "      macro avg       0.94      0.94      0.94        30\n",
            "   weighted avg       0.93      0.93      0.93        30\n",
            "\n"
          ]
        }
      ],
      "source": [
        "TrainAndPredictValues(K=7, x_train=df_with3attributes_normalized, x_test=df_with3attributes_test_normalized)"
      ]
    },
    {
      "cell_type": "markdown",
      "metadata": {
        "id": "A0KS0374eODU"
      },
      "source": [
        "Analisis: ya con los datos normalizados podemos decir que hay un mejor desempeño con 3 vecinos. La variable que no se utilizo fue la de SepalLengthCm porque no tiene valores de correlacion significativo con las demas"
      ]
    },
    {
      "cell_type": "markdown",
      "metadata": {
        "id": "rYHSi3vp269i"
      },
      "source": [
        "## **Ejercicio 7.**\n",
        "\n",
        "Encuentre un modelo de clasificación KNN que utilice solo dos atributos y cuyo desempeño sea comparable con el modelo que usa cuatro atributos. Decida si es conveniente normalizar o no los atributos. Utilice diferentes valores de K. Para comparar varios modelos genere diferentes métricas de desempeño.\n",
        "Al final indique, ¿por qué escogió esos atributos?, de los modelos entrenados ¿cuál escogería y por qué? ¿qué métricas de desempeño reportaría a un cliente y por qué?"
      ]
    },
    {
      "cell_type": "code",
      "execution_count": null,
      "metadata": {
        "colab": {
          "base_uri": "https://localhost:8080/",
          "height": 289
        },
        "id": "NQupyK-xekcU",
        "outputId": "1b976363-46b2-4d55-aafb-76c6e6e16fdf"
      },
      "outputs": [
        {
          "data": {
            "text/plain": [
              "<matplotlib.axes._subplots.AxesSubplot at 0x7ff9eab68ad0>"
            ]
          },
          "execution_count": 81,
          "metadata": {},
          "output_type": "execute_result"
        },
        {
          "data": {
            "image/png": "[encoded data removed]",
            "text/plain": [
              "<Figure size 432x288 with 2 Axes>"
            ]
          },
          "metadata": {},
          "output_type": "display_data"
        }
      ],
      "source": [
        "corr_3attributes = df_with3attributes.corr()\n",
        "sns.heatmap(corr_3attributes, annot=True)"
      ]
    },
    {
      "cell_type": "markdown",
      "metadata": {
        "id": "06iiFv9Pem0d"
      },
      "source": [
        "Se puede evidenciar que todas las relaciones tienen variables con relacion directa e inversamente proporcional a excepcion de SepalWidthCm porque tiene una importancia menos significativa. Esto se debe a que su relacion con las demas variables es inversamente proporcional"
      ]
    },
    {
      "cell_type": "code",
      "execution_count": null,
      "metadata": {
        "colab": {
          "base_uri": "https://localhost:8080/",
          "height": 204
        },
        "id": "cUVL_tDQfFOV",
        "outputId": "963c54b8-fb32-4a1c-ca89-b0585a4e379a"
      },
      "outputs": [
        {
          "data": {
            "text/html": [
              "\n",
              "  <div id=\"df-3f75e561-178b-4606-92cc-0f9b3ceb2a3b\">\n",
              "    <div class=\"colab-df-container\">\n",
              "      <div>\n",
              "<style scoped>\n",
              "    .dataframe tbody tr th:only-of-type {\n",
              "        vertical-align: middle;\n",
              "    }\n",
              "\n",
              "    .dataframe tbody tr th {\n",
              "        vertical-align: top;\n",
              "    }\n",
              "\n",
              "    .dataframe thead th {\n",
              "        text-align: right;\n",
              "    }\n",
              "</style>\n",
              "<table border=\"1\" class=\"dataframe\">\n",
              "  <thead>\n",
              "    <tr style=\"text-align: right;\">\n",
              "      <th></th>\n",
              "      <th>PetalLengthCm</th>\n",
              "      <th>PetalWidthCm</th>\n",
              "    </tr>\n",
              "  </thead>\n",
              "  <tbody>\n",
              "    <tr>\n",
              "      <th>39</th>\n",
              "      <td>1.5</td>\n",
              "      <td>0.2</td>\n",
              "    </tr>\n",
              "    <tr>\n",
              "      <th>53</th>\n",
              "      <td>4.0</td>\n",
              "      <td>1.3</td>\n",
              "    </tr>\n",
              "    <tr>\n",
              "      <th>79</th>\n",
              "      <td>3.5</td>\n",
              "      <td>1.0</td>\n",
              "    </tr>\n",
              "    <tr>\n",
              "      <th>10</th>\n",
              "      <td>1.5</td>\n",
              "      <td>0.2</td>\n",
              "    </tr>\n",
              "    <tr>\n",
              "      <th>50</th>\n",
              "      <td>4.7</td>\n",
              "      <td>1.4</td>\n",
              "    </tr>\n",
              "  </tbody>\n",
              "</table>\n",
              "</div>\n",
              "      <button class=\"colab-df-convert\" onclick=\"convertToInteractive('df-3f75e561-178b-4606-92cc-0f9b3ceb2a3b')\"\n",
              "              title=\"Convert this dataframe to an interactive table.\"\n",
              "              style=\"display:none;\">\n",
              "        \n",
              "  <svg xmlns=\"http://www.w3.org/2000/svg\" height=\"24px\"viewBox=\"0 0 24 24\"\n",
              "       width=\"24px\">\n",
              "    <path d=\"M0 0h24v24H0V0z\" fill=\"none\"/>\n",
              "    <path d=\"M18.56 5.44l.94 2.06.94-2.06 2.06-.94-2.06-.94-.94-2.06-.94 2.06-2.06.94zm-11 1L8.5 8.5l.94-2.06 2.06-.94-2.06-.94L8.5 2.5l-.94 2.06-2.06.94zm10 10l.94 2.06.94-2.06 2.06-.94-2.06-.94-.94-2.06-.94 2.06-2.06.94z\"/><path d=\"M17.41 7.96l-1.37-1.37c-.4-.4-.92-.59-1.43-.59-.52 0-1.04.2-1.43.59L10.3 9.45l-7.72 7.72c-.78.78-.78 2.05 0 2.83L4 21.41c.39.39.9.59 1.41.59.51 0 1.02-.2 1.41-.59l7.78-7.78 2.81-2.81c.8-.78.8-2.07 0-2.86zM5.41 20L4 18.59l7.72-7.72 1.47 1.35L5.41 20z\"/>\n",
              "  </svg>\n",
              "      </button>\n",
              "      \n",
              "  <style>\n",
              "    .colab-df-container {\n",
              "      display:flex;\n",
              "      flex-wrap:wrap;\n",
              "      gap: 12px;\n",
              "    }\n",
              "\n",
              "    .colab-df-convert {\n",
              "      background-color: #E8F0FE;\n",
              "      border: none;\n",
              "      border-radius: 50%;\n",
              "      cursor: pointer;\n",
              "      display: none;\n",
              "      fill: #1967D2;\n",
              "      height: 32px;\n",
              "      padding: 0 0 0 0;\n",
              "      width: 32px;\n",
              "    }\n",
              "\n",
              "    .colab-df-convert:hover {\n",
              "      background-color: #E2EBFA;\n",
              "      box-shadow: 0px 1px 2px rgba(60, 64, 67, 0.3), 0px 1px 3px 1px rgba(60, 64, 67, 0.15);\n",
              "      fill: #174EA6;\n",
              "    }\n",
              "\n",
              "    [theme=dark] .colab-df-convert {\n",
              "      background-color: #3B4455;\n",
              "      fill: #D2E3FC;\n",
              "    }\n",
              "\n",
              "    [theme=dark] .colab-df-convert:hover {\n",
              "      background-color: #434B5C;\n",
              "      box-shadow: 0px 1px 3px 1px rgba(0, 0, 0, 0.15);\n",
              "      filter: drop-shadow(0px 1px 2px rgba(0, 0, 0, 0.3));\n",
              "      fill: #FFFFFF;\n",
              "    }\n",
              "  </style>\n",
              "\n",
              "      <script>\n",
              "        const buttonEl =\n",
              "          document.querySelector('#df-3f75e561-178b-4606-92cc-0f9b3ceb2a3b button.colab-df-convert');\n",
              "        buttonEl.style.display =\n",
              "          google.colab.kernel.accessAllowed ? 'block' : 'none';\n",
              "\n",
              "        async function convertToInteractive(key) {\n",
              "          const element = document.querySelector('#df-3f75e561-178b-4606-92cc-0f9b3ceb2a3b');\n",
              "          const dataTable =\n",
              "            await google.colab.kernel.invokeFunction('convertToInteractive',\n",
              "                                                     [key], {});\n",
              "          if (!dataTable) return;\n",
              "\n",
              "          const docLinkHtml = 'Like what you see? Visit the ' +\n",
              "            '<a target=\"_blank\" href=https://colab.research.google.com/notebooks/data_table.ipynb>data table notebook</a>'\n",
              "            + ' to learn more about interactive tables.';\n",
              "          element.innerHTML = '';\n",
              "          dataTable['output_type'] = 'display_data';\n",
              "          await google.colab.output.renderOutput(dataTable, element);\n",
              "          const docLink = document.createElement('div');\n",
              "          docLink.innerHTML = docLinkHtml;\n",
              "          element.appendChild(docLink);\n",
              "        }\n",
              "      </script>\n",
              "    </div>\n",
              "  </div>\n",
              "  "
            ],
            "text/plain": [
              "    PetalLengthCm  PetalWidthCm\n",
              "39            1.5           0.2\n",
              "53            4.0           1.3\n",
              "79            3.5           1.0\n",
              "10            1.5           0.2\n",
              "50            4.7           1.4"
            ]
          },
          "execution_count": 82,
          "metadata": {},
          "output_type": "execute_result"
        }
      ],
      "source": [
        "df_with2attributes = df_with3attributes.copy()\n",
        "df_with2attributes.drop([\"SepalWidthCm\"], axis=1, inplace=True)\n",
        "df_with2attributes.head()"
      ]
    },
    {
      "cell_type": "code",
      "execution_count": null,
      "metadata": {
        "colab": {
          "base_uri": "https://localhost:8080/",
          "height": 204
        },
        "id": "OnuyO5jVfHDB",
        "outputId": "54f4b474-b9ef-4620-c3de-2f5a9e6551ed"
      },
      "outputs": [
        {
          "data": {
            "text/html": [
              "\n",
              "  <div id=\"df-1bf9c796-8734-40ec-8bcf-a3f999de3bfe\">\n",
              "    <div class=\"colab-df-container\">\n",
              "      <div>\n",
              "<style scoped>\n",
              "    .dataframe tbody tr th:only-of-type {\n",
              "        vertical-align: middle;\n",
              "    }\n",
              "\n",
              "    .dataframe tbody tr th {\n",
              "        vertical-align: top;\n",
              "    }\n",
              "\n",
              "    .dataframe thead th {\n",
              "        text-align: right;\n",
              "    }\n",
              "</style>\n",
              "<table border=\"1\" class=\"dataframe\">\n",
              "  <thead>\n",
              "    <tr style=\"text-align: right;\">\n",
              "      <th></th>\n",
              "      <th>PetalLengthCm</th>\n",
              "      <th>PetalWidthCm</th>\n",
              "    </tr>\n",
              "  </thead>\n",
              "  <tbody>\n",
              "    <tr>\n",
              "      <th>82</th>\n",
              "      <td>3.9</td>\n",
              "      <td>1.2</td>\n",
              "    </tr>\n",
              "    <tr>\n",
              "      <th>134</th>\n",
              "      <td>5.6</td>\n",
              "      <td>1.4</td>\n",
              "    </tr>\n",
              "    <tr>\n",
              "      <th>114</th>\n",
              "      <td>5.1</td>\n",
              "      <td>2.4</td>\n",
              "    </tr>\n",
              "    <tr>\n",
              "      <th>42</th>\n",
              "      <td>1.3</td>\n",
              "      <td>0.2</td>\n",
              "    </tr>\n",
              "    <tr>\n",
              "      <th>109</th>\n",
              "      <td>6.1</td>\n",
              "      <td>2.5</td>\n",
              "    </tr>\n",
              "  </tbody>\n",
              "</table>\n",
              "</div>\n",
              "      <button class=\"colab-df-convert\" onclick=\"convertToInteractive('df-1bf9c796-8734-40ec-8bcf-a3f999de3bfe')\"\n",
              "              title=\"Convert this dataframe to an interactive table.\"\n",
              "              style=\"display:none;\">\n",
              "        \n",
              "  <svg xmlns=\"http://www.w3.org/2000/svg\" height=\"24px\"viewBox=\"0 0 24 24\"\n",
              "       width=\"24px\">\n",
              "    <path d=\"M0 0h24v24H0V0z\" fill=\"none\"/>\n",
              "    <path d=\"M18.56 5.44l.94 2.06.94-2.06 2.06-.94-2.06-.94-.94-2.06-.94 2.06-2.06.94zm-11 1L8.5 8.5l.94-2.06 2.06-.94-2.06-.94L8.5 2.5l-.94 2.06-2.06.94zm10 10l.94 2.06.94-2.06 2.06-.94-2.06-.94-.94-2.06-.94 2.06-2.06.94z\"/><path d=\"M17.41 7.96l-1.37-1.37c-.4-.4-.92-.59-1.43-.59-.52 0-1.04.2-1.43.59L10.3 9.45l-7.72 7.72c-.78.78-.78 2.05 0 2.83L4 21.41c.39.39.9.59 1.41.59.51 0 1.02-.2 1.41-.59l7.78-7.78 2.81-2.81c.8-.78.8-2.07 0-2.86zM5.41 20L4 18.59l7.72-7.72 1.47 1.35L5.41 20z\"/>\n",
              "  </svg>\n",
              "      </button>\n",
              "      \n",
              "  <style>\n",
              "    .colab-df-container {\n",
              "      display:flex;\n",
              "      flex-wrap:wrap;\n",
              "      gap: 12px;\n",
              "    }\n",
              "\n",
              "    .colab-df-convert {\n",
              "      background-color: #E8F0FE;\n",
              "      border: none;\n",
              "      border-radius: 50%;\n",
              "      cursor: pointer;\n",
              "      display: none;\n",
              "      fill: #1967D2;\n",
              "      height: 32px;\n",
              "      padding: 0 0 0 0;\n",
              "      width: 32px;\n",
              "    }\n",
              "\n",
              "    .colab-df-convert:hover {\n",
              "      background-color: #E2EBFA;\n",
              "      box-shadow: 0px 1px 2px rgba(60, 64, 67, 0.3), 0px 1px 3px 1px rgba(60, 64, 67, 0.15);\n",
              "      fill: #174EA6;\n",
              "    }\n",
              "\n",
              "    [theme=dark] .colab-df-convert {\n",
              "      background-color: #3B4455;\n",
              "      fill: #D2E3FC;\n",
              "    }\n",
              "\n",
              "    [theme=dark] .colab-df-convert:hover {\n",
              "      background-color: #434B5C;\n",
              "      box-shadow: 0px 1px 3px 1px rgba(0, 0, 0, 0.15);\n",
              "      filter: drop-shadow(0px 1px 2px rgba(0, 0, 0, 0.3));\n",
              "      fill: #FFFFFF;\n",
              "    }\n",
              "  </style>\n",
              "\n",
              "      <script>\n",
              "        const buttonEl =\n",
              "          document.querySelector('#df-1bf9c796-8734-40ec-8bcf-a3f999de3bfe button.colab-df-convert');\n",
              "        buttonEl.style.display =\n",
              "          google.colab.kernel.accessAllowed ? 'block' : 'none';\n",
              "\n",
              "        async function convertToInteractive(key) {\n",
              "          const element = document.querySelector('#df-1bf9c796-8734-40ec-8bcf-a3f999de3bfe');\n",
              "          const dataTable =\n",
              "            await google.colab.kernel.invokeFunction('convertToInteractive',\n",
              "                                                     [key], {});\n",
              "          if (!dataTable) return;\n",
              "\n",
              "          const docLinkHtml = 'Like what you see? Visit the ' +\n",
              "            '<a target=\"_blank\" href=https://colab.research.google.com/notebooks/data_table.ipynb>data table notebook</a>'\n",
              "            + ' to learn more about interactive tables.';\n",
              "          element.innerHTML = '';\n",
              "          dataTable['output_type'] = 'display_data';\n",
              "          await google.colab.output.renderOutput(dataTable, element);\n",
              "          const docLink = document.createElement('div');\n",
              "          docLink.innerHTML = docLinkHtml;\n",
              "          element.appendChild(docLink);\n",
              "        }\n",
              "      </script>\n",
              "    </div>\n",
              "  </div>\n",
              "  "
            ],
            "text/plain": [
              "     PetalLengthCm  PetalWidthCm\n",
              "82             3.9           1.2\n",
              "134            5.6           1.4\n",
              "114            5.1           2.4\n",
              "42             1.3           0.2\n",
              "109            6.1           2.5"
            ]
          },
          "execution_count": 83,
          "metadata": {},
          "output_type": "execute_result"
        }
      ],
      "source": [
        "df_with2attributes_test = df_with3attributes_test.copy()\n",
        "df_with2attributes_test.drop([\"SepalWidthCm\"], axis=1, inplace=True)\n",
        "df_with2attributes_test.head()"
      ]
    },
    {
      "cell_type": "code",
      "execution_count": null,
      "metadata": {
        "colab": {
          "base_uri": "https://localhost:8080/",
          "height": 204
        },
        "id": "Sc0I3qrYfHA-",
        "outputId": "7d55a9b2-a9a8-43ee-c3bf-e248b781f940"
      },
      "outputs": [
        {
          "data": {
            "text/html": [
              "\n",
              "  <div id=\"df-218554bd-3266-490f-9af2-e67bac3b5f96\">\n",
              "    <div class=\"colab-df-container\">\n",
              "      <div>\n",
              "<style scoped>\n",
              "    .dataframe tbody tr th:only-of-type {\n",
              "        vertical-align: middle;\n",
              "    }\n",
              "\n",
              "    .dataframe tbody tr th {\n",
              "        vertical-align: top;\n",
              "    }\n",
              "\n",
              "    .dataframe thead th {\n",
              "        text-align: right;\n",
              "    }\n",
              "</style>\n",
              "<table border=\"1\" class=\"dataframe\">\n",
              "  <thead>\n",
              "    <tr style=\"text-align: right;\">\n",
              "      <th></th>\n",
              "      <th>PetalLengthCm</th>\n",
              "      <th>PetalWidthCm</th>\n",
              "    </tr>\n",
              "  </thead>\n",
              "  <tbody>\n",
              "    <tr>\n",
              "      <th>39</th>\n",
              "      <td>0.217391</td>\n",
              "      <td>0.08</td>\n",
              "    </tr>\n",
              "    <tr>\n",
              "      <th>53</th>\n",
              "      <td>0.579710</td>\n",
              "      <td>0.52</td>\n",
              "    </tr>\n",
              "    <tr>\n",
              "      <th>79</th>\n",
              "      <td>0.507246</td>\n",
              "      <td>0.40</td>\n",
              "    </tr>\n",
              "    <tr>\n",
              "      <th>10</th>\n",
              "      <td>0.217391</td>\n",
              "      <td>0.08</td>\n",
              "    </tr>\n",
              "    <tr>\n",
              "      <th>50</th>\n",
              "      <td>0.681159</td>\n",
              "      <td>0.56</td>\n",
              "    </tr>\n",
              "  </tbody>\n",
              "</table>\n",
              "</div>\n",
              "      <button class=\"colab-df-convert\" onclick=\"convertToInteractive('df-218554bd-3266-490f-9af2-e67bac3b5f96')\"\n",
              "              title=\"Convert this dataframe to an interactive table.\"\n",
              "              style=\"display:none;\">\n",
              "        \n",
              "  <svg xmlns=\"http://www.w3.org/2000/svg\" height=\"24px\"viewBox=\"0 0 24 24\"\n",
              "       width=\"24px\">\n",
              "    <path d=\"M0 0h24v24H0V0z\" fill=\"none\"/>\n",
              "    <path d=\"M18.56 5.44l.94 2.06.94-2.06 2.06-.94-2.06-.94-.94-2.06-.94 2.06-2.06.94zm-11 1L8.5 8.5l.94-2.06 2.06-.94-2.06-.94L8.5 2.5l-.94 2.06-2.06.94zm10 10l.94 2.06.94-2.06 2.06-.94-2.06-.94-.94-2.06-.94 2.06-2.06.94z\"/><path d=\"M17.41 7.96l-1.37-1.37c-.4-.4-.92-.59-1.43-.59-.52 0-1.04.2-1.43.59L10.3 9.45l-7.72 7.72c-.78.78-.78 2.05 0 2.83L4 21.41c.39.39.9.59 1.41.59.51 0 1.02-.2 1.41-.59l7.78-7.78 2.81-2.81c.8-.78.8-2.07 0-2.86zM5.41 20L4 18.59l7.72-7.72 1.47 1.35L5.41 20z\"/>\n",
              "  </svg>\n",
              "      </button>\n",
              "      \n",
              "  <style>\n",
              "    .colab-df-container {\n",
              "      display:flex;\n",
              "      flex-wrap:wrap;\n",
              "      gap: 12px;\n",
              "    }\n",
              "\n",
              "    .colab-df-convert {\n",
              "      background-color: #E8F0FE;\n",
              "      border: none;\n",
              "      border-radius: 50%;\n",
              "      cursor: pointer;\n",
              "      display: none;\n",
              "      fill: #1967D2;\n",
              "      height: 32px;\n",
              "      padding: 0 0 0 0;\n",
              "      width: 32px;\n",
              "    }\n",
              "\n",
              "    .colab-df-convert:hover {\n",
              "      background-color: #E2EBFA;\n",
              "      box-shadow: 0px 1px 2px rgba(60, 64, 67, 0.3), 0px 1px 3px 1px rgba(60, 64, 67, 0.15);\n",
              "      fill: #174EA6;\n",
              "    }\n",
              "\n",
              "    [theme=dark] .colab-df-convert {\n",
              "      background-color: #3B4455;\n",
              "      fill: #D2E3FC;\n",
              "    }\n",
              "\n",
              "    [theme=dark] .colab-df-convert:hover {\n",
              "      background-color: #434B5C;\n",
              "      box-shadow: 0px 1px 3px 1px rgba(0, 0, 0, 0.15);\n",
              "      filter: drop-shadow(0px 1px 2px rgba(0, 0, 0, 0.3));\n",
              "      fill: #FFFFFF;\n",
              "    }\n",
              "  </style>\n",
              "\n",
              "      <script>\n",
              "        const buttonEl =\n",
              "          document.querySelector('#df-218554bd-3266-490f-9af2-e67bac3b5f96 button.colab-df-convert');\n",
              "        buttonEl.style.display =\n",
              "          google.colab.kernel.accessAllowed ? 'block' : 'none';\n",
              "\n",
              "        async function convertToInteractive(key) {\n",
              "          const element = document.querySelector('#df-218554bd-3266-490f-9af2-e67bac3b5f96');\n",
              "          const dataTable =\n",
              "            await google.colab.kernel.invokeFunction('convertToInteractive',\n",
              "                                                     [key], {});\n",
              "          if (!dataTable) return;\n",
              "\n",
              "          const docLinkHtml = 'Like what you see? Visit the ' +\n",
              "            '<a target=\"_blank\" href=https://colab.research.google.com/notebooks/data_table.ipynb>data table notebook</a>'\n",
              "            + ' to learn more about interactive tables.';\n",
              "          element.innerHTML = '';\n",
              "          dataTable['output_type'] = 'display_data';\n",
              "          await google.colab.output.renderOutput(dataTable, element);\n",
              "          const docLink = document.createElement('div');\n",
              "          docLink.innerHTML = docLinkHtml;\n",
              "          element.appendChild(docLink);\n",
              "        }\n",
              "      </script>\n",
              "    </div>\n",
              "  </div>\n",
              "  "
            ],
            "text/plain": [
              "    PetalLengthCm  PetalWidthCm\n",
              "39       0.217391          0.08\n",
              "53       0.579710          0.52\n",
              "79       0.507246          0.40\n",
              "10       0.217391          0.08\n",
              "50       0.681159          0.56"
            ]
          },
          "execution_count": 84,
          "metadata": {},
          "output_type": "execute_result"
        }
      ],
      "source": [
        "df_with2attributes_normalized = df_with2attributes / df_with2attributes.max()\n",
        "df_with2attributes_normalized.head()"
      ]
    },
    {
      "cell_type": "code",
      "execution_count": null,
      "metadata": {
        "colab": {
          "base_uri": "https://localhost:8080/",
          "height": 204
        },
        "id": "YHwzm4DGfKa0",
        "outputId": "83423ecf-50b3-4657-cd63-d80136269a05"
      },
      "outputs": [
        {
          "data": {
            "text/html": [
              "\n",
              "  <div id=\"df-cb977201-b3d5-4926-88c4-7639cb97ffb0\">\n",
              "    <div class=\"colab-df-container\">\n",
              "      <div>\n",
              "<style scoped>\n",
              "    .dataframe tbody tr th:only-of-type {\n",
              "        vertical-align: middle;\n",
              "    }\n",
              "\n",
              "    .dataframe tbody tr th {\n",
              "        vertical-align: top;\n",
              "    }\n",
              "\n",
              "    .dataframe thead th {\n",
              "        text-align: right;\n",
              "    }\n",
              "</style>\n",
              "<table border=\"1\" class=\"dataframe\">\n",
              "  <thead>\n",
              "    <tr style=\"text-align: right;\">\n",
              "      <th></th>\n",
              "      <th>PetalLengthCm</th>\n",
              "      <th>PetalWidthCm</th>\n",
              "    </tr>\n",
              "  </thead>\n",
              "  <tbody>\n",
              "    <tr>\n",
              "      <th>82</th>\n",
              "      <td>0.619048</td>\n",
              "      <td>0.48</td>\n",
              "    </tr>\n",
              "    <tr>\n",
              "      <th>134</th>\n",
              "      <td>0.888889</td>\n",
              "      <td>0.56</td>\n",
              "    </tr>\n",
              "    <tr>\n",
              "      <th>114</th>\n",
              "      <td>0.809524</td>\n",
              "      <td>0.96</td>\n",
              "    </tr>\n",
              "    <tr>\n",
              "      <th>42</th>\n",
              "      <td>0.206349</td>\n",
              "      <td>0.08</td>\n",
              "    </tr>\n",
              "    <tr>\n",
              "      <th>109</th>\n",
              "      <td>0.968254</td>\n",
              "      <td>1.00</td>\n",
              "    </tr>\n",
              "  </tbody>\n",
              "</table>\n",
              "</div>\n",
              "      <button class=\"colab-df-convert\" onclick=\"convertToInteractive('df-cb977201-b3d5-4926-88c4-7639cb97ffb0')\"\n",
              "              title=\"Convert this dataframe to an interactive table.\"\n",
              "              style=\"display:none;\">\n",
              "        \n",
              "  <svg xmlns=\"http://www.w3.org/2000/svg\" height=\"24px\"viewBox=\"0 0 24 24\"\n",
              "       width=\"24px\">\n",
              "    <path d=\"M0 0h24v24H0V0z\" fill=\"none\"/>\n",
              "    <path d=\"M18.56 5.44l.94 2.06.94-2.06 2.06-.94-2.06-.94-.94-2.06-.94 2.06-2.06.94zm-11 1L8.5 8.5l.94-2.06 2.06-.94-2.06-.94L8.5 2.5l-.94 2.06-2.06.94zm10 10l.94 2.06.94-2.06 2.06-.94-2.06-.94-.94-2.06-.94 2.06-2.06.94z\"/><path d=\"M17.41 7.96l-1.37-1.37c-.4-.4-.92-.59-1.43-.59-.52 0-1.04.2-1.43.59L10.3 9.45l-7.72 7.72c-.78.78-.78 2.05 0 2.83L4 21.41c.39.39.9.59 1.41.59.51 0 1.02-.2 1.41-.59l7.78-7.78 2.81-2.81c.8-.78.8-2.07 0-2.86zM5.41 20L4 18.59l7.72-7.72 1.47 1.35L5.41 20z\"/>\n",
              "  </svg>\n",
              "      </button>\n",
              "      \n",
              "  <style>\n",
              "    .colab-df-container {\n",
              "      display:flex;\n",
              "      flex-wrap:wrap;\n",
              "      gap: 12px;\n",
              "    }\n",
              "\n",
              "    .colab-df-convert {\n",
              "      background-color: #E8F0FE;\n",
              "      border: none;\n",
              "      border-radius: 50%;\n",
              "      cursor: pointer;\n",
              "      display: none;\n",
              "      fill: #1967D2;\n",
              "      height: 32px;\n",
              "      padding: 0 0 0 0;\n",
              "      width: 32px;\n",
              "    }\n",
              "\n",
              "    .colab-df-convert:hover {\n",
              "      background-color: #E2EBFA;\n",
              "      box-shadow: 0px 1px 2px rgba(60, 64, 67, 0.3), 0px 1px 3px 1px rgba(60, 64, 67, 0.15);\n",
              "      fill: #174EA6;\n",
              "    }\n",
              "\n",
              "    [theme=dark] .colab-df-convert {\n",
              "      background-color: #3B4455;\n",
              "      fill: #D2E3FC;\n",
              "    }\n",
              "\n",
              "    [theme=dark] .colab-df-convert:hover {\n",
              "      background-color: #434B5C;\n",
              "      box-shadow: 0px 1px 3px 1px rgba(0, 0, 0, 0.15);\n",
              "      filter: drop-shadow(0px 1px 2px rgba(0, 0, 0, 0.3));\n",
              "      fill: #FFFFFF;\n",
              "    }\n",
              "  </style>\n",
              "\n",
              "      <script>\n",
              "        const buttonEl =\n",
              "          document.querySelector('#df-cb977201-b3d5-4926-88c4-7639cb97ffb0 button.colab-df-convert');\n",
              "        buttonEl.style.display =\n",
              "          google.colab.kernel.accessAllowed ? 'block' : 'none';\n",
              "\n",
              "        async function convertToInteractive(key) {\n",
              "          const element = document.querySelector('#df-cb977201-b3d5-4926-88c4-7639cb97ffb0');\n",
              "          const dataTable =\n",
              "            await google.colab.kernel.invokeFunction('convertToInteractive',\n",
              "                                                     [key], {});\n",
              "          if (!dataTable) return;\n",
              "\n",
              "          const docLinkHtml = 'Like what you see? Visit the ' +\n",
              "            '<a target=\"_blank\" href=https://colab.research.google.com/notebooks/data_table.ipynb>data table notebook</a>'\n",
              "            + ' to learn more about interactive tables.';\n",
              "          element.innerHTML = '';\n",
              "          dataTable['output_type'] = 'display_data';\n",
              "          await google.colab.output.renderOutput(dataTable, element);\n",
              "          const docLink = document.createElement('div');\n",
              "          docLink.innerHTML = docLinkHtml;\n",
              "          element.appendChild(docLink);\n",
              "        }\n",
              "      </script>\n",
              "    </div>\n",
              "  </div>\n",
              "  "
            ],
            "text/plain": [
              "     PetalLengthCm  PetalWidthCm\n",
              "82        0.619048          0.48\n",
              "134       0.888889          0.56\n",
              "114       0.809524          0.96\n",
              "42        0.206349          0.08\n",
              "109       0.968254          1.00"
            ]
          },
          "execution_count": 85,
          "metadata": {},
          "output_type": "execute_result"
        }
      ],
      "source": [
        "df_with2attributes_test_normalized = df_with2attributes_test / df_with2attributes_test.max()\n",
        "df_with2attributes_test_normalized.head()"
      ]
    },
    {
      "cell_type": "code",
      "execution_count": null,
      "metadata": {
        "colab": {
          "base_uri": "https://localhost:8080/"
        },
        "id": "wgidBqkEfLqP",
        "outputId": "f86beb11-d43c-4d2d-f645-8a31ed1867bc"
      },
      "outputs": [
        {
          "name": "stdout",
          "output_type": "stream",
          "text": [
            "Training set\n",
            "                 precision    recall  f1-score   support\n",
            "\n",
            "    Iris-setosa       1.00      1.00      1.00        42\n",
            "Iris-versicolor       0.95      1.00      0.97        39\n",
            " Iris-virginica       1.00      0.95      0.97        39\n",
            "\n",
            "       accuracy                           0.98       120\n",
            "      macro avg       0.98      0.98      0.98       120\n",
            "   weighted avg       0.98      0.98      0.98       120\n",
            "\n",
            "Test set\n",
            "                 precision    recall  f1-score   support\n",
            "\n",
            "    Iris-setosa       1.00      1.00      1.00         8\n",
            "Iris-versicolor       0.91      0.91      0.91        11\n",
            " Iris-virginica       0.91      0.91      0.91        11\n",
            "\n",
            "       accuracy                           0.93        30\n",
            "      macro avg       0.94      0.94      0.94        30\n",
            "   weighted avg       0.93      0.93      0.93        30\n",
            "\n"
          ]
        }
      ],
      "source": [
        "TrainAndPredictValues(K=3, x_train=df_with2attributes, x_test=df_with2attributes_test)"
      ]
    },
    {
      "cell_type": "code",
      "execution_count": null,
      "metadata": {
        "colab": {
          "base_uri": "https://localhost:8080/"
        },
        "id": "J2VAlxHTfQO-",
        "outputId": "64f16707-6021-4d64-ade5-da0640e21cca"
      },
      "outputs": [
        {
          "name": "stdout",
          "output_type": "stream",
          "text": [
            "Training set\n",
            "                 precision    recall  f1-score   support\n",
            "\n",
            "    Iris-setosa       1.00      1.00      1.00        42\n",
            "Iris-versicolor       0.95      0.97      0.96        39\n",
            " Iris-virginica       0.97      0.95      0.96        39\n",
            "\n",
            "       accuracy                           0.97       120\n",
            "      macro avg       0.97      0.97      0.97       120\n",
            "   weighted avg       0.98      0.97      0.97       120\n",
            "\n",
            "Test set\n",
            "                 precision    recall  f1-score   support\n",
            "\n",
            "    Iris-setosa       1.00      1.00      1.00         8\n",
            "Iris-versicolor       0.91      0.91      0.91        11\n",
            " Iris-virginica       0.91      0.91      0.91        11\n",
            "\n",
            "       accuracy                           0.93        30\n",
            "      macro avg       0.94      0.94      0.94        30\n",
            "   weighted avg       0.93      0.93      0.93        30\n",
            "\n"
          ]
        }
      ],
      "source": [
        "TrainAndPredictValues(K=5, x_train=df_with2attributes, x_test=df_with2attributes_test)"
      ]
    },
    {
      "cell_type": "code",
      "execution_count": null,
      "metadata": {
        "colab": {
          "base_uri": "https://localhost:8080/"
        },
        "id": "B_d9atlUfS6n",
        "outputId": "7dfda885-b42d-4183-8d34-e7eb059039d9"
      },
      "outputs": [
        {
          "name": "stdout",
          "output_type": "stream",
          "text": [
            "Training set\n",
            "                 precision    recall  f1-score   support\n",
            "\n",
            "    Iris-setosa       1.00      1.00      1.00        42\n",
            "Iris-versicolor       0.95      0.95      0.95        39\n",
            " Iris-virginica       0.95      0.95      0.95        39\n",
            "\n",
            "       accuracy                           0.97       120\n",
            "      macro avg       0.97      0.97      0.97       120\n",
            "   weighted avg       0.97      0.97      0.97       120\n",
            "\n",
            "Test set\n",
            "                 precision    recall  f1-score   support\n",
            "\n",
            "    Iris-setosa       1.00      1.00      1.00         8\n",
            "Iris-versicolor       0.91      0.91      0.91        11\n",
            " Iris-virginica       0.91      0.91      0.91        11\n",
            "\n",
            "       accuracy                           0.93        30\n",
            "      macro avg       0.94      0.94      0.94        30\n",
            "   weighted avg       0.93      0.93      0.93        30\n",
            "\n"
          ]
        }
      ],
      "source": [
        "TrainAndPredictValues(K=7, x_train=df_with2attributes, x_test=df_with2attributes_test)"
      ]
    },
    {
      "cell_type": "code",
      "execution_count": null,
      "metadata": {
        "colab": {
          "base_uri": "https://localhost:8080/"
        },
        "id": "h0wR2ZjifVkY",
        "outputId": "f38c6d3d-440b-4b90-9a59-7577035bd554"
      },
      "outputs": [
        {
          "name": "stdout",
          "output_type": "stream",
          "text": [
            "Training set\n",
            "                 precision    recall  f1-score   support\n",
            "\n",
            "    Iris-setosa       1.00      1.00      1.00        42\n",
            "Iris-versicolor       0.97      0.95      0.96        39\n",
            " Iris-virginica       0.95      0.97      0.96        39\n",
            "\n",
            "       accuracy                           0.97       120\n",
            "      macro avg       0.97      0.97      0.97       120\n",
            "   weighted avg       0.98      0.97      0.97       120\n",
            "\n",
            "Test set\n",
            "                 precision    recall  f1-score   support\n",
            "\n",
            "    Iris-setosa       1.00      1.00      1.00         8\n",
            "Iris-versicolor       1.00      0.82      0.90        11\n",
            " Iris-virginica       0.85      1.00      0.92        11\n",
            "\n",
            "       accuracy                           0.93        30\n",
            "      macro avg       0.95      0.94      0.94        30\n",
            "   weighted avg       0.94      0.93      0.93        30\n",
            "\n"
          ]
        }
      ],
      "source": [
        "TrainAndPredictValues(K=9, x_train=df_with3attributes, x_test=df_with3attributes_test)"
      ]
    },
    {
      "cell_type": "code",
      "execution_count": null,
      "metadata": {
        "colab": {
          "base_uri": "https://localhost:8080/"
        },
        "id": "ty8D5QtafViQ",
        "outputId": "05df7519-1e5e-41e4-a494-4368af2182e7"
      },
      "outputs": [
        {
          "name": "stdout",
          "output_type": "stream",
          "text": [
            "Training set\n",
            "                 precision    recall  f1-score   support\n",
            "\n",
            "    Iris-setosa       1.00      1.00      1.00        42\n",
            "Iris-versicolor       0.97      0.95      0.96        39\n",
            " Iris-virginica       0.95      0.97      0.96        39\n",
            "\n",
            "       accuracy                           0.97       120\n",
            "      macro avg       0.97      0.97      0.97       120\n",
            "   weighted avg       0.98      0.97      0.97       120\n",
            "\n",
            "Test set\n",
            "                 precision    recall  f1-score   support\n",
            "\n",
            "    Iris-setosa       1.00      1.00      1.00         8\n",
            "Iris-versicolor       1.00      0.91      0.95        11\n",
            " Iris-virginica       0.92      1.00      0.96        11\n",
            "\n",
            "       accuracy                           0.97        30\n",
            "      macro avg       0.97      0.97      0.97        30\n",
            "   weighted avg       0.97      0.97      0.97        30\n",
            "\n"
          ]
        }
      ],
      "source": [
        "TrainAndPredictValues(K=11, x_train=df_with3attributes, x_test=df_with3attributes_test)"
      ]
    },
    {
      "cell_type": "markdown",
      "metadata": {
        "id": "JzqrOP00fbpb"
      },
      "source": [
        "Datos sin normalizar: \n",
        "\n",
        "Con 11 vecinos se encuentra un rendimiento parecido a los datos con 4 variables con las metricas de rendimiento."
      ]
    },
    {
      "cell_type": "code",
      "execution_count": null,
      "metadata": {
        "colab": {
          "base_uri": "https://localhost:8080/"
        },
        "id": "EUyDTBaFfjQu",
        "outputId": "c36f6a12-6f7e-4ba1-f820-bba105c4a697"
      },
      "outputs": [
        {
          "name": "stdout",
          "output_type": "stream",
          "text": [
            "Training set\n",
            "                 precision    recall  f1-score   support\n",
            "\n",
            "    Iris-setosa       1.00      1.00      1.00        42\n",
            "Iris-versicolor       0.97      0.97      0.97        39\n",
            " Iris-virginica       0.97      0.97      0.97        39\n",
            "\n",
            "       accuracy                           0.98       120\n",
            "      macro avg       0.98      0.98      0.98       120\n",
            "   weighted avg       0.98      0.98      0.98       120\n",
            "\n",
            "Test set\n",
            "                 precision    recall  f1-score   support\n",
            "\n",
            "    Iris-setosa       1.00      1.00      1.00         8\n",
            "Iris-versicolor       1.00      1.00      1.00        11\n",
            " Iris-virginica       1.00      1.00      1.00        11\n",
            "\n",
            "       accuracy                           1.00        30\n",
            "      macro avg       1.00      1.00      1.00        30\n",
            "   weighted avg       1.00      1.00      1.00        30\n",
            "\n"
          ]
        }
      ],
      "source": [
        "TrainAndPredictValues(K=3, x_train=df_with3attributes_normalized, x_test=df_with3attributes_test_normalized)"
      ]
    },
    {
      "cell_type": "code",
      "execution_count": null,
      "metadata": {
        "colab": {
          "base_uri": "https://localhost:8080/"
        },
        "id": "v5yg4FySfl2j",
        "outputId": "95910fc1-6fe1-4743-899b-b86bbcf376d4"
      },
      "outputs": [
        {
          "name": "stdout",
          "output_type": "stream",
          "text": [
            "Training set\n",
            "                 precision    recall  f1-score   support\n",
            "\n",
            "    Iris-setosa       1.00      1.00      1.00        42\n",
            "Iris-versicolor       0.95      0.97      0.96        39\n",
            " Iris-virginica       0.97      0.95      0.96        39\n",
            "\n",
            "       accuracy                           0.97       120\n",
            "      macro avg       0.97      0.97      0.97       120\n",
            "   weighted avg       0.98      0.97      0.97       120\n",
            "\n",
            "Test set\n",
            "                 precision    recall  f1-score   support\n",
            "\n",
            "    Iris-setosa       1.00      1.00      1.00         8\n",
            "Iris-versicolor       1.00      0.91      0.95        11\n",
            " Iris-virginica       0.92      1.00      0.96        11\n",
            "\n",
            "       accuracy                           0.97        30\n",
            "      macro avg       0.97      0.97      0.97        30\n",
            "   weighted avg       0.97      0.97      0.97        30\n",
            "\n"
          ]
        }
      ],
      "source": [
        "TrainAndPredictValues(K=5, x_train=df_with3attributes_normalized, x_test=df_with3attributes_test_normalized)"
      ]
    },
    {
      "cell_type": "code",
      "execution_count": null,
      "metadata": {
        "colab": {
          "base_uri": "https://localhost:8080/"
        },
        "id": "HnCDRUaHfoUd",
        "outputId": "afdc8d3e-a685-4b17-bec2-3603935e5a55"
      },
      "outputs": [
        {
          "name": "stdout",
          "output_type": "stream",
          "text": [
            "Training set\n",
            "                 precision    recall  f1-score   support\n",
            "\n",
            "    Iris-setosa       1.00      1.00      1.00        42\n",
            "Iris-versicolor       0.97      0.97      0.97        39\n",
            " Iris-virginica       0.97      0.97      0.97        39\n",
            "\n",
            "       accuracy                           0.98       120\n",
            "      macro avg       0.98      0.98      0.98       120\n",
            "   weighted avg       0.98      0.98      0.98       120\n",
            "\n",
            "Test set\n",
            "                 precision    recall  f1-score   support\n",
            "\n",
            "    Iris-setosa       1.00      1.00      1.00         8\n",
            "Iris-versicolor       0.91      0.91      0.91        11\n",
            " Iris-virginica       0.91      0.91      0.91        11\n",
            "\n",
            "       accuracy                           0.93        30\n",
            "      macro avg       0.94      0.94      0.94        30\n",
            "   weighted avg       0.93      0.93      0.93        30\n",
            "\n"
          ]
        }
      ],
      "source": [
        "TrainAndPredictValues(K=9, x_train=df_with3attributes_normalized, x_test=df_with3attributes_test_normalized)"
      ]
    },
    {
      "cell_type": "markdown",
      "metadata": {
        "id": "I-TUIUes269i"
      },
      "source": [
        "## **Ejercicio 8.**\n",
        "\n",
        "¿Qué valores puede tomar el hiperparámetro metric? ¿Cuál es la distancia que utiliza por defecto el clasificador KNN?\n",
        "¿Qué valores puede tomar el hiperparámetro weight y cuál podría ser su utilidad?"
      ]
    },
    {
      "cell_type": "markdown",
      "metadata": {
        "id": "LzWLPHbi74kt"
      },
      "source": [
        "El hiperparametro 'metric' puede tomar los valores de: ‘euclidean’, ‘manhattan’, ‘minkowski’\n",
        "\n",
        "La distancia que utiliza por defecto el clasificador KNN es la distancia euclideana\n",
        "\n",
        "El hiperparametro 'weights' puede tomar los valores de: ‘uniform’, ‘distance’\n",
        "\n",
        "La utilidad de este hiperparametro es que puede dar mayor peso a los vecinos mas cercanos "
      ]
    },
    {
      "cell_type": "markdown",
      "metadata": {
        "id": "gBAjBA-w5wFn"
      },
      "source": [
        "# **FIN**"
      ]
    },
    {
      "cell_type": "markdown",
      "metadata": {
        "id": "x5nXQKkD269j"
      },
      "source": [
        "# **Metodología**\n",
        "\n",
        "1. Desarrolle las Preguntas propuestas en el Taller 3 de forma individual.\n",
        "\n",
        "2. Después de la sesión de Taller 3, suba a Intu el archivo con la solución a las preguntas con nombre en el siguiente formato:\n",
        "\n",
        "Taller_3_Apellido-Nombre.ipynb\n",
        "\n",
        "3. Resuelva los Ejercicios Propuestos (en grupos de máximo 2 personas) en un nuevo notebook de Jupyter y suba el archivo a Intu hasta el próximo miércoles 21 de septiembre a las 7:00 am (antes del inicio de la clase). Utilice el siguiente formato para el nombre del archivo.\n",
        "\n",
        "Ejercicios_Taller_2_Apellido-Nombre_Apellido-Nombre.ipynb\n",
        "\n",
        "4.\tRecuerde consignar los nombres de los integrantes dentro del notebook.\n",
        "\n",
        "5.\tAlgunos grupos serán llamados al azar durante la clase del miércoles 21 de septiembre para realizar la presentación de alguno (s) de los puntos.\n",
        "\n",
        "6. La nota del Taller 3 se asignará así:\n",
        "\n",
        "- Preguntas Taller 2 (20%)\n",
        "\n",
        "- Ejercicios Taller 2 (80%)\n"
      ]
    }
  ],
  "metadata": {
    "colab": {
      "collapsed_sections": [],
      "provenance": []
    },
    "kernelspec": {
      "display_name": "Python 3.10.4 64-bit",
      "language": "python",
      "name": "python3"
    },
    "language_info": {
      "codemirror_mode": {
        "name": "ipython",
        "version": 3
      },
      "file_extension": ".py",
      "mimetype": "text/x-python",
      "name": "python",
      "nbconvert_exporter": "python",
      "pygments_lexer": "ipython3",
      "version": "3.10.4"
    },
    "vscode": {
      "interpreter": {
        "hash": "aee8b7b246df8f9039afb4144a1f6fd8d2ca17a180786b69acc140d282b71a49"
      }
    }
  },
  "nbformat": 4,
  "nbformat_minor": 0
}
